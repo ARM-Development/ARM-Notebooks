{
 "cells": [
  {
   "cell_type": "markdown",
   "id": "f61364a3-c225-48d3-a428-9613da2e86f8",
   "metadata": {},
   "source": [
    "# ESMAC: Generate a 1-D Historgram Plot\n",
    "---"
   ]
  },
  {
   "cell_type": "markdown",
   "id": "5fc6baed-322b-40f5-b03a-10a428a001af",
   "metadata": {},
   "source": [
    "<b>Setup dependencies:</b>"
   ]
  },
  {
   "cell_type": "code",
   "execution_count": 1,
   "id": "7ff01b98-bfae-4edb-9b93-f4b6306af12c",
   "metadata": {},
   "outputs": [
    {
     "name": "stderr",
     "output_type": "stream",
     "text": [
      "Matplotlib created a temporary config/cache directory at /tmp/matplotlib-cadr_2ud because the default path (/home/jovyan/.cache/matplotlib) is not a writable directory; it is highly recommended to set the MPLCONFIGDIR environment variable to a writable directory, in particular to speed up the import of Matplotlib and to better support multiprocessing.\n"
     ]
    }
   ],
   "source": [
    "\n",
    "import os\n",
    "import numpy as np\n",
    "import xarray as xr\n",
    "import pandas as pd\n",
    "\n",
    "# these sys settings are just for the jupyterhub demo\n",
    "import sys\n",
    "sys.path.append('/home/'+os.environ['USER']+'/.local/lib/python3.9/site-packages')\n",
    "\n",
    "import esmac_diags.plotting.plot_esmac_diags as plot\n",
    "\n"
   ]
  },
  {
   "cell_type": "markdown",
   "id": "7fa556ff-5193-4001-a02e-1eb4bc3712e1",
   "metadata": {},
   "source": [
    "\n",
    "<br>\n",
    "<b>Configure settings:</b>"
   ]
  },
  {
   "cell_type": "code",
   "execution_count": 2,
   "id": "c16b4608-78ab-4690-bdb3-601f21d1d98f",
   "metadata": {},
   "outputs": [],
   "source": [
    "# set site name.\n",
    "site = 'HISCALE'\n",
    "\n",
    "# path of prepared files\n",
    "\n",
    "data_path = '~/ARM-Notebooks/Open-Science-Workshop-2022/tutorials/ESMAC_diags/ESMAC_Diags_testcase/prep_data/'\n",
    "\n",
    "prep_model_path = data_path +site+'/model/'\n",
    "prep_obs_path = data_path +site+'/surface/'\n",
    "prep_obs_path_2 = data_path +site+'/satellite/'\n",
    "# set output path for plots\n",
    "figpath= '~/ARM-Notebooks/Open-Science-Workshop-2022/tutorials/ESMAC_diags/ESMAC_Diags_testcase/figures/'+site+'/surface/'\n",
    "\n",
    "\n"
   ]
  },
  {
   "cell_type": "markdown",
   "id": "d5c08274-fcc4-4d1b-8f35-87dad3bf9194",
   "metadata": {},
   "source": [
    "<br>\n",
    "<b>Read in data:</b>"
   ]
  },
  {
   "cell_type": "code",
   "execution_count": 3,
   "id": "ca14a411-f693-4e71-a523-932dd76f2f60",
   "metadata": {},
   "outputs": [],
   "source": [
    "\n",
    "filename = prep_obs_path + 'cod_'+site+'.nc'\n",
    "obsdata = xr.open_dataset(filename)\n",
    "time_arm = obsdata['time'].load()\n",
    "cod_arm = obsdata['cod'].load()\n",
    "obsdata.close()\n",
    "\n",
    "filename = prep_obs_path_2 + 'cod_VISSTgrid_'+site+'.nc'\n",
    "satdata = xr.open_dataset(filename)\n",
    "time_sat = satdata['time'].load()\n",
    "cod_sat = satdata['cod'].load()\n",
    "satdata.close()\n",
    "\n",
    "filename = prep_model_path + 'E3SMv1_'+site+'_sfc.nc'\n",
    "modeldata = xr.open_dataset(filename)\n",
    "time_m1 = modeldata['time'].load()\n",
    "cod_e3sm1 = modeldata['cod'].load()\n",
    "modeldata.close()\n",
    "\n",
    "filename = prep_model_path + 'E3SMv2_'+site+'_sfc.nc'\n",
    "modeldata = xr.open_dataset(filename)\n",
    "time_m2 = modeldata['time'].load()\n",
    "cod_e3sm2 = modeldata['cod'].load()\n",
    "modeldata.close()\n",
    "\n"
   ]
  },
  {
   "cell_type": "markdown",
   "id": "03b2ba7b-4438-4527-b95c-3da89c086658",
   "metadata": {},
   "source": [
    "<br>\n",
    "<b>Specific data treatment:</b>"
   ]
  },
  {
   "cell_type": "code",
   "execution_count": 4,
   "id": "08ee685b-9e8c-42d6-96db-b42269e061bd",
   "metadata": {},
   "outputs": [],
   "source": [
    "IOP=''\n",
    "# trim for the same time period\n",
    "IOP = 'IOP1'\n",
    "time1 = np.datetime64('2016-04-25')\n",
    "time2 = np.datetime64('2016-05-22')\n",
    "time = pd.date_range(start='2016-04-25', end='2016-05-22', freq=\"H\")\n",
    "# IOP = 'IOP2'\n",
    "# time1 = np.datetime64('2016-08-28')\n",
    "# time2 = np.datetime64('2016-09-23')\n",
    "# time = pd.date_range(start='2016-08-28', end='2016-09-23', freq=\"H\")\n",
    "\n",
    "cod_arm = cod_arm[np.logical_and(time_arm>=time1, time_arm<=time2)]\n",
    "cod_sat = cod_sat[np.logical_and(time_sat>=time1, time_sat<=time2)]\n",
    "cod_e3sm1 = cod_e3sm1[np.logical_and(time_m1>=time1, time_m1<=time2)]\n",
    "cod_e3sm2 = cod_e3sm2[np.logical_and(time_m2>=time1, time_m2<=time2)]\n",
    "\n",
    "minval = 1\n",
    "cod_arm[cod_arm<minval] = np.nan\n",
    "cod_sat[cod_sat<minval] = np.nan\n",
    "cod_e3sm1[cod_e3sm1<minval] = np.nan\n",
    "cod_e3sm2[cod_e3sm2<minval] = np.nan\n",
    "\n"
   ]
  },
  {
   "cell_type": "markdown",
   "id": "53abb341-19a1-4c79-b786-59dc2a2ba782",
   "metadata": {},
   "source": [
    "<br>\n",
    "<b>Output Plot:</b>"
   ]
  },
  {
   "cell_type": "code",
   "execution_count": 5,
   "id": "ec0a8af6-0182-4a61-b10a-0bcd0c854e82",
   "metadata": {},
   "outputs": [
    {
     "data": {
      "image/png": "[encoded data removed]",
      "text/plain": [
       "<Figure size 576x360 with 1 Axes>"
      ]
     },
     "metadata": {
      "needs_background": "light"
     },
     "output_type": "display_data"
    }
   ],
   "source": [
    "#%%%%%%%%%%%%%%%%%%%%%%%%%%%%%%%%%%%%%%\n",
    "# output plot\n",
    "if not os.path.exists(figpath):\n",
    "    os.makedirs(figpath)\n",
    "\n",
    "w1 = np.ones_like(cod_arm)/sum(~np.isnan(cod_arm.data))\n",
    "w2 = np.ones_like(cod_sat)/sum(~np.isnan(cod_sat.data))\n",
    "w3 = np.ones_like(cod_e3sm1)/sum(~np.isnan(cod_e3sm1.data))\n",
    "w4 = np.ones_like(cod_e3sm2)/sum(~np.isnan(cod_e3sm2.data))\n",
    "fig,ax = plot.hist([cod_arm, cod_sat, cod_e3sm1, cod_e3sm2], bins=np.arange(0,66,5), weights=[w1, w2, w3, w4], \\\n",
    "                   legend=['MFRSR','VISST', 'E3SMv1', 'E3SMv2'], color=['k','gray','r','b'],\n",
    "                   xlabel='CLoud Optical Depth (N/A)', ylabel='Fraction', title=None)\n",
    "\n",
    "\n",
    "#fig.savefig(figpath+'hist_cod_'+site+'_'+IOP+'.png',dpi=fig.dpi,bbox_inches='tight', pad_inches=1)\n",
    "\n",
    "\n",
    "\n",
    "\n",
    "# show figures in interactive commandline screen\n",
    "import matplotlib.pyplot as plt\n",
    "plt.show()   "
   ]
  }
 ],
 "metadata": {
  "kernelspec": {
   "display_name": "Python 3 (ipykernel)",
   "language": "python",
   "name": "python3"
  },
  "language_info": {
   "codemirror_mode": {
    "name": "ipython",
    "version": 3
   },
   "file_extension": ".py",
   "mimetype": "text/x-python",
   "name": "python",
   "nbconvert_exporter": "python",
   "pygments_lexer": "ipython3",
   "version": "3.10.4"
  }
 },
 "nbformat": 4,
 "nbformat_minor": 5
}
