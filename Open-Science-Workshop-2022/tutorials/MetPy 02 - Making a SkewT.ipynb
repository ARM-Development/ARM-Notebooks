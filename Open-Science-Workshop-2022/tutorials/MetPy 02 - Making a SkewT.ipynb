{
 "cells": [
  {
   "cell_type": "markdown",
   "id": "f0cba860-016a-4811-a1a5-6550fab47680",
   "metadata": {
    "tags": []
   },
   "source": [
    "<img src=\"https://github.com/Unidata/MetPy/raw/main/docs/_static/metpy_150x150.png\" width=150 alt=\"MetPy logo\"></img>\n",
    "<img src=\"https://github.com/Unidata/MetPy/raw/main/docs/_static/unidata_150x150.png\" width=150 alt=\"Unidata logo\"></img>\n",
    "\n",
    "# MetPy Tutorial - Making a Skew-T!\n",
    "---"
   ]
  },
  {
   "cell_type": "markdown",
   "id": "9e4d393a-b926-480e-b2fa-cfa0fbcb64d2",
   "metadata": {},
   "source": [
    "## Obtain upper air data\n",
    "\n",
    "Upper air observations are generally reported as a plain text file in a tabular format that represents the down sampled raw data transmitted by the rawinsonde. Data are reported an mandatory levels and at levels of significant change. An example of sounding data may look like this:\n",
    "\n",
    "```\n",
    "-----------------------------------------------------------------------------\n",
    "   PRES   HGHT   TEMP   DWPT   RELH   MIXR   DRCT   SKNT   THTA   THTE   THTV\n",
    "    hPa     m      C      C      %    g/kg    deg   knot     K      K      K \n",
    "-----------------------------------------------------------------------------\n",
    " 1000.0    270                                                               \n",
    "  991.0    345   -0.3   -2.8     83   3.15      0      0  273.6  282.3  274.1\n",
    "  984.0    403   10.2   -7.8     27   2.17    327      4  284.7  291.1  285.0\n",
    "  963.0    581   11.8   -9.2     22   1.99    226     17  288.0  294.1  288.4\n",
    "  959.7    610   11.6   -9.4     22   1.96    210     19  288.1  294.1  288.5\n",
    "  ```\n",
    "  \n",
    "Data are available to download from the [University of Wyoming archive](http://weather.uwyo.edu/upperair/sounding.html), the [Iowa State archive](https://mesonet.agron.iastate.edu/archive/raob/), and the [Integrated Global Radiosonde Archive (IGRA)](https://www.ncdc.noaa.gov/data-access/weather-balloon/integrated-global-radiosonde-archive). **There is no need to download data manually.** We can use the siphon library (also developed at Unidata) to request and download these data. Be sure to checkout the [documentation](https://unidata.github.io/siphon/latest/api/index.html) on all of siphon's capabilities."
   ]
  },
  {
   "cell_type": "markdown",
   "id": "3673edbe-5519-4afe-9e52-cdd265549fdd",
   "metadata": {
    "tags": []
   },
   "source": [
    "---\n",
    "## Imports"
   ]
  },
  {
   "cell_type": "code",
   "execution_count": null,
   "id": "6e161100-8914-49b9-81c9-64110085f9be",
   "metadata": {},
   "outputs": [],
   "source": [
    "from datetime import datetime\n",
    "import os\n",
    "os.environ['TEST_DATA_DIR']=\"/tmp\" # for metpy to grab data on the jupyterhub\n",
    "os.environ['MPLCONFIGDIR']=\"/tmp\" # for matplotlib on jupyterhub\n",
    "\n",
    "import matplotlib.pyplot as plt\n",
    "import metpy.calc as mpcalc\n",
    "\n",
    "from metpy.plots import SkewT\n",
    "from metpy.units import units, pandas_dataframe_to_unit_arrays\n",
    "from siphon.simplewebservice.wyoming import WyomingUpperAir"
   ]
  },
  {
   "cell_type": "markdown",
   "id": "d4f6f07f-e7ed-4538-97ab-2641a1c7ff1a",
   "metadata": {},
   "source": [
    "### Getting our data\n",
    "First, we need to create a `datetime` object that has the time of observation we are looking for. We can then request the data for a specific station. Note that if you provide an invalid time or station where no sounding data are present you will receive an error."
   ]
  },
  {
   "cell_type": "code",
   "execution_count": null,
   "id": "373e65e0-6a0a-4fe2-a6ac-2678905b4889",
   "metadata": {},
   "outputs": [],
   "source": [
    "request_time = datetime(1999, 5, 3, 12)\n",
    "\n",
    "#station = 'OUN'\n",
    "station = '72357'\n",
    "\n",
    "df = WyomingUpperAir.request_data(request_time, station)\n",
    "df.head()"
   ]
  },
  {
   "cell_type": "markdown",
   "id": "e4661dc2-3a4e-4faa-9d6b-47741b352383",
   "metadata": {},
   "source": [
    "We got a Pandas dataframe back, which is great. Sadly, Pandas does not play well with units, so we need to attach units and make some other kind of data structure. We've provided a helper function for this - it takes the dataframe with our special `.units` attribute and returns a dictionary where the keys are column (data series) names and the values are united arrays. This means we can still use the dictionary access syntax and mostly forget that it is not a data frame any longer.\n",
    "\n",
    "Fist, let's look at the special attribute siphon added:"
   ]
  },
  {
   "cell_type": "code",
   "execution_count": null,
   "id": "2d516418-2a6d-4d76-a30f-48110b760956",
   "metadata": {},
   "outputs": [],
   "source": [
    "df.units"
   ]
  },
  {
   "cell_type": "markdown",
   "id": "d4585f74-cf7a-4e71-91d9-2b10c80c25db",
   "metadata": {},
   "source": [
    "Now let's get units attached using MetPy's pandas unit helper."
   ]
  },
  {
   "cell_type": "code",
   "execution_count": null,
   "id": "715248a3-f828-453f-8034-4b9dabeee9f1",
   "metadata": {},
   "outputs": [],
   "source": [
    "sounding = pandas_dataframe_to_unit_arrays(df)\n",
    "sounding"
   ]
  },
  {
   "cell_type": "markdown",
   "id": "70f06743-c01e-4598-85d4-67adad527f2d",
   "metadata": {},
   "source": [
    "This helper will take each column of our dataframe, create an appropiate Pint Quantity with units, and stuff it into a Python dictionary. Recall accessing any one of these using the original names of the columns and Python's dictionary notation,"
   ]
  },
  {
   "cell_type": "code",
   "execution_count": null,
   "id": "2d6f0548-fd4d-4337-9a2b-7a0bba4f015f",
   "metadata": {},
   "outputs": [],
   "source": [
    "sounding['pressure']"
   ]
  },
  {
   "cell_type": "markdown",
   "id": "6f7df037-cb7b-456d-b960-4d072f97e6e3",
   "metadata": {},
   "source": [
    "---\n",
    "## Creating a Skew-T\n",
    "For this, we will be relying on `metpy.plots.SkewT`. With this we can specify a brand new Matplotlib figure and then Skew-ify it!"
   ]
  },
  {
   "cell_type": "code",
   "execution_count": null,
   "id": "0e952dbf-0a76-4511-892c-30c6b0eb187a",
   "metadata": {},
   "outputs": [],
   "source": [
    "# Create a new figure. The dimensions here give a good aspect ratio\n",
    "fig = plt.figure(figsize=(10, 10))\n",
    "skew = SkewT(fig)"
   ]
  },
  {
   "cell_type": "markdown",
   "id": "a8bea173-882f-4784-9511-de08347de4cf",
   "metadata": {},
   "source": [
    "With our new `skew` object, we have access to many of our usual Matplotlib plotting methods,"
   ]
  },
  {
   "cell_type": "code",
   "execution_count": null,
   "id": "50d4e594-becd-42c7-87f2-8deb8284a1a3",
   "metadata": {},
   "outputs": [],
   "source": [
    "# Plot the data using normal plotting functions, all of the transforms\n",
    "# happen in the background!\n",
    "skew.plot(sounding['pressure'], sounding['temperature'], color='tab:red')\n",
    "\n",
    "# Redisplay the figure\n",
    "fig"
   ]
  },
  {
   "cell_type": "code",
   "execution_count": null,
   "id": "2ae926e0-3c0c-4151-bce4-970f785eb66e",
   "metadata": {},
   "outputs": [],
   "source": [
    "skew.ax.axvline(0 * units.degC, color='tab:cyan', linestyle='--')\n",
    "# Check out skew.ax.axhline for lines of constant pressure!\n",
    "# Useful for denoting important levels\n",
    "\n",
    "fig"
   ]
  },
  {
   "cell_type": "code",
   "execution_count": null,
   "id": "c504ab19-aea3-4a1c-928b-02dc2fce53d7",
   "metadata": {},
   "outputs": [],
   "source": [
    "skew.ax.set_ylim(1050,100)\n",
    "skew.ax.set_xlim(-50,20)\n",
    "\n",
    "fig"
   ]
  },
  {
   "cell_type": "markdown",
   "id": "3f210ab1-a04c-4cd6-9693-d3bd228c0060",
   "metadata": {},
   "source": [
    "as well as a few unique methods that MetPy provides to make a great Skew-T."
   ]
  },
  {
   "cell_type": "code",
   "execution_count": null,
   "id": "733ece1c-6c1c-4323-b689-477abd5d68f6",
   "metadata": {},
   "outputs": [],
   "source": [
    "skew.plot_dry_adiabats()\n",
    "\n",
    "fig"
   ]
  },
  {
   "cell_type": "code",
   "execution_count": null,
   "id": "dd4ed957-2856-4a21-a262-7e6fab8bde56",
   "metadata": {},
   "outputs": [],
   "source": [
    "dir(skew)"
   ]
  },
  {
   "cell_type": "markdown",
   "id": "93cd6e6a-07f3-4d62-b3cb-8c79b4ec0847",
   "metadata": {},
   "source": [
    "(try the Tab key!)"
   ]
  },
  {
   "cell_type": "markdown",
   "id": "17148e57-2f11-434f-ad1a-34b0f722decd",
   "metadata": {},
   "source": [
    "---\n",
    "## Calculate a new quantity"
   ]
  },
  {
   "cell_type": "code",
   "execution_count": null,
   "id": "44a98a0c-1d01-4864-be21-25302e26355e",
   "metadata": {},
   "outputs": [],
   "source": [
    "mpcalc.parcel_profile?"
   ]
  },
  {
   "cell_type": "code",
   "execution_count": null,
   "id": "ec82c69c-8867-4ac9-95f9-baa9d7dbb80d",
   "metadata": {},
   "outputs": [],
   "source": [
    "sounding['profile'] = mpcalc.parcel_profile(sounding['pressure'],\n",
    "                                            sounding['temperature'][0],\n",
    "                                            sounding['dewpoint'][0])"
   ]
  },
  {
   "cell_type": "code",
   "execution_count": null,
   "id": "f218bb99-2331-4489-a94d-e7119e467870",
   "metadata": {},
   "outputs": [],
   "source": [
    "skew.plot(sounding['pressure'], sounding['profile'], color='black')\n",
    "\n",
    "fig"
   ]
  },
  {
   "cell_type": "markdown",
   "id": "637448bf-f395-494e-9d1a-4ec50ae544c5",
   "metadata": {},
   "source": [
    "---\n",
    "## Visualizing CAPE"
   ]
  },
  {
   "cell_type": "code",
   "execution_count": null,
   "id": "76c3ec08-530c-4944-80c3-92fbe8347514",
   "metadata": {},
   "outputs": [],
   "source": [
    "skew.shade_cape(sounding['pressure'], sounding['temperature'], sounding['profile'])\n",
    "\n",
    "fig"
   ]
  },
  {
   "cell_type": "markdown",
   "id": "f517fc62-1d18-4556-8952-d860720cd049",
   "metadata": {},
   "source": [
    "<div class=\"alert alert-success\">\n",
    "    Reminder, <b><a href=\"https://unidata.github.io/MetPy/latest/api/generated/metpy.plots.SkewT.html\">here</a></b> is the MetPy <code>SkewT</code> documentation!\n",
    "    <br><br>\n",
    "    <b>EXERCISE</b>: Working with our existing SkewT\n",
    "     <ol>\n",
    "         <li>Plot the <code>dewpoint</code> quantity from our <code>sounding</code></li>\n",
    "         <li>Plot moist adiabats and mixing ratio lines in the background using sensible defaults.</li>\n",
    "         <li>Our profile got awfully cut off! Alter our plot x-limits to something more sensible.</li>\n",
    "         <li>Shade any CIN present in our profile.</li>\n",
    "    </ol>\n",
    "    <br>\n",
    "    <b>BONUS</b>:\n",
    "    <ul>\n",
    "        <li>Use the <code>u_wind</code> and <code>v_wind</code> quantities within our sounding to <code>plot_barbs</code> along our Skew-T.</li>\n",
    "        <li>You have everything you need to perform some brand new calculations! Pick out some <a href=\"https://unidata.github.io/MetPy/latest/api/generated/metpy.calc.html#soundings\">sounding calculations</a> from the documentation and share your results. Put some numbers to your shaded CAPE and CIN or calculate valuable levels like LCL or EL and plot lines on our Skew-T to highlight them.</li>\n",
    "    <li>Finally, create a brand new Skew-T from a brand new date and time, or even a new station from a station ID as shown <a href=\"https://weather.uwyo.edu/upperair/sounding.html\">here</a>.</li>\n",
    "    </ul>\n",
    "</div>"
   ]
  }
 ],
 "metadata": {
  "kernelspec": {
   "display_name": "Python 3 (ipykernel)",
   "language": "python",
   "name": "python3"
  },
  "language_info": {
   "codemirror_mode": {
    "name": "ipython",
    "version": 3
   },
   "file_extension": ".py",
   "mimetype": "text/x-python",
   "name": "python",
   "nbconvert_exporter": "python",
   "pygments_lexer": "ipython3",
   "version": "3.10.4"
  }
 },
 "nbformat": 4,
 "nbformat_minor": 5
}
