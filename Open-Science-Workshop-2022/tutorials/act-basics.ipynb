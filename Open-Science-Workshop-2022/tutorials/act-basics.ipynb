{
 "cells": [
  {
   "cell_type": "markdown",
   "id": "60c28200",
   "metadata": {},
   "source": [
    "## Overview\n",
    "Welcome to the ARM/ASR Open Science Workshop Tutorial on the **Atmospheric data Community Toolkit (ACT)**\n",
    "In this tutorial, you will learn some of the basic features of ACT with a focus on how you can use it to better utilize ARM's data quality information.  This will include using ARM's embedded quality control information that's included in many ARM NetCDF files and Data Quality Reports (DQR) which can be accessed through a webservice.\n",
    "\n",
    "ACT is built around the xarray data object, which you can learn about more in the xarray tutorial or through information from __[Project Pythia](https://foundations.projectpythia.org/core/xarray.html)__. "
   ]
  },
  {
   "cell_type": "markdown",
   "id": "d71dba3d",
   "metadata": {},
   "source": [
    "First we are going to start by importing all the necessary python libraries that we need"
   ]
  },
  {
   "cell_type": "code",
   "execution_count": null,
   "id": "d41917dc",
   "metadata": {},
   "outputs": [],
   "source": [
    "import act\n",
    "import matplotlib.pyplot as plt"
   ]
  },
  {
   "cell_type": "markdown",
   "id": "036f8dfc",
   "metadata": {},
   "source": [
    "## Download ARM Data\n",
    "Next we are going to download the data we are going to use for this session using the __[ARM Live Data webservice](https://adc.arm.gov/armlive/)__.  \n",
    "\n",
    "Since you have an ARM user account, you should be able to utilize this webservice as well.  All you need to do is login to get your token.  In case you are not able to get that information, we have a username and token set up just for training sessions."
   ]
  },
  {
   "cell_type": "code",
   "execution_count": null,
   "id": "dca64e65",
   "metadata": {},
   "outputs": [],
   "source": [
    "# Set your own username and token if you have it\n",
    "username = 'armlive_training'\n",
    "token = '4d26d88f91a2396f'\n",
    "\n",
    "# ACT module for downloading data from the ARM web service\n",
    "results = act.discovery.download_data(username, token, 'sgpmfrsr7nchE11.b1', '2021-03-29', '2021-03-29')\n",
    "print(results)"
   ]
  },
  {
   "cell_type": "markdown",
   "id": "ffd72ada",
   "metadata": {},
   "source": [
    "### Reading in a NetCDF File\n",
    "Congratulations, you just downloaded a file from just the command line!  Next up is to read the file into an xarray object using the ACT reader.  We then can use Jupyter to print out an interactive listing of everything in the object."
   ]
  },
  {
   "cell_type": "code",
   "execution_count": null,
   "id": "e6a8f65d",
   "metadata": {},
   "outputs": [],
   "source": [
    "obj = act.io.armfiles.read_netcdf(results)\n",
    "obj"
   ]
  },
  {
   "cell_type": "markdown",
   "id": "61a3d218",
   "metadata": {},
   "source": [
    "### Clean up the object to CF Standards\n",
    "In order to utilize all the ACT QC modules, we need to clean up the object to follow __[Climate and Forecast (CF) standards](https://cfconventions.org/)__.  "
   ]
  },
  {
   "cell_type": "code",
   "execution_count": null,
   "id": "e0a2087f",
   "metadata": {},
   "outputs": [],
   "source": [
    "obj.clean.cleanup()"
   ]
  },
  {
   "cell_type": "markdown",
   "id": "cb9e8a6e",
   "metadata": {},
   "source": [
    "### Next, let's plot up a variable and it's QC to see what we're working with\n",
    "For this example, we'll use diffuse_hemisp_narrowband_filter4"
   ]
  },
  {
   "cell_type": "code",
   "execution_count": null,
   "id": "08f5fe28",
   "metadata": {},
   "outputs": [],
   "source": [
    "variable = 'diffuse_hemisp_narrowband_filter4'\n",
    "\n",
    "# Create a plotting display object with 2 plots\n",
    "display = act.plotting.TimeSeriesDisplay(obj, figsize=(15, 10), subplot_shape=(2,))\n",
    "\n",
    "# Plot up the diffuse variable in the first plot\n",
    "display.plot(variable, subplot_index=(0,))\n",
    "\n",
    "# Plot up a day/night background\n",
    "display.day_night_background(subplot_index=(0,))\n",
    "\n",
    "# Plot up the QC variable in the second plot\n",
    "display.qc_flag_block_plot(variable, subplot_index=(1,))"
   ]
  },
  {
   "cell_type": "code",
   "execution_count": null,
   "id": "731d622b",
   "metadata": {},
   "outputs": [],
   "source": [
    "# Now lets remove some of these outliers\n",
    "obj.qcfilter.datafilter(variable, rm_tests=[2, 3], del_qc_var=False)\n",
    "\n",
    "# And plot the data again\n",
    "# Create a plotting display object with 2 plots\n",
    "display = act.plotting.TimeSeriesDisplay(obj, figsize=(15, 10), subplot_shape=(2,))\n",
    "\n",
    "# Plot up the diffuse variable in the first plot\n",
    "display.plot(variable, subplot_index=(0,))\n",
    "\n",
    "# Plot up a day/night background\n",
    "display.day_night_background(subplot_index=(0,))\n",
    "\n",
    "# Plot up the QC variable in the second plot\n",
    "display.qc_flag_block_plot(variable, subplot_index=(1,))"
   ]
  },
  {
   "cell_type": "markdown",
   "id": "155285a3",
   "metadata": {},
   "source": [
    "### Query the DQR Webservice\n",
    "Since the embedded QC is not removing all the outliers, let's check to see if there are any DQRs using ARMs DQR Webservice.  The great thing is, that ACT has codes for working with this webservice."
   ]
  },
  {
   "cell_type": "code",
   "execution_count": null,
   "id": "0de5f756",
   "metadata": {},
   "outputs": [],
   "source": [
    "# Query the ARM DQR Webservice\n",
    "obj = act.qc.arm.add_dqr_to_qc(obj, variable=variable)\n",
    "\n",
    "#And plot again!\n",
    "# Create a plotting display object with 2 plots\n",
    "display = act.plotting.TimeSeriesDisplay(obj, figsize=(15, 10), subplot_shape=(2,))\n",
    "\n",
    "# Plot up the diffuse variable in the first plot\n",
    "display.plot(variable, subplot_index=(0,))\n",
    "\n",
    "# Plot up a day/night background\n",
    "display.day_night_background(subplot_index=(0,))\n",
    "\n",
    "# Plot up the QC variable in the second plot\n",
    "display.qc_flag_block_plot(variable, subplot_index=(1,))"
   ]
  },
  {
   "cell_type": "markdown",
   "id": "9322ebc0",
   "metadata": {},
   "source": [
    "### Add QC Tests\n",
    "ACT has a number of additional __[QC tests](https://arm-doe.github.io/ACT/API/generated/act.qc.QCTests.html#act.qc.QCTests)__ that could be applied to the data.  For this next example, let's apply a new maximum test."
   ]
  },
  {
   "cell_type": "code",
   "execution_count": null,
   "id": "d1daa0c8",
   "metadata": {},
   "outputs": [],
   "source": [
    "# Add a new maximum tests\n",
    "obj.qcfilter.add_greater_test(variable, 0.4, test_meaning='New maximum tests limit')\n",
    "\n",
    "# Filter that test out\n",
    "obj.qcfilter.datafilter(variable, rm_tests=[5], del_qc_var=False)\n",
    "\n",
    "#And plot again!\n",
    "# Create a plotting display object with 2 plots\n",
    "display = act.plotting.TimeSeriesDisplay(obj, figsize=(15, 10), subplot_shape=(2,))\n",
    "\n",
    "# Plot up the diffuse variable in the first plot\n",
    "display.plot(variable, subplot_index=(0,))\n",
    "\n",
    "# Plot up a day/night background\n",
    "display.day_night_background(subplot_index=(0,))\n",
    "\n",
    "# Plot up the QC variable in the second plot\n",
    "display.qc_flag_block_plot(variable, subplot_index=(1,))"
   ]
  },
  {
   "cell_type": "markdown",
   "id": "1508d94f",
   "metadata": {},
   "source": [
    "### Instrument Specific QC Tests\n",
    "ACT has a growing library of instrument specific tests such as the __[fast-fourier transform test](https://arm-doe.github.io/ACT/API/generated/act.qc.fft_shading_test.html#act.qc.fft_shading_test)__ to detect shading which was adapted from Alexandrov et al 2007.  The adaption is that it is applied in a moving window style approach.  **Note - Check out the webpage as an example of how we are including references to papers behind the codes**\n",
    "\n",
    "Let's apply it and see how it compares with the DQR!"
   ]
  },
  {
   "cell_type": "code",
   "execution_count": null,
   "id": "56fac473",
   "metadata": {},
   "outputs": [],
   "source": [
    "# Apply test\n",
    "obj = act.qc.fft_shading_test(obj, variable=variable)\n",
    "\n",
    "# Create a plotting display object with 2 plots\n",
    "display = act.plotting.TimeSeriesDisplay(obj, figsize=(15, 10), subplot_shape=(2,))\n",
    "\n",
    "# Plot up the diffuse variable in the first plot\n",
    "display.plot(variable, subplot_index=(0,))\n",
    "\n",
    "# Plot up a day/night background\n",
    "display.day_night_background(subplot_index=(0,))\n",
    "\n",
    "# Plot up the QC variable in the second plot\n",
    "display.qc_flag_block_plot(variable, subplot_index=(1,))"
   ]
  },
  {
   "cell_type": "markdown",
   "id": "8a1b1e78",
   "metadata": {},
   "source": [
    "### Conclusion\n",
    "In this tutorial, we have shown you how to download data from ARM's Data Live web service, visualize the data and QC information, query the DQR webservice, filter data based on the QC, and add new QC tests to the dataset.  After all this work, you can easily save the xarray object to a NetCDF file using `obj.to_netcdf('filename.nc')` and all that data will be saved and usable in Python and ACT.\n",
    "\n",
    "Please checkout the __[ACT Github repository](https://github.com/ARM-DOE/ACT)__ for the latest and greatest information, including our documentation which has __[examples](https://arm-doe.github.io/ACT/source/auto_examples/index.html)__ that can be downloading in python or Jupyter Notebook formats."
   ]
  }
 ],
 "metadata": {
  "kernelspec": {
   "display_name": "Python 3 (ipykernel)",
   "language": "python",
   "name": "python3"
  },
  "language_info": {
   "codemirror_mode": {
    "name": "ipython",
    "version": 3
   },
   "file_extension": ".py",
   "mimetype": "text/x-python",
   "name": "python",
   "nbconvert_exporter": "python",
   "pygments_lexer": "ipython3",
   "version": "3.9.7"
  }
 },
 "nbformat": 4,
 "nbformat_minor": 5
}
