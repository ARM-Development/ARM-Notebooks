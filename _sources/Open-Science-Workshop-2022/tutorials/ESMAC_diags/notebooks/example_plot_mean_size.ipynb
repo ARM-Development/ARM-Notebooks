{
 "cells": [
  {
   "cell_type": "markdown",
   "id": "8d1cb5d1-b512-4a8a-ac9b-826f29d22537",
   "metadata": {},
   "source": [
    "# ESMAC: Generate mean size distribution\n",
    "\n",
    "---\n"
   ]
  },
  {
   "cell_type": "markdown",
   "id": "0c7fb14e-7b09-4992-8018-06126afc5712",
   "metadata": {},
   "source": [
    "Setup dependencies:"
   ]
  },
  {
   "cell_type": "code",
   "execution_count": null,
   "id": "45dcc651-a2ca-49ae-85fe-d3902ac1df01",
   "metadata": {},
   "outputs": [],
   "source": [
    "\n",
    "import os\n",
    "import glob\n",
    "import numpy as np\n",
    "import xarray as xr\n",
    "import pandas as pd\n",
    "import esmac_diags.plotting.plot_esmac_diags as plot\n",
    "import matplotlib.dates as mdates\n"
   ]
  },
  {
   "cell_type": "markdown",
   "id": "e662e5c0-0c2d-481b-a54d-f37d696a862a",
   "metadata": {},
   "source": [
    "<br>Configure settings:"
   ]
  },
  {
   "cell_type": "code",
   "execution_count": null,
   "id": "0337b6c0-21d6-4300-99e3-9289fd248383",
   "metadata": {},
   "outputs": [],
   "source": [
    "# set site name.\n",
    "site = 'HISCALE'\n",
    "\n",
    "# path of prepared files\n",
    "prep_model_path = '../prep_data/'+site+'/model/'\n",
    "prep_obs_path = '../prep_data/'+site+'/surface/'\n",
    "# set output path for plots\n",
    "figpath= '../figures/'+site+'/surface/'\n"
   ]
  },
  {
   "cell_type": "markdown",
   "id": "52b516e1-f47a-44a1-99b7-485104491d70",
   "metadata": {},
   "source": [
    "<br> Read data:"
   ]
  },
  {
   "cell_type": "code",
   "execution_count": null,
   "id": "0fb428d4-2fec-4b74-9259-9e8c3ff31f3b",
   "metadata": {},
   "outputs": [],
   "source": [
    "\n",
    "# trim for the same time period\n",
    "IOP = 'IOP1'\n",
    "time1 = np.datetime64('2016-04-25')\n",
    "time2 = np.datetime64('2016-05-22')\n",
    "time = pd.date_range(start='2016-04-25', end='2016-05-22', freq=\"H\")\n",
    "# IOP = 'IOP2'\n",
    "# time1 = np.datetime64('2016-08-28')\n",
    "# time2 = np.datetime64('2016-09-23')\n",
    "# time = pd.date_range(start='2016-08-28', end='2016-09-23', freq=\"H\")\n",
    "\n",
    "filename = prep_obs_path + 'sfc_SMPS_'+site+'_'+IOP+'.nc'\n",
    "obsdata = xr.open_dataset(filename)\n",
    "time_smps = obsdata['time'].load()\n",
    "smpsall = obsdata['dN_dlogDp'].load()\n",
    "size_smps = obsdata['size'].load()\n",
    "obsdata.close()\n",
    "\n",
    "filename = prep_model_path + 'E3SMv1_'+site+'_sfc.nc'\n",
    "modeldata = xr.open_dataset(filename)\n",
    "time_m1 = modeldata['time'].load()\n",
    "ncn_e3sm1 = modeldata['NCNall'].load()\n",
    "modeldata.close()\n",
    "\n",
    "filename = prep_model_path + 'E3SMv2_'+site+'_sfc.nc'\n",
    "modeldata = xr.open_dataset(filename)\n",
    "time_m2 = modeldata['time'].load()\n",
    "ncn_e3sm2 = modeldata['NCNall'].load()\n",
    "modeldata.close()\n"
   ]
  },
  {
   "cell_type": "markdown",
   "id": "63f5ca58-f73d-48d7-bf2d-844861360d8d",
   "metadata": {},
   "source": [
    "<br> Specific data treatment:"
   ]
  },
  {
   "cell_type": "code",
   "execution_count": null,
   "id": "80fed9a1-9f61-4bee-8d96-d8ef893ffac3",
   "metadata": {},
   "outputs": [],
   "source": [
    "# convert to dN/dlog10Dp\n",
    "# SMPS is already dlogDp\n",
    "dlogDp_e3sm = np.log10(np.arange(2,3002)/np.arange(1,3001))\n",
    "ncn_e3sm1 = ncn_e3sm1.T/dlogDp_e3sm\n",
    "ncn_e3sm2 = ncn_e3sm2.T/dlogDp_e3sm\n",
    "\n",
    "pdf_smps = np.nanmean(smpsall, axis=0)\n",
    "pdf_smps[pdf_smps<1e-4] = np.nan\n",
    "pdf_e3sm1 = np.nanmean(ncn_e3sm1, axis=0)\n",
    "pdf_e3sm2 = np.nanmean(ncn_e3sm2, axis=0)\n",
    "\n"
   ]
  },
  {
   "cell_type": "markdown",
   "id": "9948d6b9-917f-4a0b-8209-8bc1c1a8dd6f",
   "metadata": {},
   "source": [
    "<br> Generate plot:"
   ]
  },
  {
   "cell_type": "code",
   "execution_count": null,
   "id": "5520fb31-62ad-4905-b0a3-940c9d92bc9d",
   "metadata": {},
   "outputs": [],
   "source": [
    "if not os.path.exists(figpath):\n",
    "    os.makedirs(figpath)\n",
    "\n",
    "fig,ax = plot.mean_size([size_smps, np.arange(1,3001), np.arange(1,3001)], [pdf_smps, pdf_e3sm1, pdf_e3sm2], \n",
    "                  legend = ['SMPS','E3SMv1','E3SMv2'],  color=['k','r','b'], \n",
    "                  xlabel='Diameter (nm)', ylabel='dN/dlogDp (cm$^{-3}$)', xlimit=(2, 3000), ylimit=(1e-1,5e4), \n",
    "                 title = 'Mean Aerosol Size Distribution '+site+' '+IOP)\n",
    "#fig.savefig(figpath+'AerosolSize_mean_'+site+'_'+IOP+'.png',dpi=fig.dpi,bbox_inches='tight', pad_inches=1)\n",
    "\n",
    "# show figures in interactive commandline screen\n",
    "import matplotlib.pyplot as plt\n",
    "plt.show()   \n"
   ]
  }
 ],
 "metadata": {
  "kernelspec": {
   "display_name": "Python 3 (ipykernel)",
   "language": "python",
   "name": "python3"
  },
  "language_info": {
   "codemirror_mode": {
    "name": "ipython",
    "version": 3
   },
   "file_extension": ".py",
   "mimetype": "text/x-python",
   "name": "python",
   "nbconvert_exporter": "python",
   "pygments_lexer": "ipython3",
   "version": "3.10.4"
  }
 },
 "nbformat": 4,
 "nbformat_minor": 5
}
