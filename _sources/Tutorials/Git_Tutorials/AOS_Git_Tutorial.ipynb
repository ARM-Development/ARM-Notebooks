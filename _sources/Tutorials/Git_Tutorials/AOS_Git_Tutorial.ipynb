{
 "cells": [
  {
   "cell_type": "markdown",
   "id": "a6a4e901-82ff-40ab-9fe3-f89a3eeb38bc",
   "metadata": {},
   "source": [
    "# Github Tutorial"
   ]
  },
  {
   "cell_type": "code",
   "execution_count": null,
   "id": "7b55edcb",
   "metadata": {},
   "outputs": [],
   "source": [
    "# Double check our working directory\n",
    "# Need to import a few libraries for this tutorial as well\n",
    "import os\n",
    "import sys\n",
    "print(os.getcwd())"
   ]
  },
  {
   "cell_type": "code",
   "execution_count": null,
   "id": "2c142072",
   "metadata": {},
   "outputs": [],
   "source": [
    "# Let's check to make sure git is installed on your system\n",
    "# Note the ! to run a unix command\n",
    "!git --version"
   ]
  },
  {
   "cell_type": "code",
   "execution_count": null,
   "id": "2b4e2741",
   "metadata": {},
   "outputs": [],
   "source": [
    "# If the above command returns an error then Git is likely not installed\n",
    "# and you will need to install it.  The easiest way to do this is using conda.\n",
    "# If the above gave you a version number you can skip this step\n",
    "!conda install -c anaconda --yes --prefix {sys.prefix} git"
   ]
  },
  {
   "cell_type": "code",
   "execution_count": null,
   "id": "7035cb73",
   "metadata": {},
   "outputs": [],
   "source": [
    "# Next we need to clone your fork to your area\n",
    "# Please replace the URL below with the URL to your fork\n",
    "!git clone https://github.com/AdamTheisen/Aerosol-Mentors-Processing-Routines.git"
   ]
  },
  {
   "cell_type": "code",
   "execution_count": null,
   "id": "639ca59e",
   "metadata": {},
   "outputs": [],
   "source": [
    "# Let's check our directory\n",
    "!ls\n",
    "!ls *"
   ]
  },
  {
   "cell_type": "code",
   "execution_count": null,
   "id": "d1910374",
   "metadata": {},
   "outputs": [],
   "source": [
    "# For the next part, we will want you to create a test file in an instrument\n",
    "# directory/language of your chosing.  You can do this using whatever editor you would like\n",
    "# First navigate to the Aerosol directory here\n",
    "os.chdir('./Aerosol-Mentors-Processing-Routines/')\n",
    "%ls"
   ]
  },
  {
   "cell_type": "code",
   "execution_count": null,
   "id": "d4fb9a59",
   "metadata": {},
   "outputs": [],
   "source": [
    "# The appropriate way to add changes back to a fork for inclusion is to create a branch\n",
    "!git checkout -b test"
   ]
  },
  {
   "cell_type": "code",
   "execution_count": null,
   "id": "1d8d5c75",
   "metadata": {},
   "outputs": [],
   "source": [
    "# Check the status of git\n",
    "!git status"
   ]
  },
  {
   "cell_type": "code",
   "execution_count": null,
   "id": "d9bb38a2",
   "metadata": {},
   "outputs": [],
   "source": [
    "# Go ahead and navigate to an instrument/language directory and create a test file\n",
    "# It's OK, we'll wait\n",
    "#  Ready?  Okay, let's go check the status\n",
    "!git status"
   ]
  },
  {
   "cell_type": "code",
   "execution_count": null,
   "id": "2188ed86",
   "metadata": {},
   "outputs": [],
   "source": [
    "# We can see that we changed a file, but we have not actually added it\n",
    "# Let's go ahead and do that\n",
    "!git add ./CCN/Python/test.py"
   ]
  },
  {
   "cell_type": "code",
   "execution_count": null,
   "id": "c78a2565",
   "metadata": {},
   "outputs": [],
   "source": [
    "# And check the status again\n",
    "!git status"
   ]
  },
  {
   "cell_type": "code",
   "execution_count": null,
   "id": "edf3b989",
   "metadata": {},
   "outputs": [],
   "source": [
    "# You can commit the file using\n",
    "!git commit ./CCN/Python/test.py -m \"ENH: Adding test file\"\n",
    "\n",
    "# Note, you can also remove the -m and enter a message in the GUI interface\n",
    "# You could also do git commit -a if you have a lot of changes you want to commit"
   ]
  },
  {
   "cell_type": "code",
   "execution_count": null,
   "id": "c88df839",
   "metadata": {},
   "outputs": [],
   "source": [
    "# You commit is staged and ready to push to your fork\n",
    "!git push --set-upstream origin test # this only needs to be done once for each branch\n",
    "!git push"
   ]
  },
  {
   "cell_type": "code",
   "execution_count": null,
   "id": "adc078d0",
   "metadata": {},
   "outputs": [],
   "source": [
    "# Now let's go back to your fork on Github\n",
    "# You can also drag/drop files to your fork\n",
    "# Then we will run through how to get the changes on your fork back to the main repo\n",
    "# Note - this is not recommended, but you could also add files directly to the main repo \n",
    "# however, there is greater chance that something could get messed up in the process"
   ]
  },
  {
   "cell_type": "code",
   "execution_count": null,
   "id": "61f80212",
   "metadata": {},
   "outputs": [],
   "source": [
    "# Next you will want an easy way to get other peoples changes\n",
    "# You can do that through the github interface or through the command line\n",
    "# First set your upstream to point to\n",
    "!git remote add upstream https://github.com/ARM-Development/Aerosol-Mentors-Processing-Routines.git"
   ]
  },
  {
   "cell_type": "code",
   "execution_count": null,
   "id": "3d5dc89d",
   "metadata": {},
   "outputs": [],
   "source": [
    "# Then fetch the upstream changes and merge them with yours\n",
    "!git fetch upstream\n",
    "!git merge upstream/main\n",
    "!git push"
   ]
  }
 ],
 "metadata": {
  "kernelspec": {
   "display_name": "Python 3 (ipykernel)",
   "language": "python",
   "name": "python3"
  },
  "language_info": {
   "codemirror_mode": {
    "name": "ipython",
    "version": 3
   },
   "file_extension": ".py",
   "mimetype": "text/x-python",
   "name": "python",
   "nbconvert_exporter": "python",
   "pygments_lexer": "ipython3",
   "version": "3.10.2"
  }
 },
 "nbformat": 4,
 "nbformat_minor": 5
}
