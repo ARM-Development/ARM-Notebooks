{
 "cells": [
  {
   "cell_type": "markdown",
   "id": "890eaa0f-6ec4-44cc-97c7-02deb98eb94a",
   "metadata": {},
   "source": [
    "<img style=\"float: left;\" src=\"https://raw.githubusercontent.com/ProjectPythiaCookbooks/radar-cookbook/main/thumbnail.png\" width=500>"
   ]
  },
  {
   "cell_type": "markdown",
   "id": "6ce8e709-11fb-4775-bc35-53e3120b0d22",
   "metadata": {},
   "source": [
    "# ACT Basics"
   ]
  },
  {
   "cell_type": "markdown",
   "id": "fdddd23b-cf90-44ee-97c7-cd91494f1392",
   "metadata": {},
   "source": [
    "## Overview\n",
    "The ARM TRACER campaign collected a lot of very interesting data in Houston, TX from October 1, 2021 to September 30, 2022.  One event that stands out is a dust event that occurred from July 16 to July 19, 2022.  This notebook will give an introduction to basic features in ACT, using some relevant datastreams from this event\n",
    "\n",
    "1. Intro to ACT\n",
    "1. Downloading and Reading in Data\n",
    "1. Quality Controlling Data\n",
    "1. Aerosol Instrument Overview\n",
    "1. Visualizing Data\n",
    "1. Additional Features in ACT"
   ]
  },
  {
   "cell_type": "markdown",
   "id": "3de97bb8-5960-4ad8-9d43-cce9d2885f20",
   "metadata": {
    "tags": []
   },
   "source": [
    "## Prerequisites\n",
    "This notebook will rely heavily on Python and the [Atmospheric data Community Toolkit (ACT)](https://github.com/ARM-DOE/ACT).  Don't worry if you don't have experience with either, this notebook will walk you though what you need to know.\n",
    "\n",
    "You will also need an account and token to download data using the ARM Live webservice.  Navigate to the [webservice information page](https://adc.arm.gov/armlive/) and log in to get your token.  Your account username will be your ARM username.\n",
    "\n",
    "| Concepts | Importance | Notes |\n",
    "| --- | --- | --- |\n",
    "| [ACT](https://github.com/ARM-DOE/ACT) | Helpful | |\n",
    "\n",
    "- **Time to learn**: 60 Minutes\n",
    "- **System requirements**:\n",
    "    - Python 3.11 or latest\n",
    "    - ACT v1.5.0 or latest\n",
    "    - numpy\n",
    "    - xarray\n",
    "    - matplotlib"
   ]
  },
  {
   "cell_type": "markdown",
   "id": "e02cda1c-add4-42b6-9a62-5f6d575f4560",
   "metadata": {},
   "source": [
    "---"
   ]
  },
  {
   "cell_type": "markdown",
   "id": "e048ef19-fa37-4673-b567-341ab53bb426",
   "metadata": {},
   "source": [
    "## Intro to ACT\n",
    "           \n",
    "The [Atmospheric data Community Toolkit (ACT)](https://github.com/ARM-DOE/ACT) is an open-source Python toolkit for exploring and analyzing atmospheric time-series datasets.  Examples can be found in the [ACT Example Gallery](https://arm-doe.github.io/ACT/source/auto_examples/index.html).  The toolkit has modules for many different parts of the scientific process, including:\n",
    "\n",
    "<table style='font-size:100%'>\n",
    "    <tr>\n",
    "        <td>\n",
    "            \n",
    "#### Data Discovery (act.discovery)\n",
    "The [discovery](https://arm-doe.github.io/ACT/API/generated/act.discovery.html) module houses functions to download or access data from different groups.  Currently it includes function to get data for ARM, NOAA, EPA, NEON, and more!\n",
    "\n",
    "#### Input/Output (act.io)\n",
    "[io](https://arm-doe.github.io/ACT/API/generated/act.io.html) contains functions for reading and writing data from various sources and formats.\n",
    "\n",
    "#### Visualization (act.plotting)\n",
    "[plotting](https://arm-doe.github.io/ACT/API/generated/act.plotting.html) contains various routines, built on matplotlib, to help visualize and explore data.  These include \n",
    "1. Time-series plots\n",
    "1. Distribution plots like histograms and heatmaps\n",
    "1. Geographic plots for moving systems like radiosondes or aircraft\n",
    "1. Skew-T plots for radiosonde data, built off MetPy\n",
    "1. Wind rose plots for wind and data roses\n",
    "1. Cross-section plots for working with 3-dimensional data\n",
    "\n",
    "#### Corrections (act.corrections)\n",
    "[corrections](https://arm-doe.github.io/ACT/API/generated/act.corrections.html) apply different corrections to data based on need.  A majority of the existing corrections are for lidar data.\n",
    "\n",
    "#### Quality Control (act.qc)\n",
    "The [qc](https://arm-doe.github.io/ACT/API/generated/act.qc.html) module has a lot of functions for working with quality control information, apply new tests, or filtering data based on existing tests.  We will explore some of that functionality in this notebook.\n",
    "\n",
    "#### Retrievals (act.retrievals)\n",
    "There are many cases in which some additional calculations are necessary to get more value from the instrument data.  The [retrievals](https://arm-doe.github.io/ACT/API/generated/act.retrievals.html) module houses some functions for performing these advanced calculations.  \n",
    "\n",
    "#### Utilities (act.utils)\n",
    "The [utils](https://arm-doe.github.io/ACT/API/generated/act.utils.html) module has a lot of general utilities to help with the data.  Some of these include adding in a solar variable to indicate day/night (useful in filtering data), unit conversions, decoding WMO weather codes, performing weighted averaging, etc...\n",
    "        </td>\n",
    "        <td>\n",
    "            <center>\n",
    "            <img src=\"https://arm-doe.github.io/ACT/_images/sphx_glr_plot_neon_001.png\" alt=\"NEON-ARM\"></img>\n",
    "            <figcaption>ARM and NEON data from Utquivaik, AK</figcaption>\n",
    "            <img src=\"https://arm-doe.github.io/ACT/_images/sphx_glr_plot_enhanced_skewt_001.png\" alt=\"SONDE\"></img>\n",
    "            <figcaption>Enhanced Skew-T plot from ARM's Southern Great Plains Site (SGP)</figcaption>\n",
    "            </center>\n",
    "        </td>\n",
    "    </tr>\n",
    "</table>"
   ]
  },
  {
   "cell_type": "markdown",
   "id": "14fe0b6c-e467-4ef0-86bb-4a0585ad3391",
   "metadata": {},
   "source": [
    "---"
   ]
  },
  {
   "cell_type": "markdown",
   "id": "9098c56f-05cc-4572-9dea-d5e0cf8fd8ce",
   "metadata": {},
   "source": [
    "## Imports\n",
    "Let's get started with some data!  But first, we need to import some libraries."
   ]
  },
  {
   "cell_type": "code",
   "execution_count": null,
   "id": "d96662f8-4a6c-4f01-a63c-fa841f23bcc2",
   "metadata": {
    "tags": []
   },
   "outputs": [],
   "source": [
    "import act\n",
    "import numpy as np\n",
    "import xarray as xr\n",
    "import matplotlib.pyplot as plt"
   ]
  },
  {
   "cell_type": "markdown",
   "id": "0fb90f71-e98c-4388-bcfe-9a871957c663",
   "metadata": {},
   "source": [
    "## Downloading and Reading ARM's NetCDF Data\n",
    "ARM's standard file format is NetCDF (network Common Data Form) which makes it very easy to work with in Python!  ARM data are available through a data portal called [Data Discovery](https://adc.arm.gov/discovery/#/) or through a webservice.  If you didn't get your username and token earlier, please go back and see the Prerequisites!\n",
    "\n",
    "Let's download some of the MPL data first but let's just start with one day."
   ]
  },
  {
   "cell_type": "code",
   "execution_count": null,
   "id": "351719c2-00b2-4c83-b61a-4139bf649cb3",
   "metadata": {
    "tags": []
   },
   "outputs": [],
   "source": [
    "# Set your username and token here!\n",
    "username = 'YourUserName'\n",
    "token = 'YourToken'\n",
    "\n",
    "# Set the datastream and start/enddates\n",
    "datastream = 'hou30smplcmask1zwangM1.c1'\n",
    "startdate = '2022-07-16'\n",
    "enddate = '2022-07-16'\n",
    "\n",
    "# Use ACT to easily download the data.  Watch for the data citation!  Show some support\n",
    "# for ARM's instrument experts and cite their data if you use it in a publication\n",
    "result = act.discovery.download_arm_data(username, token, datastream, startdate, enddate)"
   ]
  },
  {
   "cell_type": "code",
   "execution_count": null,
   "id": "14185cc1-26c9-45dc-ad4f-5fa9a38ca184",
   "metadata": {
    "tags": []
   },
   "outputs": [],
   "source": [
    "# Let's read in the data using ACT and check out the data\n",
    "ds_mpl = act.io.arm.read_arm_netcdf(result)\n",
    "\n",
    "ds_mpl"
   ]
  },
  {
   "cell_type": "code",
   "execution_count": null,
   "id": "fb0ba13b-2878-4a47-a97e-bc580f35bc84",
   "metadata": {
    "tags": []
   },
   "outputs": [],
   "source": [
    "ds_mpl['cloud_base'].plot()"
   ]
  },
  {
   "cell_type": "markdown",
   "id": "125c26d8-0104-45ee-8286-1665ef4c9cb0",
   "metadata": {},
   "source": [
    "---"
   ]
  },
  {
   "cell_type": "markdown",
   "id": "22a2cc4e-fc85-40df-b278-246540190eb4",
   "metadata": {},
   "source": [
    "## Quality Controlling Data\n",
    "\n",
    "ARM has multiple methods that it uses to communicate data quality information out to the users.  One of these methods is through \"embedded QC\" variables.  These are variables within the file that have information on automated tests that have been applied.  Many times, they include Min, Max, and Delta tests but as is the case with the AOS instruments, there can be more complicated tests that are applied.\n",
    "\n",
    "The results from all these different tests are stored in a single variable using bit-packed QC.  We won't get into the full details here, but it's a way to communicate the results of multiple tests in a single integer value by utilizing binary and bits!  You can learn more about bit-packed QC [here](https://code.arm.gov/docs/QC-flag-examples/-/wikis/home) but ACT also has many of the tools for working with ARM QC.\n",
    "\n",
    "#### Other Sources of Quality Control\n",
    "ARM also communicates problems with the data quality through Data Quality Reports (DQR).  These reports are normally submitted by the instrument mentor when there's been a problem with the instrument.  The categories include:\n",
    "\n",
    "- **Data Quality Report Categories**\n",
    "    - Missing: Data are not available or set to -9999\n",
    "    - Suspect: The data are not fully incorrect but there are problems that increases the uncertainty of the values. Data should be used with caution.\n",
    "    - Bad: The data are incorrect and should not be used.\n",
    "    - Note: Data notes are a way to communicate information that would be useful to the end user but does not rise to the level of suspect or bad data\n",
    "    \n",
    "Examples of [ACT QC functionality](https://arm-doe.github.io/ACT/source/auto_examples/qc/plot_qc_bsrn.html#sphx-glr-source-auto-examples-qc-plot-qc-bsrn-py)\n",
    "    \n",
    "Additionally, data quality information can be found in the Instrument Handbooks, which are included on most instrument pages.  Here is an [example](https://www.arm.gov/publications/tech_reports/handbooks/mpl_handbook.pdf) of the MPL handbook."
   ]
  },
  {
   "cell_type": "code",
   "execution_count": null,
   "id": "3b04f0ab-2f7c-44f9-a6b8-a8bf2e004c5a",
   "metadata": {
    "tags": []
   },
   "outputs": [],
   "source": [
    "# Let's take a look at the quality control information associated with a variable from the MPL\n",
    "variable = 'linear_depol_ratio'\n",
    "\n",
    "# First, for many of the ACT QC features, we need to get the dataset more to CF standard and that\n",
    "# involves cleaning up some of the attributes and ways that ARM has historically handled QC\n",
    "ds_mpl.clean.cleanup()\n",
    "\n",
    "# Next, let's take a look at visualizing the quality control information\n",
    "# Create a plotting display object with 2 plots\n",
    "display = act.plotting.TimeSeriesDisplay(ds_mpl, figsize=(15, 10), subplot_shape=(2,))\n",
    "\n",
    "# Plot up the variable in the first plot\n",
    "display.plot(variable, subplot_index=(0,), cb_friendly=True)\n",
    "\n",
    "# Plot up a day/night background\n",
    "display.day_night_background(subplot_index=(0,))\n",
    "\n",
    "# Plot up the QC variable in the second plot\n",
    "display.qc_flag_block_plot(variable, subplot_index=(1,))\n",
    "plt.show()"
   ]
  },
  {
   "cell_type": "markdown",
   "id": "e5a2c6b7-f303-4adb-aa57-f3675b6e6711",
   "metadata": {},
   "source": [
    "### Filtering data\n",
    "It's easy to filter out data failing tests with ACT.  This will show you how to filter data by test or by assessment."
   ]
  },
  {
   "cell_type": "code",
   "execution_count": null,
   "id": "497c922e-1d09-42cc-ab83-a46b44da917a",
   "metadata": {
    "tags": []
   },
   "outputs": [],
   "source": [
    "# Let's filter out test 5 using ACT.  Yes, it's that simple!\n",
    "ds_mpl.qcfilter.datafilter(variable, rm_tests=[1, 2], del_qc_var=False)\n",
    "\n",
    "# There are other ways we can filter data out as well.  Using the\n",
    "# rm_assessments will filter out by all Bad/Suspect tests that are failing\n",
    "# ds.qcfilter.datafilter(variable, rm_assessments=['Bad', 'Suspect'], del_qc_var=False)\n",
    "\n",
    "# Let's check out the attributes of the variable\n",
    "# Whenever data are filtered out using the datafilter function\n",
    "# a comment will be added to the variable history for provenance purposes\n",
    "print(ds_mpl[variable].attrs)\n",
    "\n",
    "# And plot it all again!\n",
    "# Create a plotting display object with 2 plots\n",
    "display = act.plotting.TimeSeriesDisplay(ds_mpl, figsize=(15, 10), subplot_shape=(2,))\n",
    "\n",
    "# Plot up the variable in the first plot\n",
    "display.plot(variable, subplot_index=(0,), cb_friendly=True)\n",
    "\n",
    "# Plot up a day/night background\n",
    "display.day_night_background(subplot_index=(0,))\n",
    "\n",
    "# Plot up the QC variable in the second plot\n",
    "display.qc_flag_block_plot(variable, subplot_index=(1,))\n",
    "plt.show()"
   ]
  },
  {
   "cell_type": "markdown",
   "id": "bafcc2ef-924b-476b-8a8b-aecf4f09c7a6",
   "metadata": {},
   "source": [
    "#### ARM Data Quality Reports (DQR)!\n",
    "ARM's DQRs can be easily pulled in and added to the QC variables using ACT.  We can do that with the below one line command.  However, for this case, there won't be any DQRs on the data but let's visualize it just in case!  Check out the [ACT QC Examples](https://arm-doe.github.io/ACT/source/auto_examples/index.html#quality-control-examples) for more use cases!"
   ]
  },
  {
   "cell_type": "code",
   "execution_count": null,
   "id": "c36e9c64-40eb-4b34-b353-9428784063cb",
   "metadata": {
    "tags": []
   },
   "outputs": [],
   "source": [
    "# Query the ARM DQR Webservice\n",
    "ds_mpl = act.qc.add_dqr_to_qc(ds_mpl, variable=variable)\n",
    "\n",
    "ds_mpl['qc_' + variable]"
   ]
  },
  {
   "cell_type": "markdown",
   "id": "034cf104-55e6-4939-beab-e9ef74d58309",
   "metadata": {},
   "source": [
    "---"
   ]
  },
  {
   "cell_type": "markdown",
   "id": "9301fcab-2318-41b6-8246-393d39fd6695",
   "metadata": {},
   "source": [
    "## Aerosol Instrument Overview\n",
    "<table>\n",
    "    <tr>\n",
    "        <td>\n",
    "\n",
    "### Single Particle Soot Photometer (SP2)\n",
    "The single-particle soot photometer (SP2) measures the soot (black carbon) mass of individual aerosol particles by laser-induced incandescence down to concentrations as low as ng/m^3. [Learn more](https://arm.gov/capabilities/instruments/sp2)\n",
    "\n",
    "### Aerodynamic Particle Sizer (APS)\n",
    "The aerodynamic particle sizer (APS) is a particle size spectrometer that measures both the particle aerodynamic diameter based on particle time of flight and optical diameter based on scattered light intensity. The APS provides the number size distribution for particles with aerodynamic diameters from 0.5 to 20 micrometers and with optical diameters from 0.3 to 20 micrometers. [Learn more](https://arm.gov/capabilities/instruments/aps)\n",
    "\n",
    "### Aerosol Chemical Speciation Monitor (ACSM)\n",
    "The aerosol chemical speciation monitor is a thermal vaporization, electron impact, ionization mass spectrometer that measures bulk chemical composition of the rapidly evaporating component of sub-micron aerosol particles in real time. Standard measurements include mass concentrations of organics, sulfate, nitrate, ammonium, and chloride. [Learn more](https://arm.gov/capabilities/instruments/acsm)\n",
    "        </td>\n",
    "        <td width=600>\n",
    "            <center>\n",
    "            <img src=\"./images/aerosol_sizing.png\" width=600>\n",
    "            <figcaption>ARM Aerosol Instrumentation Particle Size Ranges</figcaption>\n",
    "            </center>\n",
    "        </td>\n",
    "    </tr>\n",
    "</table>"
   ]
  },
  {
   "cell_type": "markdown",
   "id": "ff10ecb8-eda5-4a8e-98b3-a3d5d6e09608",
   "metadata": {},
   "source": [
    "### Downloading and QCing the Aerosol Data\n",
    "Let's start pulling these data together into the same plots so we can see what's going on."
   ]
  },
  {
   "cell_type": "code",
   "execution_count": null,
   "id": "0feef7f4-82b3-4f30-842b-bbf87fd9b4c8",
   "metadata": {
    "tags": []
   },
   "outputs": [],
   "source": [
    "# Let's set a longer time period\n",
    "startdate = '2022-07-10'\n",
    "enddate = '2022-07-20'\n",
    "\n",
    "# APS\n",
    "datastream = 'houaosapsM1.b1'\n",
    "result = act.discovery.download_arm_data(username, token, datastream, startdate, enddate)\n",
    "ds_aps = act.io.arm.read_arm_netcdf(result)\n",
    "\n",
    "#ACSM\n",
    "datastream = 'houaosacsmM1.b2'\n",
    "result = act.discovery.download_arm_data(username, token, datastream, startdate, enddate)\n",
    "ds_acsm = act.io.arm.read_arm_netcdf(result)\n",
    "\n",
    "#SP2\n",
    "datastream = 'houaossp2bc60sM1.b1'\n",
    "result = act.discovery.download_arm_data(username, token, datastream, startdate, enddate)\n",
    "ds_sp2 = act.io.arm.read_arm_netcdf(result)\n",
    "\n",
    "# AOSMET - Just to get the wind data!\n",
    "datastream = 'houmetM1.b1'\n",
    "result = act.discovery.download_arm_data(username, token, datastream, startdate, enddate)\n",
    "ds_met = act.io.arm.read_arm_netcdf(result)\n",
    "\n",
    "# MPL to get the full record\n",
    "datastream = 'hou30smplcmask1zwangM1.c1'\n",
    "result = act.discovery.download_arm_data(username, token, datastream, startdate, enddate)\n",
    "ds_mpl = act.io.arm.read_arm_netcdf(result)"
   ]
  },
  {
   "cell_type": "code",
   "execution_count": null,
   "id": "d1f37cbd-ab42-4874-bd49-3b04fe363c88",
   "metadata": {
    "tags": []
   },
   "outputs": [],
   "source": [
    "# Before we proceed to plotting, let's reduce the MPL data down a little bit\n",
    "# This will remove all data where heights are greater than 5\n",
    "ds_mpl = ds_mpl.where(ds_mpl.height <= 3, drop=True)\n",
    "\n",
    "# This will resample to 1 minute\n",
    "ds_mpl = ds_mpl.resample(time='1min').nearest()"
   ]
  },
  {
   "cell_type": "code",
   "execution_count": null,
   "id": "28106f59-2415-452a-962f-d5e9d6e10166",
   "metadata": {
    "tags": []
   },
   "outputs": [],
   "source": [
    "# Let's not forget about QCing the data!\n",
    "# We can remove all the bad data from each aerosol dataset\n",
    "ds_aps.clean.cleanup()\n",
    "ds_aps = act.qc.arm.add_dqr_to_qc(ds_aps)\n",
    "ds_aps.qcfilter.datafilter(rm_assessments=['Bad'], del_qc_var=False)\n",
    "\n",
    "ds_acsm.clean.cleanup()\n",
    "ds_acsm = act.qc.arm.add_dqr_to_qc(ds_acsm)\n",
    "ds_acsm.qcfilter.datafilter(rm_assessments=['Bad'], del_qc_var=False)\n",
    "\n",
    "ds_sp2.clean.cleanup()\n",
    "ds_sp2 = act.qc.arm.add_dqr_to_qc(ds_sp2)\n",
    "ds_sp2.qcfilter.datafilter(rm_assessments=['Bad'], del_qc_var=False)\n",
    "\n",
    "ds_mpl.clean.cleanup()\n",
    "ds_mpl = act.qc.arm.add_dqr_to_qc(ds_mpl)\n",
    "ds_mpl.qcfilter.datafilter(rm_assessments=['Bad'], del_qc_var=False)"
   ]
  },
  {
   "cell_type": "markdown",
   "id": "fe6a29c8-357a-4a53-9382-5bc13c115a38",
   "metadata": {},
   "source": [
    "---"
   ]
  },
  {
   "cell_type": "markdown",
   "id": "cc91f98c-fa1d-4991-8049-f1882dd90ad5",
   "metadata": {
    "tags": []
   },
   "source": [
    "## Visualizing Data\n",
    "We have all the datasets downloaded, let's start to visualize them in different ways using ACT.\n",
    "If you ever need a place to start with how to visualize data using ACT, check out the \n",
    "[ACT Plotting Examples](https://arm-doe.github.io/ACT/source/auto_examples/index.html#plotting-examples)"
   ]
  },
  {
   "cell_type": "code",
   "execution_count": null,
   "id": "0d9c7cbb-7b33-465b-bed3-fffc7fd5976f",
   "metadata": {
    "tags": []
   },
   "outputs": [],
   "source": [
    "# We can pass a dictionary to the display objects with multiple datasets\n",
    "# So let's plot all this up!\n",
    "display = act.plotting.TimeSeriesDisplay({'aps': ds_aps, 'mpl': ds_mpl, 'acsm': ds_acsm, 'sp2': ds_sp2},\n",
    "                                         subplot_shape=(4,), figsize=(10,18))\n",
    "\n",
    "# MPL Plot\n",
    "# Variable names of interest linear_depol_ratio, linear_depol_snr, backscatter_snr\n",
    "display.plot('linear_depol_ratio', dsname='mpl', subplot_index=(0,), cb_friendly=True)\n",
    "display.set_yrng([0, 3], subplot_index=(0,))\n",
    "\n",
    "# APS Plot\n",
    "display.plot('total_N_conc', dsname='aps', subplot_index=(1,))\n",
    "display.day_night_background(dsname='aps', subplot_index=(1,))\n",
    "\n",
    "# ACSM plot\n",
    "display.plot('sulfate', dsname='acsm', subplot_index=(2,), label='sulfate')\n",
    "display.plot('nitrate', dsname='acsm', subplot_index=(2,), label='nitrate')\n",
    "display.plot('ammonium', dsname='acsm', subplot_index=(2,), label='ammonium')\n",
    "display.plot('chloride', dsname='acsm', subplot_index=(2,), label='chloride')\n",
    "display.plot('total_organics', dsname='acsm', subplot_index=(2,), label='total_organics')\n",
    "\n",
    "display.day_night_background(dsname='acsm', subplot_index=(2,))\n",
    "\n",
    "# SP2 Plot\n",
    "display.plot('sp2_rbc_conc', dsname='sp2', subplot_index=(3,))\n",
    "display.day_night_background(dsname='sp2', subplot_index=(3,))\n",
    "\n",
    "plt.subplots_adjust(hspace=0.3)\n",
    "plt.legend()\n",
    "plt.savefig('./images/output.png')\n",
    "plt.show()"
   ]
  },
  {
   "cell_type": "markdown",
   "id": "fcbe3680-e6b9-4e00-9a29-e9fea9b50b72",
   "metadata": {
    "tags": []
   },
   "source": [
    "### Data Rose Plots\n",
    "These plots display the data on a windrose-like plot to visualize directional dependencies in the data."
   ]
  },
  {
   "cell_type": "code",
   "execution_count": null,
   "id": "49a47f12-f69d-4dff-86c6-6f850d48dafc",
   "metadata": {
    "tags": []
   },
   "outputs": [],
   "source": [
    "# We already should have the data loaded up so let's explore with some data roses\n",
    "# First we need to combine data and to do that, we need to get it on the same time grid\n",
    "ds_combined = xr.merge([ds_met.resample(time='30min').nearest(), ds_acsm.resample(time='30min').nearest()], compat='override')\n",
    "\n",
    "# Plot out the data rose using the WindRose display object\n",
    "display = act.plotting.WindRoseDisplay(ds_combined)\n",
    "display.plot_data('wdir_vec_mean', 'wspd_vec_mean', 'sulfate', num_dirs=15, plot_type='line', line_plot_calc='mean')\n",
    "plt.show()"
   ]
  },
  {
   "cell_type": "code",
   "execution_count": null,
   "id": "1040e1c1-3ee0-4580-9aad-375a8d518eec",
   "metadata": {
    "tags": []
   },
   "outputs": [],
   "source": [
    "# First we need to combine data and to do that, we need to get it on the same time grid\n",
    "ds_combined = xr.merge([ds_met.resample(time='1min').nearest(), ds_sp2.resample(time='1min').nearest()], compat='override')\n",
    "\n",
    "# Plot out the data rose using the WindRose display object\n",
    "display = act.plotting.WindRoseDisplay(ds_combined)\n",
    "\n",
    "# Let's try a different type of data rose that will show the mean Black Carbon Concentration\n",
    "# depending on wind direction and speed\n",
    "display.plot_data('wdir_vec_mean', 'wspd_vec_mean', 'sp2_rbc_conc', num_dirs=15, plot_type='contour', contour_type='mean')\n",
    "plt.show()"
   ]
  },
  {
   "cell_type": "markdown",
   "id": "264c8092-fd80-4103-b6ff-da0b5ea1690a",
   "metadata": {},
   "source": [
    "### Checkout the area\n",
    "The AMF was deployed at [La Porte Municipal Airport](https://www.google.com/maps/place/Airport+Blvd/@29.6652378,-95.0466689,9165m/data=!3m1!1e3!4m7!3m6!1s0x863f6020e5e0ea21:0x792ee34f8eaac3e8!4b1!8m2!3d29.6663473!4d-95.0578571!16s%2Fg%2F1wbf_smp?entry=ttu).  Check out the google map and see if this mapes sense!\n",
    "\n",
    "### Back to the visualizations!\n",
    "Let's get back to checking out the other visualization features in ACT!\n",
    "\n",
    "#### Histograms"
   ]
  },
  {
   "cell_type": "code",
   "execution_count": null,
   "id": "9f5448a1-4beb-4a3d-af5f-47cbd25fc479",
   "metadata": {
    "tags": []
   },
   "outputs": [],
   "source": [
    "# We do the same thing as before but call the DistributionDisplay class\n",
    "display = act.plotting.DistributionDisplay(ds_aps)\n",
    "\n",
    "# And then we can plot the data!  Note that we are passing a range into the\n",
    "# histogram function to set the min/max range of the data\n",
    "display.plot_stacked_bar('total_N_conc', bins=20, hist_kwargs={'range': [0, 60]})\n",
    "plt.show()"
   ]
  },
  {
   "cell_type": "code",
   "execution_count": null,
   "id": "10aaa569-80d3-4528-8605-737e1c8e5313",
   "metadata": {
    "tags": []
   },
   "outputs": [],
   "source": [
    "# We can create these plots in groups as well but we need to know\n",
    "# how many there will be ahead of time for the shape\n",
    "display = act.plotting.DistributionDisplay(ds_aps, figsize=(15, 15), subplot_shape=(6, 4))\n",
    "groupby = display.group_by('hour')\n",
    "\n",
    "# And then we can plot the data in groups!  The main issue is that it doesn't automatically\n",
    "# Annotate the group on the plot.  We're also setting the titile to blank to save space\n",
    "groupby.plot_group('plot_stacked_bar', None, field='total_N_conc', set_title='', bins=20, hist_kwargs={'range': [0, 60]})\n",
    "\n",
    "# We want these graphs to have the same axes, so we can easily run through\n",
    "# each plot and modify the axes.  Right now, we can just hard code these in\n",
    "for i in range(len(display.axes)):\n",
    "    for j in range(len(display.axes[i])):\n",
    "        display.axes[i, j].set_xlim([0, 60])\n",
    "        display.axes[i, j].set_ylim([0, 15000])\n",
    "        \n",
    "plt.subplots_adjust(wspace=0.35)\n",
    "        \n",
    "plt.show()"
   ]
  },
  {
   "cell_type": "markdown",
   "id": "908bf54c-48b8-4944-9390-3ed1c93a562a",
   "metadata": {},
   "source": [
    "#### Scatter Plots and Heatmaps\n",
    "\n",
    "Let's plot up a comparison of the APS total concentration and the ACSM sulfates.  Feel free to change the variables from the ACSM to experiment!"
   ]
  },
  {
   "cell_type": "code",
   "execution_count": null,
   "id": "dd7a2892-5d41-458b-8a37-9ae9538383e9",
   "metadata": {
    "tags": []
   },
   "outputs": [],
   "source": [
    "# Let's merge the aps and ACSM data together and plot out some distribution plots\n",
    "# First we need to combine data and to do that, we need to get it on the same time grid\n",
    "ds_combined = xr.merge([ds_aps.resample(time='30min').nearest(), ds_acsm.resample(time='30min').nearest()], compat='override')\n",
    "\n",
    "# Plot out the data rose using the Distribution display object\n",
    "display = act.plotting.DistributionDisplay(ds_combined)\n",
    "display.plot_scatter('total_N_conc', 'sulfate', m_field='time')\n",
    "\n",
    "plt.show()"
   ]
  },
  {
   "cell_type": "code",
   "execution_count": null,
   "id": "4e728a37-4d4d-44fb-80a4-492850db6797",
   "metadata": {
    "tags": []
   },
   "outputs": [],
   "source": [
    "# Let's try a heatmap with this as well!\n",
    "display = act.plotting.DistributionDisplay(ds_combined, figsize=(12, 5), subplot_shape=(1, 2))\n",
    "\n",
    "display.plot_scatter('total_N_conc', 'sulfate', m_field='time', subplot_index=(0, 0))\n",
    "display.plot_heatmap('total_N_conc', 'sulfate', subplot_index=(0, 1), x_bins=50, y_bins=50, threshold=0)\n",
    "\n",
    "plt.show()"
   ]
  },
  {
   "cell_type": "code",
   "execution_count": null,
   "id": "f3f1d9d3-cac3-4ce6-96c6-08dfc71bf1ed",
   "metadata": {
    "tags": []
   },
   "outputs": [],
   "source": [
    "# Let's try one last plot type with this dataset\n",
    "# Violin plots!\n",
    "display = act.plotting.DistributionDisplay(ds_acsm)\n",
    "\n",
    "# And then we can plot the data!\n",
    "display.plot_violin('sulfate', positions=[1.0])\n",
    "display.plot_violin('nitrate', positions=[2.0])\n",
    "display.plot_violin('ammonium', positions=[3.0])\n",
    "display.plot_violin('chloride', positions=[4.0])\n",
    "display.plot_violin('total_organics', positions=[5.0])\n",
    "\n",
    "# Let's add some more information to the plots\n",
    "# Update the tick information\n",
    "display.axes[0].set_xticks([0.5, 1, 2, 3, 4, 5, 5.5])\n",
    "display.axes[0].set_xticklabels(['',\n",
    "                                 'Sulfate',\n",
    "                                 'Nitrate',\n",
    "                                 'Ammonium',\n",
    "                                 'Chloride',\n",
    "                                 'Total Organics',\n",
    "                                 '']\n",
    "                                )\n",
    "\n",
    "plt.show()"
   ]
  },
  {
   "cell_type": "markdown",
   "id": "501cb45b-af4d-4fd4-82a1-41c2453b31ac",
   "metadata": {},
   "source": [
    "## Additional Features in ACT\n",
    "If there's time to explore more features or if you want to on your own time, these are some of the many additional\n",
    "features that you might find useful in ACT"
   ]
  },
  {
   "cell_type": "markdown",
   "id": "e9684750-060d-4374-a3da-c49ab49ec9eb",
   "metadata": {
    "tags": []
   },
   "source": [
    "### Skew-T Plots"
   ]
  },
  {
   "cell_type": "code",
   "execution_count": null,
   "id": "fbb4cdad-abeb-4890-8f65-b0a2876e4551",
   "metadata": {
    "tags": []
   },
   "outputs": [],
   "source": [
    "# Let's set a longer time period\n",
    "startdate = '2022-07-16'\n",
    "enddate = '2022-07-16'\n",
    "\n",
    "# SONDE\n",
    "datastream = 'housondewnpnM1.b1'\n",
    "result = act.discovery.download_arm_data(username, token, datastream, startdate, enddate)\n",
    "result.sort()\n",
    "ds_sonde = act.io.arm.read_arm_netcdf(result[-1])\n",
    "\n",
    "# Plot enhanced Skew-T plot\n",
    "display = act.plotting.SkewTDisplay(ds_sonde)\n",
    "display.plot_enhanced_skewt(color_field='alt')\n",
    "\n",
    "plt.show()"
   ]
  },
  {
   "cell_type": "markdown",
   "id": "2c7e2303-97b3-493e-9858-8d20286e58ad",
   "metadata": {},
   "source": [
    "---"
   ]
  },
  {
   "cell_type": "markdown",
   "id": "279f0e4a-4e04-4966-9b30-f1ac060ebf37",
   "metadata": {},
   "source": [
    "### Wind Roses"
   ]
  },
  {
   "cell_type": "code",
   "execution_count": null,
   "id": "74073057-866a-4540-80df-22896aeee209",
   "metadata": {
    "tags": []
   },
   "outputs": [],
   "source": [
    "# Now we can plot up a wind rose of that entire month's worth of data\n",
    "windrose = act.plotting.WindRoseDisplay(ds_met, figsize=(10,8))\n",
    "windrose.plot('wdir_vec_mean', 'wspd_vec_mean', spd_bins=np.linspace(0, 10, 5))\n",
    "windrose.axes[0].legend()\n",
    "plt.show()"
   ]
  },
  {
   "cell_type": "markdown",
   "id": "3fb09a44-fd1c-4855-ab5f-6a2138854be3",
   "metadata": {},
   "source": [
    "---"
   ]
  },
  {
   "cell_type": "markdown",
   "id": "23264170-c735-4575-bcb3-f2a26d5d2f75",
   "metadata": {},
   "source": [
    "### Present Weather Codes\n",
    "See [this example](https://arm-doe.github.io/ACT/source/auto_examples/plotting/plot_presentweathercode.html#sphx-glr-source-auto-examples-plotting-plot-presentweathercode-py) of how to plot up these present weather codes on your plots!"
   ]
  },
  {
   "cell_type": "code",
   "execution_count": null,
   "id": "49f20899-91c2-4594-93f4-7a2743ec0331",
   "metadata": {
    "tags": []
   },
   "outputs": [],
   "source": [
    "# Pass it to the function to decode it along with the variable name\n",
    "ds_met = act.utils.inst_utils.decode_present_weather(ds_met, variable='pwd_pw_code_inst')\n",
    "\n",
    "# We're going to print out the first 10 decoded values that weren't 0\n",
    "# This shows the utility of also being able to use the built-in xarray\n",
    "# features like where!\n",
    "print(list(ds_met['pwd_pw_code_inst_decoded'].where(ds_met.pwd_pw_code_inst.compute() > 0, drop=True).values[0:10]))"
   ]
  },
  {
   "cell_type": "markdown",
   "id": "f2af4fb9-938e-4488-979d-a7e549039032",
   "metadata": {},
   "source": [
    "---"
   ]
  },
  {
   "cell_type": "markdown",
   "id": "898ba5e1-f7c6-4480-9147-4fc7e7c6d726",
   "metadata": {},
   "source": [
    "### Accumulating Precipitation\n",
    "This example shows how to accumulate precipitation using the ACT utility and then overplot the PWD present weather codes"
   ]
  },
  {
   "cell_type": "code",
   "execution_count": null,
   "id": "521fac6c-58cb-4da0-9142-7482a2434fc7",
   "metadata": {
    "tags": []
   },
   "outputs": [],
   "source": [
    "# Let's accumulate the precipitation data from the three different sensors in the MET System\n",
    "# These instruments include a tipping bucket rain gauge, optical rain gauge, and a present weather detector\n",
    "variables = ['tbrg_precip_total', 'org_precip_rate_mean', 'pwd_precip_rate_mean_1min']\n",
    "for v in variables:\n",
    "    ds_met = act.utils.data_utils.accumulate_precip(ds_met, v)\n",
    "\n",
    "# We can plot them out easily in a loop.  Note, they have _accumulated on the end of the name\n",
    "display = act.plotting.TimeSeriesDisplay(ds_met, figsize=(8, 6))\n",
    "for v in variables:\n",
    "    display.plot(v + '_accumulated', label=v)\n",
    "\n",
    "# Add a day/night background\n",
    "display.day_night_background()\n",
    "\n",
    "# Now we can decode the present weather codes (WMO codes)\n",
    "ds_met = act.utils.inst_utils.decode_present_weather(ds_met, variable='pwd_pw_code_1hr')\n",
    "\n",
    "# We're only going to plot up the code when it changes\n",
    "# and if we plot it up, we will skip 2 hours so the plot\n",
    "# is not busy and unreadable\n",
    "ct = 0\n",
    "ds = ds_met.where(ds_met.pwd_pw_code_1hr.compute() > 0, drop=True)\n",
    "wx = ds['pwd_pw_code_1hr_decoded'].values\n",
    "prev_wx = None\n",
    "while ct < len(wx):\n",
    "    if wx[ct] != prev_wx:\n",
    "        # We can access the figure and axes through the display object\n",
    "        display.axes[0].text(ds['time'].values[ct], -7.5, wx[ct], rotation=90, va='top')\n",
    "    prev_wx = wx[ct]\n",
    "    ct += 120\n",
    "plt.subplots_adjust(bottom=0.20)\n",
    "plt.legend()\n",
    "plt.show()"
   ]
  },
  {
   "cell_type": "markdown",
   "id": "e4b5c08b-44b1-4f3f-b63d-3b64f00da627",
   "metadata": {},
   "source": [
    "---"
   ]
  },
  {
   "cell_type": "markdown",
   "id": "807f4624-eb3c-4928-8cd9-45b97ddb6afe",
   "metadata": {},
   "source": [
    "### Doppler Lidar Wind Retrievals\n",
    "This will show you how you can process the doppler lidar PPI scans to produce __[wind profiles](https://arm-doe.github.io/ACT/API/generated/act.retrievals.compute_winds_from_ppi.html#act.retrievals.compute_winds_from_ppi)__ based on Newsom et al 2016.   "
   ]
  },
  {
   "cell_type": "code",
   "execution_count": null,
   "id": "e27624f5-a566-4832-b1c8-7665fcb8edfc",
   "metadata": {
    "tags": []
   },
   "outputs": [],
   "source": [
    "# We're going to use some test data that already exists within ACT\n",
    "# Let's set a longer time period\n",
    "startdate = '2022-07-16T21:00:00'\n",
    "enddate = '2022-07-16T22:00:00'\n",
    "\n",
    "# SONDE\n",
    "datastream = 'houdlppiM1.b1'\n",
    "result = act.discovery.download_arm_data(username, token, datastream, startdate, enddate)\n",
    "result.sort()\n",
    "\n",
    "\n",
    "ds = act.io.arm.read_arm_netcdf(result)\n",
    "ds\n",
    "# Returns the wind retrieval information in a new object by default\n",
    "# Note that the default snr_threshold of 0.008 was too high for the first profile\n",
    "# Reducing it to 0.002 makes it show up but the quality of the data is likely suspect.\n",
    "ds_wind = act.retrievals.compute_winds_from_ppi(ds, snr_threshold=0.0001)\n",
    "\n",
    "# Plot it up\n",
    "display = act.plotting.TimeSeriesDisplay(ds_wind)\n",
    "display.plot_barbs_from_spd_dir('wind_speed', 'wind_direction', invert_y_axis=False)\n",
    "\n",
    "#Update the x-limits to make sure both wind profiles are shown\n",
    "display.axes[0].set_xlim([np.datetime64('2022-07-16T20:45:00'), np.datetime64('2022-07-16T22:15:00')])\n",
    "\n",
    "plt.show()"
   ]
  },
  {
   "cell_type": "markdown",
   "id": "a33d0aac-1fda-41a4-83b7-b86a57a62b1c",
   "metadata": {},
   "source": [
    "---"
   ]
  },
  {
   "cell_type": "markdown",
   "id": "ec213a3b-3bbd-487c-9971-9cb5646e5291",
   "metadata": {},
   "source": [
    "## Mimic ARM Data Files\n",
    "\n",
    "ARM's NetCDF files are based around what we call a data object definition or DOD.  These DOD's essentially create the structure of the file and are what you see in the NetCDF file as the header.  We can use this information to create an  xarray object, filled with missing value, that one can populated with data and then write it out to a NetCDF file that looks exactly like an ARM file.\n",
    "\n",
    "The user is able to set up the size of the datasets ahead of time by passing in the dimension sizes as shown below with `{'time': 1440}`\n",
    "\n",
    "This could greatly streamline and improve the usability of PI-submitted datasets.  \n",
    "\n",
    "**Note, that this does take some time for datastreams like the MET that have a lot of versions.**"
   ]
  },
  {
   "cell_type": "code",
   "execution_count": null,
   "id": "efb6bfca-a28a-4632-bfde-a3125741b0c2",
   "metadata": {
    "tags": []
   },
   "outputs": [],
   "source": [
    "ds = act.io.arm.create_ds_from_arm_dod('ld.b1', {'time': 1440}, scalar_fill_dim='time')\n",
    "\n",
    "# Create some random data and set it to the variable in the obect like normal\n",
    "ds['precip_rate'].values = np.random.rand(1440)\n",
    "ds"
   ]
  },
  {
   "cell_type": "code",
   "execution_count": null,
   "id": "0cac7926-9441-410d-a443-a06c5e1e9193",
   "metadata": {
    "tags": []
   },
   "outputs": [],
   "source": [
    "ds['precip_rate'].plot()"
   ]
  },
  {
   "cell_type": "code",
   "execution_count": null,
   "id": "a1957f70-2ad1-4180-a198-ca04bb4dcb55",
   "metadata": {},
   "outputs": [],
   "source": []
  }
 ],
 "metadata": {
  "kernelspec": {
   "display_name": "Python 3 (ipykernel)",
   "language": "python",
   "name": "python3"
  },
  "language_info": {
   "codemirror_mode": {
    "name": "ipython",
    "version": 3
   },
   "file_extension": ".py",
   "mimetype": "text/x-python",
   "name": "python",
   "nbconvert_exporter": "python",
   "pygments_lexer": "ipython3",
   "version": "3.11.5"
  }
 },
 "nbformat": 4,
 "nbformat_minor": 5
}
