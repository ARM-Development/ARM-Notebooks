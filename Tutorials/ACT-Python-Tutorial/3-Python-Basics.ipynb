{
 "cells": [
  {
   "cell_type": "markdown",
   "id": "2d992e51-104d-4a4c-950f-418482e0c410",
   "metadata": {},
   "source": [
    "# Python Basics"
   ]
  },
  {
   "cell_type": "markdown",
   "id": "422deb57-6c49-4f1f-90bc-fd4dfbed3cc5",
   "metadata": {},
   "source": [
    "Here are some quick examples to refresh your understanding of Python code. \n",
    "\n",
    "This is **not** meant to be a comprehensive tutorial.\n",
    "\n",
    "We encourage you to explore [ProjectPythia](https://foundations.projectpythia.org/landing-page.html) for additional Python resources and tutorials. "
   ]
  },
  {
   "cell_type": "markdown",
   "id": "df21de77-09a8-43bb-88bd-cf2d37af6f7e",
   "metadata": {},
   "source": [
    "## Please run these examples demonstrated today yourself!\n",
    "- Press <kbd>Shift</kbd>+<kbd>Enter</kbd> to execute each code cell!\n",
    "- Feel free to make changes and explore!"
   ]
  },
  {
   "cell_type": "markdown",
   "id": "2fbef793-aad0-4295-aeea-4a5bd2d8aa1d",
   "metadata": {},
   "source": [
    "## Starting off - Hello World!"
   ]
  },
  {
   "cell_type": "code",
   "execution_count": null,
   "id": "b93db0b2-dbbc-4c7d-9d0e-6f66822ef0fb",
   "metadata": {},
   "outputs": [],
   "source": [
    "print(\"Hello World!\")\n",
    "print('Hello Students!')"
   ]
  },
  {
   "cell_type": "markdown",
   "id": "1346a7e3-54a2-49ea-961d-1271ae090f35",
   "metadata": {},
   "source": [
    "## Loops\n",
    "\n",
    "- `for` loops are a staple of scientifc programming."
   ]
  },
  {
   "cell_type": "code",
   "execution_count": null,
   "id": "e708779a-aec4-438f-983c-97b45397c7df",
   "metadata": {},
   "outputs": [],
   "source": [
    "for i in range(10):\n",
    "    print(i)"
   ]
  },
  {
   "cell_type": "markdown",
   "id": "00366c9f-609c-4ffe-8163-4ba6ea946ed3",
   "metadata": {},
   "source": [
    "#### Things to Note: \n",
    "- Python defaults to counting starting from 0 rather than 1.\n",
    "- Function calls (such as `range`) always use parentheses.\n",
    "- `for` loops require colons as punctuation to start.\n",
    "- Code blocks are indicated through indentations. \n",
    "    - **NOTE** indentations need to be similar for each block of code."
   ]
  },
  {
   "cell_type": "code",
   "execution_count": null,
   "id": "ccc6f91b-9ddb-49f1-a209-8bd91aa10724",
   "metadata": {},
   "outputs": [],
   "source": [
    "print('start of loop')\n",
    "for i in range(10):\n",
    "    print('in loop')\n",
    "print('outside of loop')"
   ]
  },
  {
   "cell_type": "markdown",
   "id": "c357898c-0299-4d80-90ea-bb364a3be52c",
   "metadata": {},
   "source": [
    "## Program Control - Conditional Statements\n",
    "\n",
    "For logical decisions, Python has an `if` statement"
   ]
  },
  {
   "cell_type": "code",
   "execution_count": null,
   "id": "5531316a-c93b-4e77-86e2-17f4ca7fccf2",
   "metadata": {},
   "outputs": [],
   "source": [
    "if i > 2: \n",
    "    print(\"i is greater than 2!\")\n",
    "else:\n",
    "    print(\"i is less than 2!\")"
   ]
  },
  {
   "cell_type": "markdown",
   "id": "7afaf193-0e0e-4430-a264-8586a2483995",
   "metadata": {},
   "source": [
    "**QUESTION** Why is `i` greater than 2? What value is `i`? If you do not know, how could you determine the value? "
   ]
  },
  {
   "cell_type": "markdown",
   "id": "739a1d3f-a26d-4e10-bc18-ceb1f4c986b1",
   "metadata": {},
   "source": [
    "Python also defines `True` and `False` logical conditions"
   ]
  },
  {
   "cell_type": "code",
   "execution_count": null,
   "id": "718fb1d3-c77a-4af4-ab9c-3bf96559bfa7",
   "metadata": {},
   "outputs": [],
   "source": [
    "i < 8"
   ]
  },
  {
   "cell_type": "markdown",
   "id": "bccc0668-d2df-4b55-986c-22c2264bd8bd",
   "metadata": {},
   "source": [
    "Python also includes compound statements `and` and `or`"
   ]
  },
  {
   "cell_type": "code",
   "execution_count": null,
   "id": "4ce39ef3-f741-4648-b0a6-d7976d0d197e",
   "metadata": {},
   "outputs": [],
   "source": [
    "for i in range(10):\n",
    "    if i > 2 and i <= 8:\n",
    "        print(f\"this is iteration number {i}.\")\n",
    "    if i > 9 or i < 0:\n",
    "        print('this condition is never met')"
   ]
  },
  {
   "cell_type": "markdown",
   "id": "336715d7-729b-45f5-8223-7f059e3ac3e8",
   "metadata": {},
   "source": [
    "#### Things to Note:\n",
    "- `if` statements can also use less than or equal to notation `<=` \n",
    "- The `and` statement uses formatted output"
   ]
  },
  {
   "cell_type": "markdown",
   "id": "6ea489c1-8fe2-496a-acef-c2ce9bb23784",
   "metadata": {},
   "source": [
    "## Basic Python Data Types\n",
    "\n",
    "A key strength of Python are the flexible data types, the core of which are noted below"
   ]
  },
  {
   "cell_type": "markdown",
   "id": "d7799dbe-985a-4f94-a497-6cf6f44d1106",
   "metadata": {},
   "source": [
    "**QUESTION** What data type is `i`?"
   ]
  },
  {
   "cell_type": "code",
   "execution_count": null,
   "id": "540e0e3f-5353-49e7-a330-29b5b64b261d",
   "metadata": {},
   "outputs": [],
   "source": [
    "print(type(i))"
   ]
  },
  {
   "cell_type": "markdown",
   "id": "86b0dd8d-2c5e-4620-87c6-be11ea1d18b2",
   "metadata": {
    "tags": []
   },
   "source": [
    "### Floating Point Numbers `float`"
   ]
  },
  {
   "cell_type": "code",
   "execution_count": null,
   "id": "80a995d4-6079-441e-b2db-371b1618d2cb",
   "metadata": {},
   "outputs": [],
   "source": [
    "a = 10.58\n",
    "b = 1e-9\n",
    "print(a, type(a))\n",
    "print(b, type(b))"
   ]
  },
  {
   "cell_type": "markdown",
   "id": "b7cdfae8-82c2-4a6b-84e8-c7b888d21321",
   "metadata": {},
   "source": [
    "#### Things to Note:\n",
    "- `print` statements can take multiple inputs\n",
    "- `float` numbers are include scientific notation"
   ]
  },
  {
   "cell_type": "markdown",
   "id": "092024de-7ee7-407d-b29f-e0b63d1c1f73",
   "metadata": {},
   "source": [
    "### Character strings `str`\n",
    "As we have been doing, you can use either single quotes `''` or double quotes `\"\"` to denote strings"
   ]
  },
  {
   "cell_type": "code",
   "execution_count": null,
   "id": "730cab0e-b56e-42d3-98da-e566fd0430c2",
   "metadata": {},
   "outputs": [],
   "source": [
    "c = 'Argonne National Laboratory'\n",
    "d = \"Atmospheric Sciences\" \n",
    "e = \"cloudy, hot, humid\""
   ]
  },
  {
   "cell_type": "code",
   "execution_count": null,
   "id": "e0a8630a-1754-4ee6-aef9-b1f0b81316a4",
   "metadata": {},
   "outputs": [],
   "source": [
    "print(c)\n",
    "print(d)\n",
    "print(e)\n",
    "print(type(c), type(d), type(e))"
   ]
  },
  {
   "cell_type": "markdown",
   "id": "6890a0fb-ae5f-4efb-8507-6fa1392ff7d8",
   "metadata": {},
   "source": [
    "### Lists \n",
    "- A ordered container of objects denoted by **square brackets**\n",
    "- Note that objects can be any data type"
   ]
  },
  {
   "cell_type": "code",
   "execution_count": null,
   "id": "3638cdf1-9076-4545-8379-b3f2c1dc6b3a",
   "metadata": {},
   "outputs": [],
   "source": [
    "mylist = [10, 20, 30, 40]"
   ]
  },
  {
   "cell_type": "code",
   "execution_count": null,
   "id": "08f71e23-ca90-44bf-a006-18264cb17859",
   "metadata": {},
   "outputs": [],
   "source": [
    "print(mylist, type(mylist))"
   ]
  },
  {
   "cell_type": "markdown",
   "id": "7460debc-f257-498d-bf14-00bbb54e45e4",
   "metadata": {},
   "source": [
    "Things to Note:\n",
    "- you can also iterate through lists\n",
    "- lists do not need to contain the same type of data!"
   ]
  },
  {
   "cell_type": "code",
   "execution_count": null,
   "id": "b0d06d7a-7d29-498e-8186-50b9c9f61eae",
   "metadata": {},
   "outputs": [],
   "source": [
    "newlist = [10, 20.5, 1e9, 'Python']\n",
    "for var in newlist:\n",
    "    print(var, type(var))"
   ]
  },
  {
   "cell_type": "markdown",
   "id": "94acbb28-39a0-4848-9883-e8117ddf8f18",
   "metadata": {},
   "source": [
    "- Since Lists are **ordered** we can access items by index"
   ]
  },
  {
   "cell_type": "code",
   "execution_count": null,
   "id": "93c24612-7c9c-4849-823f-cb00afaea80f",
   "metadata": {},
   "outputs": [],
   "source": [
    "newlist[1]"
   ]
  },
  {
   "cell_type": "markdown",
   "id": "dec1aa51-1cae-4da4-8361-0b94b71f3353",
   "metadata": {},
   "source": [
    "## What Now?\n",
    "- Now that the Python basics have been reintroduced, let's take a look a specific libraries that are useful in scientific applications"
   ]
  },
  {
   "cell_type": "markdown",
   "id": "bca44f23-3036-43e0-a086-94f50b35768e",
   "metadata": {},
   "source": [
    "## Matplotlib - Scientific Data Visualization\n",
    "\n",
    "From the [Matplotlib Documentation](https://matplotlib.org/stable/index.html):\n",
    "> Matplotlib is a comprehensive library for creating static, animated, and interactive visualizations in Python. Matplotlib makes easy things easy and hard things possible.\n",
    "\n",
    "> - Create publication quality plots.\n",
    "> - Make interactive figures that can zoom, pan, update.\n",
    "> - Cus tomize visual style and layout.\n",
    "> - Export to many file formats.\n",
    "> - Embed in JupyterLab and Graphical User Interfaces.\n",
    "> - Use a rich array of third-party packages built on Matplotlib.\n",
    "\n",
    "Additional Tutorials:\n",
    "- [ProjectPythia Matplotlib](https://foundations.projectpythia.org/core/matplotlib.html)"
   ]
  },
  {
   "cell_type": "code",
   "execution_count": null,
   "id": "c56db0a4-31ea-46f2-8a7d-51f132fe7363",
   "metadata": {},
   "outputs": [],
   "source": [
    "# Data we wish to display\n",
    "varA = [0, 1, 2, 3, 4]\n",
    "varB = [0, 1, 2, 3, 4]\n",
    "varC = [0, 1, 4, 9, 16]"
   ]
  },
  {
   "cell_type": "code",
   "execution_count": null,
   "id": "257d92e5-3828-4a11-b420-77eb48379900",
   "metadata": {},
   "outputs": [],
   "source": [
    "import matplotlib.pyplot as plt # Convention is to import and rename. Best to stick with convention\n",
    "\n",
    "# Create a Figure\n",
    "fig = plt.figure()\n",
    "\n",
    "# Add an axis to display data in\n",
    "ax = fig.add_subplot(1, 1, 1)\n",
    "\n",
    "# Plot the first set of data\n",
    "ax.plot(varA, varB, label='y = x') # include a label!\n",
    "# Plot the second set of data\n",
    "ax.plot(varA, varC, label=r'y = x$^2$')\n",
    "# Label your axes\n",
    "ax.set_ylabel('Y Values [#]')\n",
    "ax.set_xlabel('X Values [#]')\n",
    "# Add a title\n",
    "ax.set_title('First Matplotlib Plot')\n",
    "# Add a legend\n",
    "ax.legend(loc='upper left')\n",
    "# Display!\n",
    "plt.show()"
   ]
  },
  {
   "cell_type": "markdown",
   "id": "0247e419-b8b2-4c2c-9ea0-8f045526417d",
   "metadata": {},
   "source": [
    "## Resources and References\n",
    "- [Official Python tutorial (Python Docs)](https://docs.python.org/3/tutorial/index.html)\n",
    "- [ProjectPythia](https://foundations.projectpythia.org/landing-page.html)"
   ]
  }
 ],
 "metadata": {
  "kernelspec": {
   "display_name": "Python 3 (ipykernel)",
   "language": "python",
   "name": "python3"
  },
  "language_info": {
   "codemirror_mode": {
    "name": "ipython",
    "version": 3
   },
   "file_extension": ".py",
   "mimetype": "text/x-python",
   "name": "python",
   "nbconvert_exporter": "python",
   "pygments_lexer": "ipython3",
   "version": "3.11.4"
  }
 },
 "nbformat": 4,
 "nbformat_minor": 5
}
