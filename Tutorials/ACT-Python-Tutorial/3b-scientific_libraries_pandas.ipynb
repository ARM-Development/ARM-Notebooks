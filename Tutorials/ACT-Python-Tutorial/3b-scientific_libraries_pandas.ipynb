{
 "cells": [
  {
   "cell_type": "markdown",
   "id": "9c628dc9",
   "metadata": {},
   "source": [
    "# Working with Pandas\n",
    "\n",
    "From the [Pandas Documentation](https://pandas.pydata.org/docs/getting_started/overview.html)\n",
    "> pandas is a Python package providing fast, flexible, and expressive data structures designed to make working with “relational” or “labeled” data both easy and intuitive. It aims to be the fundamental high-level building block for doing practical, real-world data analysis in Python. Additionally, it has the broader goal of becoming the most powerful and flexible open source data analysis/manipulation tool available in any language. It is already well on its way toward this goal. \n",
    "\n",
    "Pandas is an extension of the Numpy data model to structure and organize data into DataFrames. A DataFrame resembles a spreadsheet in looks, but is much more powerful.\n",
    "\n",
    "Additional Tutorials\n",
    "- [ProjectPythia Pandas Tutorial](https://foundations.projectpythia.org/core/pandas.html)"
   ]
  },
  {
   "cell_type": "code",
   "execution_count": null,
   "id": "eae8b548",
   "metadata": {},
   "outputs": [],
   "source": [
    "import pandas as pd  # Convention suggest to import as pd\n",
    "\n",
    "from pathlib import Path\n",
    "import numpy as np"
   ]
  },
  {
   "cell_type": "markdown",
   "id": "1295785c",
   "metadata": {},
   "source": [
    "## Create Pandas DataFrame\n",
    "Create some data in a python dictionary"
   ]
  },
  {
   "cell_type": "code",
   "execution_count": null,
   "id": "dff6330a",
   "metadata": {},
   "outputs": [],
   "source": [
    "data = {'apples': [3, 2, 0, 1],\n",
    "        'oranges': [0, 3, 7, 2]}\n",
    "data"
   ]
  },
  {
   "cell_type": "markdown",
   "id": "598be315",
   "metadata": {},
   "source": [
    "Use the dictionary to populate the new pandas data frame. Python and Jupyter play very well with Pandas and when requested to print the DataFrame or Series knows how to print in a visually appealing way. Notice the columns have names taken from the Dictionary keys we used to populate the DataFrame. Each row has an index set to an incremented integer by default."
   ]
  },
  {
   "cell_type": "code",
   "execution_count": null,
   "id": "1b8fec2e",
   "metadata": {},
   "outputs": [],
   "source": [
    "purchases = pd.DataFrame(data)\n",
    "purchases"
   ]
  },
  {
   "cell_type": "markdown",
   "id": "df5e7477",
   "metadata": {},
   "source": [
    "Pandas DataFrame consisting of Series"
   ]
  },
  {
   "cell_type": "code",
   "execution_count": null,
   "id": "b3417274",
   "metadata": {},
   "outputs": [],
   "source": [
    "type(purchases)"
   ]
  },
  {
   "cell_type": "markdown",
   "id": "88a0ed8a",
   "metadata": {},
   "source": [
    "Pandas Series"
   ]
  },
  {
   "cell_type": "code",
   "execution_count": null,
   "id": "1ec8b218",
   "metadata": {},
   "outputs": [],
   "source": [
    "type(purchases.apples)"
   ]
  },
  {
   "cell_type": "markdown",
   "id": "78e6f95d",
   "metadata": {},
   "source": [
    "A DataFrame has a concept of \"index\" to label the rows of the DataFrame and column names to label the Columns. We created column names from the Dictionary keys used to initially create the DataFrame."
   ]
  },
  {
   "cell_type": "code",
   "execution_count": null,
   "id": "1d7824c9",
   "metadata": {},
   "outputs": [],
   "source": [
    "purchases = pd.DataFrame(data, index=['June', 'Robert', 'Lily', 'David'])\n",
    "purchases"
   ]
  },
  {
   "cell_type": "markdown",
   "id": "637a4926",
   "metadata": {},
   "source": [
    "Printing the column shows additional informatin including the index and data type."
   ]
  },
  {
   "cell_type": "code",
   "execution_count": null,
   "id": "7fab5792",
   "metadata": {},
   "outputs": [],
   "source": [
    "purchases.apples"
   ]
  },
  {
   "cell_type": "markdown",
   "id": "fbdf3407",
   "metadata": {},
   "source": [
    "Extracting a row uses the .loc() method on the DataFrame. .loc() standar for location and searches the index for a match."
   ]
  },
  {
   "cell_type": "code",
   "execution_count": null,
   "id": "e4f01997",
   "metadata": {},
   "outputs": [],
   "source": [
    "purchases.loc['June']"
   ]
  },
  {
   "cell_type": "markdown",
   "id": "cdc773e0",
   "metadata": {},
   "source": [
    "Can also extract using index location .iloc() method."
   ]
  },
  {
   "cell_type": "code",
   "execution_count": null,
   "id": "4c4b38a4",
   "metadata": {},
   "outputs": [],
   "source": [
    "purchases.iloc[0]"
   ]
  },
  {
   "cell_type": "markdown",
   "id": "0d1a9805",
   "metadata": {},
   "source": [
    "## Read in some data\n",
    "Using the path to a specific file we read the data into a Pandas Data Frame. This is something you will use very often if you have data in ASCII column files. Get to know this method well. The method has keywords to help describe how to read the column data including the delimter, number of header rows, and which column is the time stamp. If it can parse the time stamp it will convert to Pandas native time type."
   ]
  },
  {
   "cell_type": "code",
   "execution_count": null,
   "id": "64215e13",
   "metadata": {},
   "outputs": [],
   "source": [
    "filename = Path('data', 'MET', 'sgpmetE13.00.20230707.205900.raw.MET_Table1.20230707200000.dat')\n",
    "data = pd.read_csv(filename, delimiter=',', header=0, skiprows=[0, 2, 3], parse_dates=[0])\n",
    "\n",
    "data"
   ]
  },
  {
   "cell_type": "markdown",
   "id": "3a2fc60b",
   "metadata": {},
   "source": [
    "How many data samples do we have? Can use the Python len() function. Notice it returns the number of rows only."
   ]
  },
  {
   "cell_type": "code",
   "execution_count": null,
   "id": "8d9b2333",
   "metadata": {},
   "outputs": [],
   "source": [
    "len(data)"
   ]
  },
  {
   "cell_type": "markdown",
   "id": "f6fc31d6",
   "metadata": {},
   "source": [
    "Similar to Numpy, can use the .shape and .size methods on the DataFrame to return metadata about size of the DataFrame."
   ]
  },
  {
   "cell_type": "code",
   "execution_count": null,
   "id": "8442f953",
   "metadata": {},
   "outputs": [],
   "source": [
    "print(data.size)\n",
    "print(data.shape)"
   ]
  },
  {
   "cell_type": "markdown",
   "id": "27745072",
   "metadata": {},
   "source": [
    "Print the first five rows"
   ]
  },
  {
   "cell_type": "code",
   "execution_count": null,
   "id": "955fa472",
   "metadata": {},
   "outputs": [],
   "source": [
    "data[0:5]"
   ]
  },
  {
   "cell_type": "markdown",
   "id": "35c320a0",
   "metadata": {},
   "source": [
    "We can get the names of the columns with .columns method"
   ]
  },
  {
   "cell_type": "code",
   "execution_count": null,
   "id": "b811d122",
   "metadata": {},
   "outputs": [],
   "source": [
    "data.columns"
   ]
  },
  {
   "cell_type": "markdown",
   "id": "2e6527c5",
   "metadata": {},
   "source": [
    "Pandas has a few methods used to inspect the data in the Dataset or Series and present the typical statistical values. Because Pandas plays so well with Jupyter the output is very easy to visualize."
   ]
  },
  {
   "cell_type": "code",
   "execution_count": null,
   "id": "08b0791a",
   "metadata": {},
   "outputs": [],
   "source": [
    "data.describe()"
   ]
  },
  {
   "cell_type": "markdown",
   "id": "309ea404",
   "metadata": {},
   "source": [
    "Calculate the correlation coefficients of the DataSet on each Series"
   ]
  },
  {
   "cell_type": "code",
   "execution_count": null,
   "id": "eeefc7fb",
   "metadata": {},
   "outputs": [],
   "source": [
    "data.corr()"
   ]
  },
  {
   "cell_type": "markdown",
   "id": "6a722b31",
   "metadata": {},
   "source": [
    "Calculate the covariance coefficients of the DataSet on each Series"
   ]
  },
  {
   "cell_type": "code",
   "execution_count": null,
   "id": "5b455185",
   "metadata": {},
   "outputs": [],
   "source": [
    "data.cov()"
   ]
  },
  {
   "cell_type": "markdown",
   "id": "d0d29bff",
   "metadata": {},
   "source": [
    "What type is the time column data?"
   ]
  },
  {
   "cell_type": "code",
   "execution_count": null,
   "id": "1d1dac0c",
   "metadata": {},
   "outputs": [],
   "source": [
    "print(type(data['TIMESTAMP'][0]))\n",
    "print(type(data['PTemp'][0]))"
   ]
  },
  {
   "cell_type": "markdown",
   "id": "d139be90",
   "metadata": {},
   "source": [
    "Get the pressure Series from the DataFrame and sum it up to one value or calcualte the mean."
   ]
  },
  {
   "cell_type": "code",
   "execution_count": null,
   "id": "6a58d981",
   "metadata": {},
   "outputs": [],
   "source": [
    "print(data['Pressure_kPa'].sum())\n",
    "print(data['Pressure_kPa'].mean())"
   ]
  },
  {
   "cell_type": "markdown",
   "id": "479fed2f",
   "metadata": {},
   "source": [
    "Get the pressure Series from the DataFrame and use a special method to summarize the values in the Series using what Pandas things is most helpful."
   ]
  },
  {
   "cell_type": "code",
   "execution_count": null,
   "id": "c0355a11",
   "metadata": {},
   "outputs": [],
   "source": [
    "data['RH_Avg'].describe()"
   ]
  },
  {
   "cell_type": "markdown",
   "id": "de7f4660",
   "metadata": {},
   "source": [
    "Extract the RH series from the DataFrame. This is a copy of the Series in the DataFrame so changing the values will not change the values in the DataFrame."
   ]
  },
  {
   "cell_type": "code",
   "execution_count": null,
   "id": "2e7424db",
   "metadata": {},
   "outputs": [],
   "source": [
    "rh = data['RH_Avg']\n",
    "type(rh)"
   ]
  },
  {
   "cell_type": "markdown",
   "id": "6a925d76",
   "metadata": {},
   "source": [
    "### Warning, off on a tangent\n",
    "Pandas has two ways of extracting a Series from a DataFrame: *copy* and *view*. A copy is separate from the DataFrame and changes to the copied Series will not affect the DataFrame. Changes to a view will impact the DataFrame. In pandas, whether you get a view or a copy depends on the structure of the DataFrame and, if you are trying to modify a slice, the nature of the modification. Pandas will often warn when using a view vs. a copy, but that may not alwasy be the case. There is discussion to resovle this issue but the fix is not going to happen soon. The best solution is to use .copy() when you want a copy to be explicit."
   ]
  },
  {
   "cell_type": "code",
   "execution_count": null,
   "id": "70f8ee20",
   "metadata": {},
   "outputs": [],
   "source": [
    "rh = data['RH_Avg'].copy()\n",
    "type(rh)"
   ]
  },
  {
   "cell_type": "markdown",
   "id": "f2b2af9c",
   "metadata": {},
   "source": [
    "Calculate a rolling mean over the Series using 10 points. Notice the first 8 values are NaN. There is a default number of values to use to calculate a value. Else it is set to NaN."
   ]
  },
  {
   "cell_type": "code",
   "execution_count": null,
   "id": "4bfdc142",
   "metadata": {},
   "outputs": [],
   "source": [
    "rh_rolling_mean = rh.rolling(10).mean()\n",
    "rh_rolling_mean"
   ]
  },
  {
   "cell_type": "markdown",
   "id": "b49fa44a",
   "metadata": {},
   "source": [
    "By specifically stating the minimum number of points to use when calculating the mean we force it to not fill in so many NaNs. There is at least one value to use in the rollig window so not NaNs. What happens when you change min_periods to a larger number?"
   ]
  },
  {
   "cell_type": "code",
   "execution_count": null,
   "id": "03e942e6",
   "metadata": {},
   "outputs": [],
   "source": [
    "rh_rolling_mean = rh.rolling(10, min_periods=1).mean()\n",
    "rh_rolling_mean"
   ]
  },
  {
   "cell_type": "markdown",
   "id": "a250e188",
   "metadata": {},
   "source": [
    "Set a range of values in our extracted data to NaN to represent missing data."
   ]
  },
  {
   "cell_type": "code",
   "execution_count": null,
   "id": "a3aea2f0",
   "metadata": {},
   "outputs": [],
   "source": [
    "rh[20:30] = np.nan\n",
    "rh"
   ]
  },
  {
   "cell_type": "markdown",
   "id": "fc0ec9ad",
   "metadata": {},
   "source": [
    "Calculate a rolling max on the entire DataFrame."
   ]
  },
  {
   "cell_type": "code",
   "execution_count": null,
   "id": "d3504bf3",
   "metadata": {},
   "outputs": [],
   "source": [
    "rh_rolling_mean = data['RH_Avg'].rolling(10, min_periods=2).max()\n",
    "rh_rolling_mean"
   ]
  }
 ],
 "metadata": {
  "kernelspec": {
   "display_name": "Python 3 (ipykernel)",
   "language": "python",
   "name": "python3"
  },
  "language_info": {
   "codemirror_mode": {
    "name": "ipython",
    "version": 3
   },
   "file_extension": ".py",
   "mimetype": "text/x-python",
   "name": "python",
   "nbconvert_exporter": "python",
   "pygments_lexer": "ipython3",
   "version": "3.11.4"
  }
 },
 "nbformat": 4,
 "nbformat_minor": 5
}
