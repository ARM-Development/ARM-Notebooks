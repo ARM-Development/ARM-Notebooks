{
 "cells": [
  {
   "cell_type": "markdown",
   "metadata": {},
   "source": [
    "<img src=\"../../../images/arm_logo.png\" width=500 alt=\"ARM Logo\"></img>"
   ]
  },
  {
   "cell_type": "markdown",
   "metadata": {},
   "source": [
    "# Py-ART Gridding\n",
    "---"
   ]
  },
  {
   "cell_type": "markdown",
   "metadata": {},
   "source": [
    "This notebook shows how you can easily make Cartesian grids from radar files using Py-ART."
   ]
  },
  {
   "cell_type": "code",
   "execution_count": null,
   "metadata": {},
   "outputs": [],
   "source": [
    "import os\n",
    "import warnings\n",
    "\n",
    "import cartopy.crs as ccrs\n",
    "import matplotlib.pyplot as plt\n",
    "import numpy as np\n",
    "\n",
    "\n",
    "import pyart\n",
    "from pyart.testing import get_test_data\n",
    "\n",
    "warnings.filterwarnings('ignore')"
   ]
  },
  {
   "cell_type": "markdown",
   "metadata": {},
   "source": [
    "Let's load and display our radar file!"
   ]
  },
  {
   "cell_type": "code",
   "execution_count": null,
   "metadata": {},
   "outputs": [],
   "source": [
    "file = 'data/swx_20120520_0641.nc'\n",
    "radar = pyart.io.read(file)"
   ]
  },
  {
   "cell_type": "code",
   "execution_count": null,
   "metadata": {},
   "outputs": [],
   "source": [
    "display = pyart.graph.RadarMapDisplay(radar)\n",
    "fig = plt.figure(figsize=(8, 6))\n",
    "ax1 = plt.subplot(1, 1, 1, projection=ccrs.PlateCarree())\n",
    "display.plot_ppi_map('reflectivity_horizontal', ax=ax1, sweep=2, resolution='50m',\n",
    "                     vmin=0, vmax=60, \n",
    "                     projection=ccrs.PlateCarree(), cmap='pyart_HomeyerRainbow')"
   ]
  },
  {
   "cell_type": "markdown",
   "metadata": {},
   "source": [
    "Py-ART has the Grid object which has characteristics that are similar to that of the Radar object, except that the data are stored in Cartesian coordinates instead of the radar's coordinates. Much like the Radar object, the fields are accessible by simply accessing grid.fields['field_name']['data'], and the object contains parameters such as the radar's location and projection. Full information about the Grid object is available here:\n",
    "\n",
    "https://arm-doe.github.io/pyart/API/generated/pyart.core.Grid.html\n",
    "\n",
    "We can create a Grid object from a Radar object by using pyart.map.grid_from_radars()"
   ]
  },
  {
   "cell_type": "code",
   "execution_count": null,
   "metadata": {},
   "outputs": [],
   "source": [
    "# create a basic gate filter which specifies gates to exclude from gridding.\n",
    "gatefilter = pyart.filters.GateFilter(radar)\n",
    "gatefilter.exclude_transition()\n",
    "gatefilter.exclude_invalid('mean_doppler_velocity')\n",
    "gatefilter.exclude_invalid('reflectivity_horizontal')\n",
    "gatefilter.exclude_outside('reflectivity_horizontal', 0, 80)"
   ]
  },
  {
   "cell_type": "code",
   "execution_count": null,
   "metadata": {},
   "outputs": [],
   "source": [
    "grid = pyart.map.grid_from_radars(\n",
    "    [radar], grid_shape=(41, 101, 101), \n",
    "    grid_limits=((0., 20000,), (-40000, 40000.), (-40000, 40000.)),\n",
    "    gatefilter=gatefilter)"
   ]
  },
  {
   "cell_type": "markdown",
   "metadata": {},
   "source": [
    "The Display module contains routines for plotting gridded data in GridMapDisplay, which has functionality similar to RadarMapDisplay. The below example plots the Grid that was just made at the 1.5 km level. The level can be specified in the level parameter of plot_grid. Feel free to take the time to look at higher altitudes by changing this parameter."
   ]
  },
  {
   "cell_type": "code",
   "execution_count": null,
   "metadata": {},
   "outputs": [],
   "source": [
    "gdisplay = pyart.graph.GridMapDisplay(grid)\n",
    "gdisplay.plot_grid('reflectivity_horizontal', level=3, cmap='pyart_HomeyerRainbow', vmin=-20, vmax=60)"
   ]
  },
  {
   "cell_type": "markdown",
   "metadata": {},
   "source": [
    "We can even do both longitudnal and latitudnal slices. Change the lat parameter to view different portions of the storm! "
   ]
  },
  {
   "cell_type": "code",
   "execution_count": null,
   "metadata": {},
   "outputs": [],
   "source": [
    "gdisplay.plot_latitude_slice('reflectivity_horizontal', cmap='pyart_HomeyerRainbow', vmin=0, vmax=60)\n",
    "plt.xlim([-30, 30])"
   ]
  },
  {
   "cell_type": "markdown",
   "metadata": {},
   "source": [
    "As you can see, this Grid suffers from gaps in data as well as artificial \"feathers\" near the top that are simply the result of projecting the data to Cartesian coordinates. We would like to eliminate these as much as possible. Thankfully, Py-ART let's us, on top of specifying the grid resolution, also place in a custom radius of influence which controls how many points surrounding the gate are factored into the interpolation. Let's try increasing the minimum radius of influence to 1.75 km!"
   ]
  },
  {
   "cell_type": "code",
   "execution_count": null,
   "metadata": {},
   "outputs": [],
   "source": [
    "grid_better = pyart.map.grid_from_radars(\n",
    "    [radar], grid_shape=(41, 201, 201), \n",
    "    grid_limits=((0., 20000,), (-40000., 40000.), (-40000, 40000.)),\n",
    "    roi_func='dist_beam', min_radius=1750.0)"
   ]
  },
  {
   "cell_type": "markdown",
   "metadata": {},
   "source": [
    "As you can see, most of the artifacts at higher altitudes have been smoothed out, but we have lost some spatial resolution as a result."
   ]
  },
  {
   "cell_type": "code",
   "execution_count": null,
   "metadata": {},
   "outputs": [],
   "source": [
    "gdisplay2 = pyart.graph.GridMapDisplay(grid_better)\n",
    "gdisplay2.plot_latitude_slice('reflectivity_horizontal', cmap='pyart_HomeyerRainbow', vmin=0, vmax=60)\n",
    "plt.xlim([-30, 30])"
   ]
  },
  {
   "cell_type": "code",
   "execution_count": null,
   "metadata": {},
   "outputs": [],
   "source": []
  }
 ],
 "metadata": {
  "kernelspec": {
   "display_name": "Python 3.9.6 64-bit",
   "language": "python",
   "name": "python3"
  },
  "language_info": {
   "codemirror_mode": {
    "name": "ipython",
    "version": 3
   },
   "file_extension": ".py",
   "mimetype": "text/x-python",
   "name": "python",
   "nbconvert_exporter": "python",
   "pygments_lexer": "ipython3",
   "version": "3.9.6"
  },
  "vscode": {
   "interpreter": {
    "hash": "31f2aee4e71d21fbe5cf8b01ff0e069b9275f58929596ceb00d14d90e3e16cd6"
   }
  }
 },
 "nbformat": 4,
 "nbformat_minor": 4
}
