{
 "cells": [
  {
   "cell_type": "markdown",
   "id": "b5b66f99-f2ef-47df-9cc1-1020cd32c7c0",
   "metadata": {},
   "source": [
    "# ESMAC: Generate bar plot for aerosol composition\n",
    "\n",
    "---\n"
   ]
  },
  {
   "cell_type": "markdown",
   "id": "ebfb0a99-5d61-497a-a96d-2487e91ad224",
   "metadata": {},
   "source": [
    "Setup dependencies:"
   ]
  },
  {
   "cell_type": "code",
   "execution_count": 1,
   "id": "e01ad339-fe37-4471-8883-bc3862a66042",
   "metadata": {},
   "outputs": [
    {
     "name": "stderr",
     "output_type": "stream",
     "text": [
      "Matplotlib created a temporary config/cache directory at /tmp/matplotlib-e5dh19kn because the default path (/home/jovyan/.cache/matplotlib) is not a writable directory; it is highly recommended to set the MPLCONFIGDIR environment variable to a writable directory, in particular to speed up the import of Matplotlib and to better support multiprocessing.\n"
     ]
    }
   ],
   "source": [
    "import os\n",
    "import numpy as np\n",
    "import xarray as xr\n",
    "import pandas as pd\n",
    "# these sys settings are just for the jupyterhub demo\n",
    "import sys\n",
    "sys.path.append('/home/'+os.environ['USER']+'/.local/lib/python3.9/site-packages')\n",
    "import esmac_diags.plotting.plot_esmac_diags as plot\n"
   ]
  },
  {
   "cell_type": "markdown",
   "id": "6da33675-5795-4bbf-8d93-83fdebbc25f1",
   "metadata": {},
   "source": [
    "<br>Configure settings:"
   ]
  },
  {
   "cell_type": "code",
   "execution_count": 2,
   "id": "29f4e1e4-e434-4f24-8cc5-6cd36d95db97",
   "metadata": {},
   "outputs": [],
   "source": [
    "# set site name.\n",
    "site = 'HISCALE'\n",
    "\n",
    "# path of prepared files\n",
    "\n",
    "data_path = '~/ARM-Notebooks/Open-Science-Workshop-2022/tutorials/ESMAC_diags/ESMAC_Diags_testcase/prep_data/'\n",
    "\n",
    "prep_model_path = data_path +site+'/model/'\n",
    "prep_obs_path = data_path +site+'/surface/'\n",
    "prep_obs_path_2 = data_path +site+'/satellite/'\n",
    "# set output path for plots\n",
    "figpath= '~/ARM-Notebooks/Open-Science-Workshop-2022/tutorials/ESMAC_diags/ESMAC_Diags_testcase/figures/'+site+'/surface/'\n"
   ]
  },
  {
   "cell_type": "markdown",
   "id": "69fa3597-7906-443b-bec6-284a9bed6cb9",
   "metadata": {},
   "source": [
    "<br>Read data:"
   ]
  },
  {
   "cell_type": "code",
   "execution_count": 3,
   "id": "6dde766b-4dd2-47b3-8125-b150b9eb2356",
   "metadata": {},
   "outputs": [],
   "source": [
    "filename = prep_obs_path + 'sfc_ACSM_'+site+'.nc'\n",
    "obsdata = xr.open_dataset(filename)\n",
    "time_acsm = obsdata['time'].load()\n",
    "org = obsdata['org'].load()\n",
    "so4 = obsdata['so4'].load()\n",
    "nh4 = obsdata['nh4'].load()\n",
    "no3 = obsdata['no3'].load()\n",
    "chl = obsdata['chl'].load()\n",
    "obsdata.close()\n",
    "\n",
    "filename = prep_model_path + 'E3SMv1_'+site+'_sfc.nc'\n",
    "modeldata = xr.open_dataset(filename)\n",
    "time_m = modeldata['time'].load()\n",
    "pom_m = modeldata['pom'].load()\n",
    "mom_m = modeldata['mom'].load()\n",
    "so4_m = modeldata['so4'].load()\n",
    "soa_m = modeldata['soa'].load()\n",
    "bc_m = modeldata['bc'].load()\n",
    "dst_m = modeldata['dst'].load()\n",
    "ncl_m = modeldata['ncl'].load()\n",
    "modeldata.close()\n",
    "org_m = pom_m + mom_m + soa_m\n",
    "\n",
    "filename = prep_model_path + 'E3SMv2_'+site+'_sfc.nc'\n",
    "modeldata = xr.open_dataset(filename)\n",
    "time_m2 = modeldata['time'].load()\n",
    "pom_m2 = modeldata['pom'].load()\n",
    "mom_m2 = modeldata['mom'].load()\n",
    "so4_m2 = modeldata['so4'].load()\n",
    "soa_m2 = modeldata['soa'].load()\n",
    "bc_m2 = modeldata['bc'].load()\n",
    "dst_m2 = modeldata['dst'].load()\n",
    "ncl_m2 = modeldata['ncl'].load()\n",
    "modeldata.close()\n",
    "org_m2 = pom_m2 + mom_m2 + soa_m2\n"
   ]
  },
  {
   "cell_type": "markdown",
   "id": "e2b94bf6-3a46-4fba-b038-9bc7592ffab7",
   "metadata": {},
   "source": [
    "<br>Specific data treatment:"
   ]
  },
  {
   "cell_type": "code",
   "execution_count": 4,
   "id": "a60d3e54-267b-4f59-9ee1-0cbf95c82782",
   "metadata": {},
   "outputs": [],
   "source": [
    "# trim for the same time period\n",
    "IOP = 'IOP1'\n",
    "time1 = np.datetime64('2016-04-25')\n",
    "time2 = np.datetime64('2016-05-22')\n",
    "time = pd.date_range(start='2016-04-25', end='2016-05-22', freq=\"H\")\n",
    "# IOP = 'IOP2'\n",
    "# time1 = np.datetime64('2016-08-28')\n",
    "# time2 = np.datetime64('2016-09-23')\n",
    "# time = pd.date_range(start='2016-08-28', end='2016-09-23', freq=\"H\")\n",
    "\n",
    "org = org[np.logical_and(time_acsm>=time1, time_acsm<=time2)]\n",
    "so4 = so4[np.logical_and(time_acsm>=time1, time_acsm<=time2)]\n",
    "nh4 = nh4[np.logical_and(time_acsm>=time1, time_acsm<=time2)]\n",
    "no3 = no3[np.logical_and(time_acsm>=time1, time_acsm<=time2)]\n",
    "chl = chl[np.logical_and(time_acsm>=time1, time_acsm<=time2)]\n",
    "bc_m = bc_m[np.logical_and(time_m>=time1, time_m<=time2)]\n",
    "dst_m = dst_m[np.logical_and(time_m>=time1, time_m<=time2)]\n",
    "ncl_m = ncl_m[np.logical_and(time_m>=time1, time_m<=time2)]\n",
    "so4_m = so4_m[np.logical_and(time_m>=time1, time_m<=time2)]\n",
    "org_m = org_m[np.logical_and(time_m>=time1, time_m<=time2)]\n",
    "bc_m2 = bc_m2[np.logical_and(time_m2>=time1, time_m2<=time2)]\n",
    "dst_m2 = dst_m2[np.logical_and(time_m2>=time1, time_m2<=time2)]\n",
    "ncl_m2 = ncl_m2[np.logical_and(time_m2>=time1, time_m2<=time2)]\n",
    "so4_m2 = so4_m2[np.logical_and(time_m2>=time1, time_m2<=time2)]\n",
    "org_m2 = org_m2[np.logical_and(time_m2>=time1, time_m2<=time2)]\n"
   ]
  },
  {
   "cell_type": "markdown",
   "id": "2e89f811-4dc3-4c93-8304-fb9988f38277",
   "metadata": {},
   "source": [
    "<br>Generate plot:"
   ]
  },
  {
   "cell_type": "code",
   "execution_count": 5,
   "id": "94d58f57-698f-49b3-81cf-545a9ea7b2b0",
   "metadata": {},
   "outputs": [
    {
     "name": "stderr",
     "output_type": "stream",
     "text": [
      "/home/monicaihli/.local/lib/python3.9/site-packages/esmac_diags/plotting/plot_esmac_diags.py:923: RuntimeWarning: Mean of empty slice\n",
      "  barsize = np.array([np.nanmean(vv) for vv in dataall[nn]])\n"
     ]
    },
    {
     "data": {
      "image/png": "[encoded data removed]",
      "text/plain": [
       "<Figure size 864x288 with 1 Axes>"
      ]
     },
     "metadata": {
      "needs_background": "light"
     },
     "output_type": "display_data"
    }
   ],
   "source": [
    "# output plot\n",
    "if not os.path.exists(figpath):\n",
    "    os.makedirs(figpath)\n",
    "    \n",
    "datagroup0 = [org,so4,nh4,no3,chl, [], []]\n",
    "datagroup1 = [org_m, so4_m, [], [], [], bc_m, dst_m]\n",
    "datagroup2 = [org_m2, so4_m2, [], [], [], bc_m2, dst_m2]\n",
    "dataall=[datagroup0, datagroup1, datagroup2,]\n",
    "labelall = ['Organic', 'SO$_4$', 'NH$_4$', 'NO$_3$', 'Chl', 'BC', 'Dust']\n",
    "colorall = ['limegreen', 'red', 'lightblue', 'orange', 'cyan', 'k', 'silver']\n",
    "fig,ax = plot.bar(dataall, datalabel=['Obs','E3SMv1','E3SMv2',], xlabel=None, ylabel='unit: $\\mu$g/m$^3$', \n",
    "                  title='Aerosol Composition  '+site+' '+IOP, varlabel= labelall, colorall=colorall)\n",
    "#fig.savefig(figpath+'bar_composition_'+site+'_'+IOP+'.png',dpi=fig.dpi,bbox_inches='tight', pad_inches=1)\n",
    "\n",
    "# show figures in interactive commandline screen\n",
    "import matplotlib.pyplot as plt\n",
    "plt.show()   "
   ]
  }
 ],
 "metadata": {
  "kernelspec": {
   "display_name": "Python 3 (ipykernel)",
   "language": "python",
   "name": "python3"
  },
  "language_info": {
   "codemirror_mode": {
    "name": "ipython",
    "version": 3
   },
   "file_extension": ".py",
   "mimetype": "text/x-python",
   "name": "python",
   "nbconvert_exporter": "python",
   "pygments_lexer": "ipython3",
   "version": "3.10.4"
  }
 },
 "nbformat": 4,
 "nbformat_minor": 5
}
