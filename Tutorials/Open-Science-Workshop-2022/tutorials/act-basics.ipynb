{
 "cells": [
  {
   "cell_type": "markdown",
   "id": "e5f2e2be",
   "metadata": {},
   "source": [
    "<img src=\"./images/arm_logo.png\" width=500 alt=\"ARM Logo\"></img>"
   ]
  },
  {
   "cell_type": "markdown",
   "id": "8ac9e208",
   "metadata": {},
   "source": [
    "# ACT Basics\n",
    "---"
   ]
  },
  {
   "cell_type": "markdown",
   "id": "60c28200",
   "metadata": {},
   "source": [
    "## Overview\n",
    "Welcome to the ARM/ASR Open Science Workshop Tutorial on the **Atmospheric data Community Toolkit (ACT)**\n",
    "In this tutorial, you will learn some of the basic features of ACT with a focus on how you can use it to better utilize ARM's data quality information.  This will include using ARM's embedded quality control information that's included in many ARM NetCDF files and Data Quality Reports (DQR) which can be accessed through a webservice.\n",
    "\n",
    "ACT is built around the xarray data object, which you can learn about more in the xarray tutorial on Friday at 3 pm Eastern or through information from __[Project Pythia](https://foundations.projectpythia.org/core/xarray.html)__. "
   ]
  },
  {
   "cell_type": "markdown",
   "id": "5170cd46",
   "metadata": {},
   "source": [
    "## Installation\n",
    "\n",
    "If you don't have ACT already installed, it can be installed using pip or conda using the commands below.  Additional information on installation can be found in the __[ACT User Guide](https://arm-doe.github.io/ACT/userguide/index.html)__. \n",
    "\n",
    "`pip install act-atmos`\n",
    "\n",
    "`conda install -c conda-forge act-atmos`\n",
    "\n",
    "Some features of ACT are only available if you have some optional dependencies installed.  For example, Skew-T plots of radiosonde data will require that __[MetPy](https://unidata.github.io/MetPy/latest/index.html)__ is installed.  Additional optional dependencies are listed in __[ACT's documentation](https://arm-doe.github.io/ACT/index.html)__\n",
    "\n",
    "If you have ACT already installed, it will be important to ensure the latest version is installed.  On the ADC JupyterHub, you can bring up a terminal and enter\n",
    "\n",
    "`pip install act-atmos --user --upgrade`\n",
    "\n",
    "After that, in the JupyterHub, select 'Kernel' from the menu and 'Restart'"
   ]
  },
  {
   "cell_type": "markdown",
   "id": "d71dba3d",
   "metadata": {},
   "source": [
    "## Imports\n",
    "First we are going to start by importing all the necessary python libraries that we need which is just act and matplotlib."
   ]
  },
  {
   "cell_type": "code",
   "execution_count": null,
   "id": "d41917dc",
   "metadata": {},
   "outputs": [],
   "source": [
    "import act\n",
    "import matplotlib.pyplot as plt"
   ]
  },
  {
   "cell_type": "code",
   "execution_count": null,
   "id": "6ecb5f37",
   "metadata": {},
   "outputs": [],
   "source": [
    "# Check the ACT version to ensure it's 1.1.6\n",
    "act.__version__"
   ]
  },
  {
   "cell_type": "markdown",
   "id": "036f8dfc",
   "metadata": {},
   "source": [
    "## Download ARM Data\n",
    "Next we are going to download the data we are going to use for this session using the __[ARM Live Data webservice](https://adc.arm.gov/armlive/)__.  \n",
    "\n",
    "Since you have an ARM user account, you should be able to utilize this webservice as well.  All you need to do is login to get your token.  In case you are not able to get that information, we have a username and token set up just for training sessions."
   ]
  },
  {
   "cell_type": "code",
   "execution_count": null,
   "id": "dca64e65",
   "metadata": {},
   "outputs": [],
   "source": [
    "# Set your own username and token if you have it\n",
    "username = 'YourUserName'\n",
    "token = 'YourToken'\n",
    "\n",
    "# ACT module for downloading data from the ARM web service\n",
    "results = act.discovery.download_arm_data(username, token, 'sgpmfrsr7nchE11.b1', '2021-03-29', '2021-03-29')\n",
    "print(results)"
   ]
  },
  {
   "cell_type": "markdown",
   "id": "ffd72ada",
   "metadata": {},
   "source": [
    "## Reading in a NetCDF File\n",
    "Congratulations, you just downloaded a file from just the command line!  Next up is to read the file into an xarray object using the ACT reader.  We then can use Jupyter to print out an interactive listing of everything in the object."
   ]
  },
  {
   "cell_type": "code",
   "execution_count": null,
   "id": "e6a8f65d",
   "metadata": {},
   "outputs": [],
   "source": [
    "obj = act.io.arm.read_arm_netcdf(results)\n",
    "obj"
   ]
  },
  {
   "cell_type": "markdown",
   "id": "61a3d218",
   "metadata": {},
   "source": [
    "## Clean up the object to CF Standards\n",
    "In order to utilize all the ACT QC modules, we need to clean up the object to follow __[Climate and Forecast (CF) standards](https://cfconventions.org/)__.  "
   ]
  },
  {
   "cell_type": "code",
   "execution_count": null,
   "id": "e0a2087f",
   "metadata": {},
   "outputs": [],
   "source": [
    "obj.clean.cleanup()\n",
    "obj"
   ]
  },
  {
   "cell_type": "markdown",
   "id": "cb9e8a6e",
   "metadata": {},
   "source": [
    "### First Visualization\n",
    "Let's plot up some data to see what we're working with.  For this example, we'll use diffuse_hemisp_narrowband_filter4"
   ]
  },
  {
   "cell_type": "code",
   "execution_count": null,
   "id": "08f5fe28",
   "metadata": {},
   "outputs": [],
   "source": [
    "variable = 'diffuse_hemisp_narrowband_filter4'\n",
    "\n",
    "# Create a plotting display object with 2 plots\n",
    "display = act.plotting.TimeSeriesDisplay(obj, figsize=(15, 10), subplot_shape=(2,))\n",
    "\n",
    "# Plot up the diffuse variable in the first plot\n",
    "display.plot(variable, subplot_index=(0,))\n",
    "\n",
    "# Plot up a day/night background\n",
    "display.day_night_background(subplot_index=(0,))\n",
    "\n",
    "# Plot up the QC variable in the second plot\n",
    "display.qc_flag_block_plot(variable, subplot_index=(1,))\n",
    "\n",
    "plt.show()"
   ]
  },
  {
   "cell_type": "markdown",
   "id": "97c4ebb7",
   "metadata": {},
   "source": [
    "## Filter Data\n",
    "\n",
    "Let's try and filter some of those outliers out based on the embedded QC in the files."
   ]
  },
  {
   "cell_type": "code",
   "execution_count": null,
   "id": "731d622b",
   "metadata": {},
   "outputs": [],
   "source": [
    "# Now lets remove some of these outliers\n",
    "obj.qcfilter.datafilter(variable, rm_tests=[2, 3], del_qc_var=False)\n",
    "\n",
    "# And plot the data again\n",
    "# Create a plotting display object with 2 plots\n",
    "display = act.plotting.TimeSeriesDisplay(obj, figsize=(15, 10), subplot_shape=(2,))\n",
    "\n",
    "# Plot up the diffuse variable in the first plot\n",
    "display.plot(variable, subplot_index=(0,))\n",
    "\n",
    "# Plot up a day/night background\n",
    "display.day_night_background(subplot_index=(0,))\n",
    "\n",
    "# Plot up the QC variable in the second plot\n",
    "display.qc_flag_block_plot(variable, subplot_index=(1,))\n",
    "\n",
    "plt.show()"
   ]
  },
  {
   "cell_type": "markdown",
   "id": "155285a3",
   "metadata": {},
   "source": [
    "## Query the DQR Webservice\n",
    "Since the embedded QC is not removing all the outliers, let's check to see if there are any Data Quality Reports (DQR) using ARMs DQR Webservice.  The great thing is, that ACT has codes for working with this webservice.\n",
    "\n",
    "In this example, we can see that there's a DQRfor a shadowband misalignment and we can find out more information by looking at the actual __[DQR](https://adc.arm.gov/ArchiveServices/DQRService?dqrid=D210405.5)__."
   ]
  },
  {
   "cell_type": "code",
   "execution_count": null,
   "id": "0de5f756",
   "metadata": {},
   "outputs": [],
   "source": [
    "# Query the ARM DQR Webservice\n",
    "obj = act.qc.arm.add_dqr_to_qc(obj, variable=variable)\n",
    "\n",
    "#And plot again!\n",
    "# Create a plotting display object with 2 plots\n",
    "display = act.plotting.TimeSeriesDisplay(obj, figsize=(15, 10), subplot_shape=(2,))\n",
    "\n",
    "# Plot up the diffuse variable in the first plot\n",
    "display.plot(variable, subplot_index=(0,))\n",
    "\n",
    "# Plot up a day/night background\n",
    "display.day_night_background(subplot_index=(0,))\n",
    "\n",
    "# Plot up the QC variable in the second plot\n",
    "display.qc_flag_block_plot(variable, subplot_index=(1,))\n",
    "\n",
    "plt.show()"
   ]
  },
  {
   "cell_type": "markdown",
   "id": "9322ebc0",
   "metadata": {},
   "source": [
    "## Add QC Tests\n",
    "ACT has a number of additional __[QC tests](https://arm-doe.github.io/ACT/API/generated/act.qc.QCTests.html#act.qc.QCTests)__ that could be applied to the data.  For this next example, let's apply a new maximum test and bring that upper limit down a bit.  We are also going to filter the data based on this new test and plot up the results."
   ]
  },
  {
   "cell_type": "code",
   "execution_count": null,
   "id": "d1daa0c8",
   "metadata": {},
   "outputs": [],
   "source": [
    "# Add a new maximum tests\n",
    "obj.qcfilter.add_greater_test(variable, 0.4, test_meaning='New maximum tests limit')\n",
    "\n",
    "# Filter that test out\n",
    "obj.qcfilter.datafilter(variable, rm_tests=[5], del_qc_var=False)\n",
    "\n",
    "#And plot again!\n",
    "# Create a plotting display object with 2 plots\n",
    "display = act.plotting.TimeSeriesDisplay(obj, figsize=(15, 10), subplot_shape=(2,))\n",
    "\n",
    "# Plot up the diffuse variable in the first plot\n",
    "display.plot(variable, subplot_index=(0,))\n",
    "\n",
    "# Plot up a day/night background\n",
    "display.day_night_background(subplot_index=(0,))\n",
    "\n",
    "# Plot up the QC variable in the second plot\n",
    "display.qc_flag_block_plot(variable, subplot_index=(1,))\n",
    "\n",
    "plt.show()"
   ]
  },
  {
   "cell_type": "markdown",
   "id": "1508d94f",
   "metadata": {},
   "source": [
    "## Instrument Specific QC Tests\n",
    "ACT has a growing library of instrument specific tests such as the __[fast-fourier transform test](https://arm-doe.github.io/ACT/API/generated/act.qc.fft_shading_test.html#act.qc.fft_shading_test)__ to detect shading which was adapted from Alexandrov et al 2007.  The adaption is that it is applied in a moving window style approach.  **Note - Check out the webpage as an example of how we are including references to papers behind the codes**\n",
    "\n",
    "Let's apply it and see how it compares with the DQR!"
   ]
  },
  {
   "cell_type": "code",
   "execution_count": null,
   "id": "56fac473",
   "metadata": {},
   "outputs": [],
   "source": [
    "# Apply test\n",
    "obj = act.qc.fft_shading_test(obj, variable=variable)\n",
    "\n",
    "# Create a plotting display object with 2 plots\n",
    "display = act.plotting.TimeSeriesDisplay(obj, figsize=(15, 10), subplot_shape=(2,))\n",
    "\n",
    "# Plot up the diffuse variable in the first plot\n",
    "display.plot(variable, subplot_index=(0,))\n",
    "\n",
    "# Plot up a day/night background\n",
    "display.day_night_background(subplot_index=(0,))\n",
    "\n",
    "# Plot up the QC variable in the second plot\n",
    "display.qc_flag_block_plot(variable, subplot_index=(1,))\n",
    "\n",
    "plt.show()"
   ]
  },
  {
   "cell_type": "markdown",
   "id": "8a1b1e78",
   "metadata": {},
   "source": [
    "## Conclusion\n",
    "In this tutorial, we have shown you how to download data from ARM's Data Live web service, visualize the data and QC information, query the DQR webservice, filter data based on the QC, and add new QC tests to the dataset.  After all this work, you can easily save the xarray object to a NetCDF file using `obj.to_netcdf('filename.nc')` and all that data will be saved and usable in Python and ACT.\n",
    "\n",
    "Please checkout the __[ACT Github repository](https://github.com/ARM-DOE/ACT)__ for the latest and greatest information, including our documentation which has __[examples](https://arm-doe.github.io/ACT/source/auto_examples/index.html)__ that can be downloading in python or Jupyter Notebook formats."
   ]
  },
  {
   "cell_type": "markdown",
   "id": "72320e34",
   "metadata": {},
   "source": [
    "# Second ACT!\n",
    "\n",
    "But wait, there's more to ACT that we can explore together or that you can do on your own!  These examples are going to be more condensed than the above but should still provide you the insight you need to run and do your own things!\n",
    "\n",
    "We are going to need some additional libraries to help out though!\n",
    "\n",
    "## Imports"
   ]
  },
  {
   "cell_type": "code",
   "execution_count": null,
   "id": "fdfe924c",
   "metadata": {},
   "outputs": [],
   "source": [
    "import numpy as np"
   ]
  },
  {
   "cell_type": "markdown",
   "id": "3566aaa7",
   "metadata": {},
   "source": [
    "## Wind Roses"
   ]
  },
  {
   "cell_type": "code",
   "execution_count": null,
   "id": "c0d7e48f",
   "metadata": {},
   "outputs": [],
   "source": [
    "# Let's download a month of surface meteorological data from the SGP central facility!\n",
    "results = act.discovery.download_arm_data(username, token, 'sgpmetE13.b1', '2021-05-01', '2021-05-31')\n",
    "\n",
    "# Read that data into an object (this will concatenate it all for you)\n",
    "obj = act.io.arm.read_arm_netcdf(results)\n",
    "\n",
    "# Now we can plot up a wind rose of that entire month's worth of data\n",
    "windrose = act.plotting.WindRoseDisplay(obj, figsize=(10,8))\n",
    "windrose.plot('wdir_vec_mean', 'wspd_vec_mean', spd_bins=np.linspace(0, 10, 5))\n",
    "windrose.axes[0].legend()\n",
    "plt.show()"
   ]
  },
  {
   "cell_type": "markdown",
   "id": "adfac4f2",
   "metadata": {},
   "source": [
    "## Present Weather Detector Codes\n",
    "With the MET system at the main site, there's also a present weather detector (PWD) deployed.  This PWD reports the present weather in WMO codes but can be easily decoded using a __[utility in ACT](https://arm-doe.github.io/ACT/API/generated/act.utils.decode_present_weather.html?highlight=present%20weather#act.utils.decode_present_weather)__.  With this information, you can make fancy plots like the __[DQ Office plots for the PWD](https://plot.dmf.arm.gov/PLOTS/sgp/sgpmet/20210522/sgpmetE13.b1.pwd_weather.20210522.png)__."
   ]
  },
  {
   "cell_type": "code",
   "execution_count": null,
   "id": "14d18a7c",
   "metadata": {},
   "outputs": [],
   "source": [
    "# Let's just use one of the files from the previous example\n",
    "obj = act.io.arm.read_arm_netcdf(results[21])\n",
    "\n",
    "# Pass it to the function to decode it along with the variable name\n",
    "obj = act.utils.inst_utils.decode_present_weather(obj, variable='pwd_pw_code_inst')\n",
    "\n",
    "# We're going to print out the first 10 decoded values that weren't 0\n",
    "# This shows the utility of also being able to use the built-in xarray\n",
    "# features like where!\n",
    "print(list(obj['pwd_pw_code_inst_decoded'].where(obj.pwd_pw_code_inst.compute() > 0, drop=True).values[0:10]))"
   ]
  },
  {
   "cell_type": "markdown",
   "id": "f5f48117",
   "metadata": {},
   "source": [
    "## Doppler Lidar Wind Retrievals\n",
    "This will show you how you can process the doppler lidar PPI scans to produce __[wind profiles](https://arm-doe.github.io/ACT/API/generated/act.retrievals.compute_winds_from_ppi.html#act.retrievals.compute_winds_from_ppi)__ based on Newsom et al 2016.   "
   ]
  },
  {
   "cell_type": "code",
   "execution_count": null,
   "id": "b3a1bd2a",
   "metadata": {},
   "outputs": [],
   "source": [
    "# We're going to use some test data that already exists within ACT\n",
    "obj = act.io.arm.read_arm_netcdf(act.tests.sample_files.EXAMPLE_DLPPI_MULTI)\n",
    "\n",
    "# Returns the wind retrieval information in a new object by default\n",
    "# Note that the default snr_threshold of 0.008 was too high for the first profile\n",
    "# Reducing it to 0.002 makes it show up but the quality of the data is likely suspect.\n",
    "wind_obj = act.retrievals.compute_winds_from_ppi(obj, snr_threshold=0.002)\n",
    "\n",
    "# Plot it up\n",
    "display = act.plotting.TimeSeriesDisplay(wind_obj)\n",
    "display.plot_barbs_from_spd_dir('wind_direction', 'wind_speed', invert_y_axis=False)\n",
    "\n",
    "#Update the x-limits to make sure both wind profiles are shown\n",
    "display.axes[0].set_xlim([np.datetime64('2019-10-15T11:45'), np.datetime64('2019-10-15T12:30')])\n",
    "\n",
    "plt.show()"
   ]
  },
  {
   "cell_type": "markdown",
   "id": "2a96b639",
   "metadata": {},
   "source": [
    "## Radiosonde Plotting and More!\n",
    "\n",
    "This will take you through how to plot up a Skew-T plot along with a geographic plot of the radiosonde track on a map.  Additionally, will run this through a retrieval to calculate the PBL height using the __[Liu Liang method](https://arm-doe.github.io/ACT/API/generated/act.retrievals.calculate_pbl_liu_liang.html?highlight=pbl#act.retrievals.calculate_pbl_liu_liang)__."
   ]
  },
  {
   "cell_type": "code",
   "execution_count": null,
   "id": "c69be3f8",
   "metadata": {},
   "outputs": [],
   "source": [
    "# Import MetPy if possible\n",
    "import metpy\n",
    "\n",
    "# Read in sample radiosonde data and plot up a Skew-T\n",
    "obj = act.io.arm.read_arm_netcdf(act.tests.EXAMPLE_SONDE1)\n",
    "\n",
    "skewt = act.plotting.SkewTDisplay(obj, figsize=(10, 8))\n",
    "skewt.plot_from_u_and_v('u_wind', 'v_wind', 'pres', 'tdry', 'dp')\n",
    "\n",
    "plt.show()"
   ]
  },
  {
   "cell_type": "code",
   "execution_count": null,
   "id": "34592515",
   "metadata": {},
   "outputs": [],
   "source": [
    "# Now let's plot up the radiosonde path on a map!\n",
    "display = act.plotting.GeographicPlotDisplay(obj)\n",
    "display.geoplot(data_field='pres', title='Radiosonde Path')\n",
    "plt.show()"
   ]
  },
  {
   "cell_type": "code",
   "execution_count": null,
   "id": "6cdd0eae",
   "metadata": {},
   "outputs": [],
   "source": [
    "# We need to update the units on temperature before running the retrieval\n",
    "obj.utils.change_units(variables='tdry', desired_unit='degree_Celsius')\n",
    "obj = act.retrievals.calculate_pbl_liu_liang(obj)\n",
    "print('Regime = ', obj['pblht_regime_liu_liang'].values, '\\nPBL Height = ', int(obj['pblht_liu_liang'].values))"
   ]
  },
  {
   "cell_type": "markdown",
   "id": "140d10a7",
   "metadata": {},
   "source": [
    "## Mimic ARM Data Files\n",
    "\n",
    "ARM's NetCDF files are based around what we call a data object definition or DOD.  These DOD's essentially create the structure of the file and are what you see in the NetCDF file as the header.  We can use this information to create an  xarray object, filled with missing value, that one can populated with data and then write it out to a NetCDF file that looks exactly like an ARM file.\n",
    "\n",
    "The user is able to set up the size of the datasets ahead of time by passing in the dimension sizes as shown below with `{'time': 1440}`\n",
    "\n",
    "This could greatly streamline and improve the usability of PI-submitted datasets.  \n",
    "\n",
    "**Note, that this does take some time for datastreams like the MET that have a lot of versions.**"
   ]
  },
  {
   "cell_type": "code",
   "execution_count": null,
   "id": "79502dfa",
   "metadata": {},
   "outputs": [],
   "source": [
    "obj = act.io.arm.create_ds_from_arm_dod('met.b1', {'time': 1440}, scalar_fill_dim='time')\n",
    "\n",
    "# Create some random data and set it to the variable in the obect like normal\n",
    "obj['temp_mean'].values = np.random.rand(1440)\n",
    "obj"
   ]
  },
  {
   "cell_type": "code",
   "execution_count": null,
   "id": "fa2d817a",
   "metadata": {},
   "outputs": [],
   "source": []
  }
 ],
 "metadata": {
  "kernelspec": {
   "display_name": "Python 3 (ipykernel)",
   "language": "python",
   "name": "python3"
  },
  "language_info": {
   "codemirror_mode": {
    "name": "ipython",
    "version": 3
   },
   "file_extension": ".py",
   "mimetype": "text/x-python",
   "name": "python",
   "nbconvert_exporter": "python",
   "pygments_lexer": "ipython3",
   "version": "3.11.5"
  }
 },
 "nbformat": 4,
 "nbformat_minor": 5
}
