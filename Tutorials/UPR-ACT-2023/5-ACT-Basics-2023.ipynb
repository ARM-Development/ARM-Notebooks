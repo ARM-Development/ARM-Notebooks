{
 "cells": [
  {
   "cell_type": "markdown",
   "id": "950099de-bfc3-4e1d-85a4-0184030e85a8",
   "metadata": {},
   "source": [
    "<table>\n",
    "    <tr>\n",
    "        <td>\n",
    "            <img src=\"https://arm.gov/uploads/TRACER_skyline.jpg\" style=\"height: 200px;\" alt=\"TRACER Campaign\"></img>\n",
    "        </td>\n",
    "        <td>\n",
    "            <h1>Atmospheric Radiation Measurement user facility (ARM)</h1>\n",
    "            <h1>TRacking Aerosol Convection interations ExpeRiment (TRACER)</h1>\n",
    "            Notebook for learning the basics of ACT with TRACER data </br>\n",
    "            Corresponding Author: Adam Theisen (atheisen@anl.gov)\n",
    "        </td>\n",
    "    </tr>\n",
    "</table>"
   ]
  },
  {
   "cell_type": "markdown",
   "id": "830e2e64-3205-41cd-8247-2fa3905f6106",
   "metadata": {},
   "source": [
    "## Overview\n",
    "The ARM TRACER campaign collected a lot of very interesting data in Houston, TX from October 1, 2021 to September 30, 2022.  One event that stands out is a dust event that occurred from July 16 to July 19, 2022.  This notebook will give an introduction to basic features in ACT, using one of the datastreams from this event\n",
    "\n",
    "1. Intro to ACT\n",
    "1. Instrument Overview\n",
    "1. Downloading and Reading in PSAP Data\n",
    "1. Quality Controlling Data\n",
    "1. Visualizing Data\n",
    "1. Questions for the User to Explore"
   ]
  },
  {
   "cell_type": "markdown",
   "id": "74e672b9-ef14-4f01-be19-a222f5ea1573",
   "metadata": {
    "tags": []
   },
   "source": [
    "## Prerequisites\n",
    "This notebook will rely heavily on Python and the [Atmospheric data Community Toolkit (ACT)](https://github.com/ARM-DOE/ACT).  Don't worry if you don't have experience with either, this notebook will walk you though what you need to know.\n",
    "\n",
    "You will also need an account and token to download data using the ARM Live webservice.  Navigate to the [webservice information page](https://adc.arm.gov/armlive/) and log in to get your token.  Your account username will be your ARM username.\n",
    "\n",
    "| Concepts | Importance | Notes |\n",
    "| --- | --- | --- |\n",
    "| [ACT](https://github.com/ARM-DOE/ACT) | Helpful | |\n",
    "\n",
    "- **Time to learn**: 60 Minutes\n",
    "- **System requirements**:\n",
    "    - Python 3.11 or latest\n",
    "    - ACT v1.5.0 or latest\n",
    "    - numpy\n",
    "    - xarray\n",
    "    - matplotlib"
   ]
  },
  {
   "cell_type": "markdown",
   "id": "f89921ee-514a-4e11-859a-4858ed7354ab",
   "metadata": {},
   "source": [
    "---"
   ]
  },
  {
   "cell_type": "markdown",
   "id": "355585e9-451c-4bfa-82d3-e2199431c707",
   "metadata": {},
   "source": [
    "## Intro to ACT\n",
    "           \n",
    "The [Atmospheric data Community Toolkit (ACT)](https://github.com/ARM-DOE/ACT) is an open-source Python toolkit for exploring and analyzing atmospheric time-series datasets.  Examples can be found in the [ACT Example Gallery](https://arm-doe.github.io/ACT/source/auto_examples/index.html).  The toolkit has modules for many different parts of the scientific process, including:\n",
    "\n",
    "<table>\n",
    "    <tr>\n",
    "        <td>\n",
    "            \n",
    "#### Data Discovery (act.discovery)\n",
    "The [discovery](https://arm-doe.github.io/ACT/API/generated/act.discovery.html) module houses functions to download or access data from different groups.  Currently it includes function to get data for ARM, NOAA, EPA, NEON, and more!\n",
    "\n",
    "#### Input/Output (act.io)\n",
    "[io](https://arm-doe.github.io/ACT/API/generated/act.io.html) contains functions for reading and writing data from various sources and formats.\n",
    "\n",
    "#### Visualization (act.plotting)\n",
    "[plotting](https://arm-doe.github.io/ACT/API/generated/act.plotting.html) contains various routines, built on matplotlib, to help visualize and explore data.  These include \n",
    "1. Time-series plots\n",
    "1. Distribution plots like histograms and heatmaps\n",
    "1. Geographic plots for moving systems like radiosondes or aircraft\n",
    "1. Skew-T plots for radiosonde data, built off MetPy\n",
    "1. Wind rose plots for wind and data roses\n",
    "1. Cross-section plots for working with 3-dimensional data\n",
    "\n",
    "#### Corrections (act.corrections)\n",
    "[corrections](https://arm-doe.github.io/ACT/API/generated/act.corrections.html) apply different corrections to data based on need.  A majority of the existing corrections are for lidar data.\n",
    "\n",
    "#### Quality Control (act.qc)\n",
    "The [qc](https://arm-doe.github.io/ACT/API/generated/act.qc.html) module has a lot of functions for working with quality control information, apply new tests, or filtering data based on existing tests.  We will explore some of that functionality in this notebook.\n",
    "\n",
    "#### Retrievals (act.retrievals)\n",
    "There are many cases in which some additional calculations are necessary to get more value from the instrument data.  The [retrievals](https://arm-doe.github.io/ACT/API/generated/act.retrievals.html) module houses some functions for performing these advanced calculations.  \n",
    "\n",
    "#### Utilities (act.utils)\n",
    "The [utils](https://arm-doe.github.io/ACT/API/generated/act.utils.html) module has a lot of general utilities to help with the data.  Some of these include adding in a solar variable to indicate day/night (useful in filtering data), unit conversions, decoding WMO weather codes, performing weighted averaging, etc...\n",
    "        </td>\n",
    "        <td>\n",
    "            <center>\n",
    "            <img src=\"https://arm-doe.github.io/ACT/_images/sphx_glr_plot_neon_001.png\" alt=\"NEON-ARM\"></img>\n",
    "            <figcaption>ARM and NEON data from Utquivaik, AK</figcaption>\n",
    "            <img src=\"https://arm-doe.github.io/ACT/_images/sphx_glr_plot_enhanced_skewt_001.png\" alt=\"SONDE\"></img>\n",
    "            <figcaption>Enhanced Skew-T plot from ARM's Southern Great Plains Site (SGP)</figcaption>\n",
    "            </center>\n",
    "        </td>\n",
    "    </tr>\n",
    "</table>"
   ]
  },
  {
   "cell_type": "markdown",
   "id": "7cfa5fcb-2220-4e50-91a3-ca74931a099f",
   "metadata": {},
   "source": [
    "---"
   ]
  },
  {
   "cell_type": "markdown",
   "id": "b353659a-3401-492f-bcca-24963e5e6664",
   "metadata": {},
   "source": [
    "## Instrument Overview\n",
    "<table>\n",
    "    <tr>\n",
    "        <td>\n",
    "            \n",
    "### Particle Soot Absorption Photometer (PSAP)\n",
    "The particle soot absorption photometer collects aerosol particles on a substrate (filter) and measurements the change in light transmission relative to a reference filter.  Bulk particle absorption is derived after correcting for scattering effects.  [Lean more](https://arm.gov/capabilities/instruments/psap)\n",
    "\n",
    "### Single Particle Soot Photometer (SP2)\n",
    "The single-particle soot photometer (SP2) measures the soot (black carbon) mass of individual aerosol particles by laser-induced incandescence down to concentrations as low as ng/m^3. [Learn more](https://arm.gov/capabilities/instruments/sp2)\n",
    "\n",
    "### Aerodynamic Particle Sizer (APS)\n",
    "The aerodynamic particle sizer (APS) is a particle size spectrometer that measures both the particle aerodynamic diameter based on particle time of flight and optical diameter based on scattered light intensity. The APS provides the number size distribution for particles with aerodynamic diameters from 0.5 to 20 micrometers and with optical diameters from 0.3 to 20 micrometers. [Learn more](https://arm.gov/capabilities/instruments/aps)\n",
    "\n",
    "### Aerosol Chemical Speciation Monitor (ACSM)\n",
    "The aerosol chemical speciation monitor is a thermal vaporization, electron impact, ionization mass spectrometer that measures bulk chemical composition of the rapidly evaporating component of sub-micron aerosol particles in real time. Standard measurements include mass concentrations of organics, sulfate, nitrate, ammonium, and chloride. [Learn more](https://arm.gov/capabilities/instruments/acsm)\n",
    "\n",
    "### Micropulse Lidar (MPL)\n",
    "The micropulse lidar (MPL) is a ground-based, optical, remote-sensing system designed primarily to determine the altitude of clouds; however, it is also used for detection of atmospheric aerosols. [Learn more](https://arm.gov/capabilities/instruments/mpl)\n",
    "        </td>\n",
    "        <td>\n",
    "            <center>\n",
    "            <img src=\"https://encrypted-tbn1.gstatic.com/images?q=tbn:ANd9GcSg1h63flPTG_EkHS5IUvjncBkqSoC1WYA1O6jJxZyJB_ffmY7b\" alt=\"PSAP\"></img>\n",
    "            <figcaption>Particle Soot Absorption Photometer</figcaption>\n",
    "            <img src=\"https://encrypted-tbn1.gstatic.com/images?q=tbn:ANd9GcTteorWfZBD2B9M0Ityhf_uCsbfBXrK9Dp_z7KW9GhTFaTaZAoE\" alt=\"SP2\"></img>\n",
    "            <figcaption>Single Particle Soot Photometer</figcaption>\n",
    "            <img src=\"https://live.staticflickr.com/5478/12486199374_23c941c2b7_c.jpg\" alt=\"MPL\" style=\"height: 200px;\"></img>\n",
    "            <figcaption>Micropulse Lidar</figcaption>\n",
    "            </center>\n",
    "        </td>\n",
    "    </tr>\n",
    "</table>"
   ]
  },
  {
   "cell_type": "markdown",
   "id": "75b8b2a7-ef24-4836-b488-d985647da664",
   "metadata": {},
   "source": [
    "---"
   ]
  },
  {
   "cell_type": "markdown",
   "id": "0de3c05a-6e49-4859-850b-32c989f2cc33",
   "metadata": {},
   "source": [
    "## Imports\n",
    "Let's get started with some data!  But first, we need to import some libraries."
   ]
  },
  {
   "cell_type": "code",
   "execution_count": null,
   "id": "a5b00201-8c78-4ef5-b02f-57e55021f5d6",
   "metadata": {
    "tags": []
   },
   "outputs": [],
   "source": [
    "import act\n",
    "import numpy as np\n",
    "import matplotlib.pyplot as plt"
   ]
  },
  {
   "cell_type": "markdown",
   "id": "3647028a-cf78-436a-be33-6a0148474bf6",
   "metadata": {},
   "source": [
    "## Downloading and Reading ARM's NetCDF Data\n",
    "ARM's standard file format is NetCDF (network Common Data Form) which makes it very easy to work with in Python!  ARM data are available through a data portal called [Data Discovery](https://adc.arm.gov/discovery/#/) or through a webservice.  If you didn't get your username and token earlier, please go back and see the Prerequisites!\n",
    "\n",
    "Let's download some of the PSAP data first but let's just start with one day."
   ]
  },
  {
   "cell_type": "code",
   "execution_count": null,
   "id": "6dc01deb-8e97-4e45-9efb-196b37ca7386",
   "metadata": {
    "tags": []
   },
   "outputs": [],
   "source": [
    "# Set your username and token here!\n",
    "username = 'YourUserName'\n",
    "token = 'YourToken'\n",
    "\n",
    "# Set the datastream and start/enddates\n",
    "datastream = 'houaospsap3w1mM1.b1'\n",
    "startdate = '2022-07-16'\n",
    "enddate = '2022-07-16'\n",
    "\n",
    "# Use ACT to easily download the data.  Watch for the data citation!  Show some support\n",
    "# for ARM's instrument experts and cite their data if you use it in a publication\n",
    "result = act.discovery.download_arm_data(username, token, datastream, startdate, enddate)"
   ]
  },
  {
   "cell_type": "code",
   "execution_count": null,
   "id": "acdaa696-ebb5-4bbe-8d1e-a4c66f524964",
   "metadata": {
    "tags": []
   },
   "outputs": [],
   "source": [
    "# Let's read in the data using ACT and check out the data\n",
    "ds = act.io.read_arm_netcdf(result)\n",
    "ds"
   ]
  },
  {
   "cell_type": "code",
   "execution_count": null,
   "id": "477de074-9465-47eb-a658-decf6768b077",
   "metadata": {
    "tags": []
   },
   "outputs": [],
   "source": [
    "# We're going to be focusing on the following variable, so let's get some more information about it\n",
    "# We can do this by looking at it's attributes\n",
    "variable = 'Ba_B_Weiss'\n",
    "ds[variable].attrs"
   ]
  },
  {
   "cell_type": "code",
   "execution_count": null,
   "id": "41c1d3d9-1201-4c29-8409-d8e66e899409",
   "metadata": {
    "tags": []
   },
   "outputs": [],
   "source": [
    "# There's a lot of great functionality in ACT, but there's also a lot in the base xarray Dataset!\n",
    "ds[variable].plot()"
   ]
  },
  {
   "cell_type": "markdown",
   "id": "a93b725a-3216-4eca-8ad0-d9e9e31b1372",
   "metadata": {},
   "source": [
    "## Quality Controlling Data\n",
    "\n",
    "ARM has multiple methods that it uses to communicate data quality information out to the users.  One of these methods is through \"embedded QC\" variables.  These are variables within the file that have information on automated tests that have been applied.  Many times, they include Min, Max, and Delta tests but as is the case with the AOS instruments, there can be more complicated tests that are applied.\n",
    "\n",
    "The results from all these different tests are stored in a single variable using bit-packed QC.  We won't get into the full details here, but it's a way to communicate the results of multiple tests in a single integer value by utilizing binary and bits!  You can learn more about bit-packed QC [here](https://code.arm.gov/docs/QC-flag-examples/-/wikis/home) but ACT also has many of the tools for working with ARM QC.\n",
    "\n",
    "#### Other Sources of Quality Control\n",
    "ARM also communicates problems with the data quality through Data Quality Reports (DQR).  These reports are normally submitted by the instrument mentor when there's been a problem with the instrument.  The categories include:\n",
    "\n",
    "- **Data Quality Report Categories**\n",
    "    - Missing: Data are not available or set to -9999\n",
    "    - Suspect: The data are not fully incorrect but there are problems that increases the uncertainty of the values. Data should be used with caution.\n",
    "    - Bad: The data are incorrect and should not be used.\n",
    "    - Note: Data notes are a way to communicate information that would be useful to the end user but does not rise to the level of suspect or bad data\n",
    "    \n",
    "Additionally, data quality information can be found in the Instrument Handbooks, which are included on most instrument pages.  Here is an [example](https://www.arm.gov/publications/tech_reports/handbooks/psap_handbook.pdf) of the PSAP handbook."
   ]
  },
  {
   "cell_type": "code",
   "execution_count": null,
   "id": "9f2c2c57-09c9-44d6-8098-8a414ba0fb0d",
   "metadata": {
    "tags": []
   },
   "outputs": [],
   "source": [
    "# We can see that there's some missing data in the plot above so let's take a look at the embedded QC!\n",
    "# First, for many of the ACT QC features, we need to get the dataset more to CF standard and that\n",
    "# involves cleaning up some of the attributes and ways that ARM has historically handled QC\n",
    "ds.clean.cleanup()\n",
    "\n",
    "# Next, let's take a look at visualizing the quality control information\n",
    "# Create a plotting display object with 2 plots\n",
    "display = act.plotting.TimeSeriesDisplay(ds, figsize=(15, 10), subplot_shape=(2,))\n",
    "\n",
    "# Plot up the variable in the first plot\n",
    "display.plot(variable, subplot_index=(0,))\n",
    "\n",
    "# Plot up a day/night background\n",
    "display.day_night_background(subplot_index=(0,))\n",
    "\n",
    "# Plot up the QC variable in the second plot\n",
    "display.qc_flag_block_plot(variable, subplot_index=(1,))\n",
    "plt.show()"
   ]
  },
  {
   "cell_type": "markdown",
   "id": "fc59f297-718c-4157-9acc-a44a4b801a91",
   "metadata": {},
   "source": [
    "#### What do you observe?\n",
    "There are 5 tests being applied to the data. The main ones that are flagged are tests 1, 4, and 5.  Tests 4 and 1 are tripped at the same time and if we look at the description for 4, when that test fails, it sets the data to missing_value for us.  That leaves test 5 which is suspect data so let's try and filter that data out as well to see what it looks like "
   ]
  },
  {
   "cell_type": "code",
   "execution_count": null,
   "id": "af7d3e43-1607-4037-961b-8c09ea308f55",
   "metadata": {
    "tags": []
   },
   "outputs": [],
   "source": [
    "# Let's filter out test 5 using ACT.  Yes, it's that simple!\n",
    "ds.qcfilter.datafilter(variable, rm_tests=[5], del_qc_var=False)\n",
    "\n",
    "# There are other ways we can filter data out as well.  Using the\n",
    "# rm_assessments will filter out by all Bad/Suspect tests that are failing\n",
    "# ds.qcfilter.datafilter(variable, rm_assessments=['Bad', 'Suspect'], del_qc_var=False)\n",
    "\n",
    "# Let's check out the attributes of the variable\n",
    "# Whenever data are filtered out using the datafilter function\n",
    "# a comment will be added to the variable history for provenance purposes\n",
    "print(ds[variable].attrs['history'])\n",
    "\n",
    "# And plot it all again!\n",
    "# Create a plotting display object with 2 plots\n",
    "display = act.plotting.TimeSeriesDisplay(ds, figsize=(15, 10), subplot_shape=(2,))\n",
    "\n",
    "# Plot up the variable in the first plot\n",
    "display.plot(variable, subplot_index=(0,))\n",
    "\n",
    "# Plot up a day/night background\n",
    "display.day_night_background(subplot_index=(0,))\n",
    "\n",
    "# Plot up the QC variable in the second plot\n",
    "display.qc_flag_block_plot(variable, subplot_index=(1,))\n",
    "plt.show()"
   ]
  },
  {
   "cell_type": "markdown",
   "id": "d0816e56-8810-4183-86d2-728314a8fa23",
   "metadata": {},
   "source": [
    "#### ARM Data Quality Reports (DQR)!\n",
    "ARM's DQRs can be easily pulled in and added to the QC variables using ACT.  We can do that with the below one line command.  However, for this case, there won't be any DQRs on the data but let's visualize it just in case!"
   ]
  },
  {
   "cell_type": "code",
   "execution_count": null,
   "id": "9280565d-88ee-4715-a743-7e9e41aa8376",
   "metadata": {
    "tags": []
   },
   "outputs": [],
   "source": [
    "# Query the ARM DQR Webservice\n",
    "ds = act.qc.add_dqr_to_qc(ds, variable=variable)\n",
    "\n",
    "#And plot again!\n",
    "# Create a plotting display object with 2 plots\n",
    "display = act.plotting.TimeSeriesDisplay(ds, figsize=(15, 10), subplot_shape=(2,))\n",
    "\n",
    "# Plot up the variable in the first plot\n",
    "display.plot(variable, subplot_index=(0,))\n",
    "\n",
    "# Plot up a day/night background\n",
    "display.day_night_background(subplot_index=(0,))\n",
    "\n",
    "# Plot up the QC variable in the second plot\n",
    "display.qc_flag_block_plot(variable, subplot_index=(1,))\n",
    "plt.show()"
   ]
  },
  {
   "cell_type": "markdown",
   "id": "dcef61c0-becf-4f59-a92a-7707997877ae",
   "metadata": {},
   "source": [
    "## Visualizing Data\n",
    "We've already worked with visualizing the data in basic ways but what other options are there in ACT?  This section will show you how to create a variety of different plots.  More plotting examples can be found in [ACT's Documentation](https://arm-doe.github.io/ACT/source/auto_examples/index.html#plotting-examples)."
   ]
  },
  {
   "cell_type": "code",
   "execution_count": null,
   "id": "53326c0d-df46-4ce6-b0a1-a87e6bd90641",
   "metadata": {
    "tags": []
   },
   "outputs": [],
   "source": [
    "# First, let's plot up a histogram of the data\n",
    "# All the ACT plotting is very similar to what we\n",
    "# did earlier, first we create a display object\n",
    "display = act.plotting.DistributionDisplay(ds)\n",
    "\n",
    "# And then we can plot the data!  Note that we are passing a range into the\n",
    "# histogram function to set the min/max range of the data\n",
    "display.plot_stacked_bar(variable, hist_kwargs={'range': [0, 10]})\n",
    "plt.show()"
   ]
  },
  {
   "cell_type": "code",
   "execution_count": null,
   "id": "8fe0eb42-34d3-4e58-ac3b-49ac6c0453d8",
   "metadata": {
    "tags": []
   },
   "outputs": [],
   "source": [
    "# We can create these plots in groups as well but we need to know\n",
    "# how many there will be ahead of time for the shape\n",
    "display = act.plotting.DistributionDisplay(ds, figsize=(12, 15), subplot_shape=(6, 4))\n",
    "groupby = display.group_by('hour')\n",
    "\n",
    "# And then we can plot the data in groups!  The main issue is that it doesn't automatically\n",
    "# Annotate the group on the plot.  We're also setting the titile to blank to save space\n",
    "groupby.plot_group('plot_stacked_bar', None, field=variable, set_title='', hist_kwargs={'range': [0, 10]})\n",
    "\n",
    "# We want these graphs to have the same axes, so we can easily run through\n",
    "# each plot and modify the axes.  Right now, we can just hard code these in\n",
    "for i in range(len(display.axes)):\n",
    "    for j in range(len(display.axes[i])):\n",
    "        display.axes[i, j].set_xlim([0, 10])\n",
    "        display.axes[i, j].set_ylim([0, 50])\n",
    "        \n",
    "plt.show()"
   ]
  },
  {
   "cell_type": "code",
   "execution_count": null,
   "id": "fa58bc20-1158-4784-b98f-cc9cf9ac9a75",
   "metadata": {
    "tags": []
   },
   "outputs": [],
   "source": [
    "# Next up, let's do some scatter plots to compare some variables\n",
    "# Scatter plots are also found in the DistributionDisplay module\n",
    "display = act.plotting.DistributionDisplay(ds)\n",
    "\n",
    "# And then we can plot the data!\n",
    "display.plot_scatter(variable, 'transmittance_blue', m_field='time')\n",
    "\n",
    "# You can adjust the x-range as you need\n",
    "# display.set_xrng([0, 20])\n",
    "plt.show()"
   ]
  },
  {
   "cell_type": "code",
   "execution_count": null,
   "id": "e96b4681-80e7-4dc4-9554-1c40c9c61b08",
   "metadata": {
    "tags": []
   },
   "outputs": [],
   "source": [
    "# Sometimes these scatter plots hide the number of points there actually\n",
    "# are in some areas so let's try a heatmap as well\n",
    "display = act.plotting.DistributionDisplay(ds, figsize=(12, 5), subplot_shape=(1, 2))\n",
    "\n",
    "# And then we can plot the data!\n",
    "display.plot_scatter(variable, 'transmittance_blue', m_field='time', subplot_index=(0, 0))\n",
    "# This can be used to adjust the axes limits\n",
    "# display.set_xrng([0, 20], subplot_index=(0, 0))\n",
    "\n",
    "# we can also pass in an array of values for the bins using np.arange(start, stop, step)\n",
    "display.plot_heatmap(variable, 'transmittance_blue', subplot_index=(0, 1), x_bins=25, y_bins=25)\n",
    "plt.show()"
   ]
  },
  {
   "cell_type": "code",
   "execution_count": null,
   "id": "b0ea8bd5-91aa-4a9b-8a54-eff6be6b396b",
   "metadata": {
    "tags": []
   },
   "outputs": [],
   "source": [
    "# Let's try one last plot type with this dataset\n",
    "# Violin plots!\n",
    "display = act.plotting.DistributionDisplay(ds)\n",
    "\n",
    "# And then we can plot the data!\n",
    "display.plot_violin(variable, positions=[1.0])\n",
    "\n",
    "# And we can add more variables to it as well!\n",
    "display.plot_violin('Ba_R_Weiss', positions=[2.0])\n",
    "display.plot_violin('Ba_G_Weiss', positions=[3.0])\n",
    "\n",
    "# Let's add some more information to the plots\n",
    "# Update the tick information\n",
    "display.axes[0].set_xticks([0.5, 1, 2, 3, 3.5])\n",
    "display.axes[0].set_xticklabels(['',\n",
    "                                 'Blue Channel\\nAbsoprtion',\n",
    "                                 'Red Channel\\nAbsorption',\n",
    "                                 'Green Channel\\nAbsorption',\n",
    "                                 '']\n",
    "                                )\n",
    "\n",
    "# Update the y-axis label\n",
    "display.axes[0].set_ylabel('Aerosol Light Absorption Coefficient')\n",
    "plt.show()"
   ]
  },
  {
   "cell_type": "markdown",
   "id": "4178c3dd-4a15-4e05-839c-b5fdf96c0efd",
   "metadata": {},
   "source": [
    "---"
   ]
  },
  {
   "cell_type": "markdown",
   "id": "1160da20-2f54-43c0-aeea-d7a306d37f6d",
   "metadata": {},
   "source": [
    "## Questions for the User to Explore\n",
    "1. What does the data look like for the full month of July?  Do we have to do more to properly visualize the data?\n",
    "1. What do the scatter plots look like when plotted against the red channel absorption coefficient vs the transmittance?\n",
    "1. Can you change the groupby plot to be for each day instead of by hour?"
   ]
  },
  {
   "cell_type": "markdown",
   "id": "a810279c-09ba-49e7-b517-e791c350883b",
   "metadata": {},
   "source": [
    "---"
   ]
  },
  {
   "cell_type": "markdown",
   "id": "0eaee516-805e-46ed-94e9-1d115bcebb6c",
   "metadata": {},
   "source": [
    "## Next Steps\n",
    "The next notebook in this series will help the users explore other datasets that can be utilized to analyze this dust event.  These include using data from the instruments previously noted here.\n",
    "\n",
    "### Data Used in this Notebook\n",
    "Ermold, B., & Flynn, C. Particle Soot Absorption Photometer (AOSPSAP3W1M). Atmospheric Radiation Measurement (ARM) User Facility. https://doi.org/10.5439/1225037"
   ]
  }
 ],
 "metadata": {
  "kernelspec": {
   "display_name": "Python 3 (ipykernel)",
   "language": "python",
   "name": "python3"
  },
  "language_info": {
   "codemirror_mode": {
    "name": "ipython",
    "version": 3
   },
   "file_extension": ".py",
   "mimetype": "text/x-python",
   "name": "python",
   "nbconvert_exporter": "python",
   "pygments_lexer": "ipython3",
   "version": "3.11.5"
  }
 },
 "nbformat": 4,
 "nbformat_minor": 5
}
