{
 "cells": [
  {
   "cell_type": "markdown",
   "id": "70840257-70e4-45e2-b491-14bff5a257a3",
   "metadata": {},
   "source": [
    "# RADFLUX1LONG.C2 Plots\n",
    "\n",
    "[Click here](https://www.arm.gov/capabilities/vaps/radfluxanal) for more information about this vap."
   ]
  },
  {
   "cell_type": "code",
   "execution_count": null,
   "id": "460fd89f-e034-452c-b837-f65c5958264f",
   "metadata": {},
   "outputs": [],
   "source": [
    "%matplotlib widget\n",
    "import ipywidgets as widgets\n",
    "\n",
    "import matplotlib.pyplot as plt\n",
    "import ipywidgets as widgets\n",
    "import numpy as np\n",
    "import pandas as pd\n",
    "import os\n",
    "from datetime import datetime\n",
    "\n",
    "import act\n",
    "import xarray as xr\n",
    "\n",
    "# Data archive directory\n",
    "DATA_DIR = r'/data/archive/'\n",
    "\n",
    "# Datastream info\n",
    "DATASTREAM_NAME = 'radflux1long'\n",
    "DATA_LEVEL = 'c2'\n",
    "LOCATIONS = [{'end_date': '2020-05-31', 'facility': 'M1', 'site': 'anx', 'start_date': '2019-12-01'}, {'end_date': '2017-11-01', 'facility': 'M1', 'site': 'asi', 'start_date': '2016-05-12'}, {'end_date': '2019-07-12', 'facility': 'M1', 'site': 'oli', 'start_date': '2014-02-20'}, {'end_date': '2018-03-13', 'facility': 'S1', 'site': 'mcq', 'start_date': '2016-04-10'}, {'end_date': '2012-01-11', 'facility': 'M1', 'site': 'gan', 'start_date': '2011-11-07'}, {'end_date': '2011-01-06', 'facility': 'M1', 'site': 'grw', 'start_date': '2009-04-23'}, {'end_date': '2006-12-26', 'facility': 'M1', 'site': 'nim', 'start_date': '2005-12-14'}, {'end_date': '2008-12-08', 'facility': 'M1', 'site': 'hfe', 'start_date': '2008-11-19'}, {'end_date': '2015-12-01', 'facility': 'M1', 'site': 'mao', 'start_date': '2014-01-01'}, {'end_date': '2019-04-28', 'facility': 'M1', 'site': 'cor', 'start_date': '2018-09-23'}, {'end_date': '2007-12-23', 'facility': 'M1', 'site': 'fkb', 'start_date': '2007-03-25'}, {'end_date': '2021-08-20', 'facility': 'C1', 'site': 'ena', 'start_date': '2013-10-03'}, {'end_date': '2016-12-20', 'facility': 'M1', 'site': 'awr', 'start_date': '2015-11-24'}, {'end_date': '2021-07-04', 'facility': 'C1', 'site': 'nsa', 'start_date': '2003-09-22'}, {'end_date': '2010-10-14', 'facility': 'C2', 'site': 'nsa', 'start_date': '2005-02-18'}, {'end_date': '2005-09-10', 'facility': 'M1', 'site': 'pye', 'start_date': '2005-02-22'}, {'end_date': '2021-07-31', 'facility': 'E41', 'site': 'sgp', 'start_date': '2016-04-21'}, {'end_date': '2011-09-25', 'facility': 'E4', 'site': 'sgp', 'start_date': '1996-03-07'}, {'end_date': '2009-11-01', 'facility': 'E5', 'site': 'sgp', 'start_date': '1996-06-17'}, {'end_date': '2011-10-16', 'facility': 'E6', 'site': 'sgp', 'start_date': '1996-03-07'}, {'end_date': '2011-11-13', 'facility': 'E7', 'site': 'sgp', 'start_date': '1995-10-20'}, {'end_date': '2009-11-05', 'facility': 'E8', 'site': 'sgp', 'start_date': '1995-09-29'}, {'end_date': '2021-07-03', 'facility': 'E9', 'site': 'sgp', 'start_date': '1994-01-19'}, {'end_date': '2020-05-23', 'facility': 'C1', 'site': 'sgp', 'start_date': '1997-03-25'}, {'end_date': '2011-10-16', 'facility': 'E10', 'site': 'sgp', 'start_date': '1995-08-10'}, {'end_date': '2020-06-08', 'facility': 'E11', 'site': 'sgp', 'start_date': '1995-09-26'}, {'end_date': '2020-06-07', 'facility': 'E12', 'site': 'sgp', 'start_date': '1996-01-21'}, {'end_date': '2020-06-03', 'facility': 'E13', 'site': 'sgp', 'start_date': '1994-01-07'}, {'end_date': '2021-07-12', 'facility': 'E15', 'site': 'sgp', 'start_date': '1994-03-31'}, {'end_date': '2011-11-10', 'facility': 'E16', 'site': 'sgp', 'start_date': '1995-06-12'}, {'end_date': '2009-11-07', 'facility': 'E18', 'site': 'sgp', 'start_date': '1996-06-20'}, {'end_date': '2011-05-21', 'facility': 'E19', 'site': 'sgp', 'start_date': '1998-07-19'}, {'end_date': '2009-05-13', 'facility': 'E1', 'site': 'sgp', 'start_date': '1995-11-15'}, {'end_date': '2011-11-15', 'facility': 'E20', 'site': 'sgp', 'start_date': '1995-04-01'}, {'end_date': '2019-04-27', 'facility': 'E21', 'site': 'sgp', 'start_date': '1999-09-13'}, {'end_date': '2009-11-30', 'facility': 'E22', 'site': 'sgp', 'start_date': '1995-06-12'}, {'end_date': '2009-11-07', 'facility': 'E24', 'site': 'sgp', 'start_date': '1995-11-08'}, {'end_date': '2002-04-03', 'facility': 'E25', 'site': 'sgp', 'start_date': '1997-11-18'}, {'end_date': '2009-07-15', 'facility': 'E27', 'site': 'sgp', 'start_date': '2003-05-29'}, {'end_date': '2009-10-19', 'facility': 'E2', 'site': 'sgp', 'start_date': '1996-03-25'}, {'end_date': '2020-06-08', 'facility': 'E31', 'site': 'sgp', 'start_date': '2011-10-13'}, {'end_date': '2021-07-03', 'facility': 'E32', 'site': 'sgp', 'start_date': '2012-02-05'}, {'end_date': '2020-06-11', 'facility': 'E33', 'site': 'sgp', 'start_date': '2011-08-25'}, {'end_date': '2020-06-18', 'facility': 'E34', 'site': 'sgp', 'start_date': '2011-09-04'}, {'end_date': '2020-06-25', 'facility': 'E35', 'site': 'sgp', 'start_date': '2011-10-06'}, {'end_date': '2020-06-26', 'facility': 'E36', 'site': 'sgp', 'start_date': '2011-09-28'}, {'end_date': '2020-07-01', 'facility': 'E37', 'site': 'sgp', 'start_date': '2011-09-28'}, {'end_date': '2020-06-25', 'facility': 'E38', 'site': 'sgp', 'start_date': '2011-08-25'}, {'end_date': '2020-06-25', 'facility': 'E39', 'site': 'sgp', 'start_date': '2015-10-06'}, {'end_date': '2009-10-24', 'facility': 'E3', 'site': 'sgp', 'start_date': '1996-03-07'}, {'end_date': '2020-06-25', 'facility': 'E40', 'site': 'sgp', 'start_date': '2015-10-08'}, {'end_date': '2014-06-29', 'facility': 'C1', 'site': 'twp', 'start_date': '1996-10-14'}, {'end_date': '2013-09-08', 'facility': 'C2', 'site': 'twp', 'start_date': '1998-10-30'}, {'end_date': '2015-01-06', 'facility': 'C3', 'site': 'twp', 'start_date': '2002-03-12'}]"
   ]
  },
  {
   "cell_type": "markdown",
   "id": "9faaf875",
   "metadata": {},
   "source": [
    "## Define site, facility, and date ranges"
   ]
  },
  {
   "cell_type": "code",
   "execution_count": null,
   "id": "ac6764f5",
   "metadata": {},
   "outputs": [],
   "source": [
    "print(\"The following locations and date ranges are available for this VAP:\")\n",
    "display(pd.DataFrame(LOCATIONS, columns=['site', 'facility', 'start_date', 'end_date']))"
   ]
  },
  {
   "cell_type": "code",
   "execution_count": null,
   "id": "e563983a",
   "metadata": {},
   "outputs": [],
   "source": [
    "# Define site, facility, and date range below:\n",
    "site_facility = ( 'sgp', 'E40' )\n",
    "\n",
    "# Date range. Format: YYYY-MM-DD\n",
    "date_start = '2020-06-19'\n",
    "date_end = '2020-06-24'"
   ]
  },
  {
   "cell_type": "markdown",
   "id": "bccd3dfe-2f99-49a5-bace-ea37e8dd8fc3",
   "metadata": {},
   "source": [
    "## Load data files\n",
    "Loads data files from /data/archive/"
   ]
  },
  {
   "cell_type": "code",
   "execution_count": null,
   "id": "cb4b9a26-c574-49c0-a521-658fa553e39e",
   "metadata": {},
   "outputs": [],
   "source": [
    "# Compile list of files\n",
    "site, facility = site_facility\n",
    "d_date_start = datetime.strptime(date_start, '%Y-%m-%d')\n",
    "d_date_end = datetime.strptime(date_end, '%Y-%m-%d')\n",
    "dir_path = os.path.join(DATA_DIR + site, site + DATASTREAM_NAME + facility + r'.' + DATA_LEVEL )\n",
    "files_list  = []\n",
    "for f in os.listdir(dir_path):\n",
    "    file_date_str = f.split(r'.')[2]\n",
    "    try:\n",
    "        file_date = datetime.strptime(file_date_str, '%Y%m%d')\n",
    "    except Exception:\n",
    "        continue \n",
    "    if d_date_start <= file_date and d_date_end > file_date:\n",
    "        files_list.append(os.path.join(dir_path, f))\n",
    "\n",
    "# Load files as a single dataset\n",
    "ds = act.io.armfiles.read_netcdf(files_list)\n",
    "ds.clean.cleanup()\n",
    "print(f'{len(files_list)} files loaded')\n",
    "ds\n"
   ]
  },
  {
   "cell_type": "markdown",
   "id": "4a551094-9ec0-4b64-b80a-9940573c2f50",
   "metadata": {},
   "source": [
    "## Plot time series data"
   ]
  },
  {
   "cell_type": "code",
   "execution_count": null,
   "id": "d09b789e-84f1-4605-846b-a72c110c8048",
   "metadata": {},
   "outputs": [],
   "source": [
    "# Define the list of variables to be plotted\n",
    "variables_to_plot = ['downwelling_shortwave', 'clearsky_downwelling_shortwave', 'downwelling_longwave']"
   ]
  },
  {
   "cell_type": "code",
   "execution_count": null,
   "id": "3458fb08-035b-4898-9253-0a94e6f9c97b",
   "metadata": {},
   "outputs": [],
   "source": [
    "ts_display = act.plotting.TimeSeriesDisplay(ds)\n",
    "ts_display.add_subplots((len(variables_to_plot),), figsize = (13,4*len(variables_to_plot)))\n",
    "\n",
    "for i,v in enumerate(variables_to_plot):\n",
    "    ts_ax = ts_display.plot(v, subplot_index=(i,), set_title=ds.variables[v].attrs['long_name'],)\n",
    "    ts_ax.grid()\n",
    "\n",
    "plt.show()\n"
   ]
  },
  {
   "cell_type": "markdown",
   "id": "194399aa-1907-452b-8ba9-bc31d7f60291",
   "metadata": {},
   "source": [
    "## Quality check plots"
   ]
  },
  {
   "cell_type": "code",
   "execution_count": null,
   "id": "9a0ef63d-3eeb-48fc-a24a-43258b6134b8",
   "metadata": {},
   "outputs": [],
   "source": [
    "# Define variable for QC plot\n",
    "qc_variable = 'downwelling_shortwave'"
   ]
  },
  {
   "cell_type": "code",
   "execution_count": null,
   "id": "532663a3-4dc0-4497-bda8-018c5f91e1c4",
   "metadata": {},
   "outputs": [],
   "source": [
    "if ('qc_' + qc_variable) in ds.variables:\n",
    "\n",
    "    # Plot\n",
    "    qc_display = act.plotting.TimeSeriesDisplay(ds)\n",
    "    qc_display.add_subplots((2,), figsize = (13,10))\n",
    "    qc_ax = qc_display.plot(qc_variable, subplot_index=(0,), set_title=\"QC results on field: \" + ds.variables[qc_variable].attrs['long_name'],)\n",
    "    qc_ax.grid()\n",
    "    qc_display.qc_flag_block_plot(qc_variable, subplot_index=(1,))\n",
    "\n",
    "    plt.show()\n",
    "else:\n",
    "    print(f'QC not available for the selected field: {qc_variable}')\n"
   ]
  },
  {
   "cell_type": "markdown",
   "id": "2308db16-f362-4033-a11a-c3e5e75ad9ba",
   "metadata": {},
   "source": [
    "## Field selection dropdown menu"
   ]
  },
  {
   "cell_type": "code",
   "execution_count": null,
   "id": "d5792fa8-2253-441a-8ac6-1e07a0345031",
   "metadata": {},
   "outputs": [],
   "source": [
    "plt.ioff()\n",
    "\n",
    "# populate dropdown menu with available variables \n",
    "available_variables = [v for v in ds.variables if not('time' in v or v.startswith('qc_') or v.startswith('source_')) and 'long_name' in ds.variables[v].attrs]\n",
    "d_variable = 'downwelling_shortwave'\n",
    "dropdown = widgets.Dropdown(\n",
    "    options = [(ds.variables[v].attrs['long_name'], v) for v in available_variables],\n",
    "    value= d_variable,\n",
    "    description='Field:',\n",
    "    disabled=False,\n",
    ")\n",
    "dropdown.layout.margin = '0px 30% 0px 20%'\n",
    "dropdown.layout.width = '50%'\n",
    "\n",
    "# set up display\n",
    "i_display = act.plotting.TimeSeriesDisplay(ds)\n",
    "i_display.add_subplots((1,), figsize = (13,5))\n",
    "i_ax = i_display.plot(d_variable, subplot_index=(0,), set_title=ds.variables[d_variable].attrs['long_name'],)\n",
    "i_ax.grid()\n",
    "i_fig = i_display.fig\n",
    "\n",
    "# update plot callback function\n",
    "def update_plot(change):\n",
    "    i_ax.cla()\n",
    "    i_ax_new = i_display.plot(change.new, subplot_index=(0,), set_title=ds.variables[change.new].attrs['long_name'],)\n",
    "    i_ax_new.grid()\n",
    "    i_fig.canvas.draw()\n",
    "    i_fig.canvas.flush_events()\n",
    "\n",
    "dropdown.observe(update_plot, names='value')\n",
    "\n",
    "widgets.AppLayout(\n",
    "    header=dropdown,\n",
    "    center=i_fig.canvas,\n",
    "    pane_heights=[1, 6,1]\n",
    ")\n"
   ]
  }
 ],
 "metadata": {
  "kernelspec": {
   "display_name": "Python 3",
   "language": "python",
   "name": "python3"
  },
  "language_info": {
   "codemirror_mode": {
    "name": "ipython",
    "version": 3
   },
   "file_extension": ".py",
   "mimetype": "text/x-python",
   "name": "python",
   "nbconvert_exporter": "python",
   "pygments_lexer": "ipython3",
   "version": "3.9.12"
  },
  "widgets": {
   "application/vnd.jupyter.widget-state+json": {
    "state": {},
    "version_major": 2,
    "version_minor": 0
   }
  }
 },
 "nbformat": 4,
 "nbformat_minor": 5
}
