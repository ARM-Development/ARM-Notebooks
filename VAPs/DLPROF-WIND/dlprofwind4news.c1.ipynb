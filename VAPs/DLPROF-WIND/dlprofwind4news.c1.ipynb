{
 "cells": [
  {
   "cell_type": "markdown",
   "id": "70840257-70e4-45e2-b491-14bff5a257a3",
   "metadata": {},
   "source": [
    "# DLPROF-WIND Plots\n",
    "\n",
    "[Click here](https://www.arm.gov/capabilities/vaps/dlprof-wind) for more information about this vap."
   ]
  },
  {
   "cell_type": "code",
   "execution_count": null,
   "id": "460fd89f-e034-452c-b837-f65c5958264f",
   "metadata": {},
   "outputs": [],
   "source": [
    "%matplotlib widget\n",
    "import ipywidgets as widgets\n",
    "\n",
    "import matplotlib.pyplot as plt\n",
    "import ipywidgets as widgets\n",
    "import numpy as np\n",
    "import pandas as pd\n",
    "import os\n",
    "from datetime import datetime\n",
    "\n",
    "import act\n",
    "import xarray as xr"
   ]
  },
  {
   "cell_type": "code",
   "execution_count": null,
   "id": "66e9becc-f503-418c-90ee-6994cdefb604",
   "metadata": {},
   "outputs": [],
   "source": [
    "# Data archive directory\n",
    "DATA_DIR = r'/data/archive/'"
   ]
  },
  {
   "cell_type": "code",
   "execution_count": null,
   "id": "07b61d25-1c82-41c4-9364-bbadec4baa64",
   "metadata": {},
   "outputs": [],
   "source": [
    "# Datastream info\n",
    "DATASTREAM_NAME = 'dlprofwind4news'\n",
    "DATA_LEVEL = 'c1'\n",
    "LOCATIONS = [{'end_date': '2017-10-29', 'facility': 'M1', 'site': 'asi', 'start_date': '2016-09-06'}, {'end_date': '2019-04-30', 'facility': 'M1', 'site': 'cor', 'start_date': '2018-09-28'}, {'end_date': '2022-04-16', 'facility': 'C1', 'site': 'ena', 'start_date': '2014-10-21'}, {'end_date': '2015-08-27', 'facility': 'M1', 'site': 'mao', 'start_date': '2014-01-31'}, {'end_date': '2022-04-16', 'facility': 'C1', 'site': 'nsa', 'start_date': '2014-07-30'}, {'end_date': '2021-06-14', 'facility': 'M1', 'site': 'oli', 'start_date': '2014-07-28'}, {'end_date': '2012-03-31', 'facility': 'M1', 'site': 'pgh', 'start_date': '2011-07-21'}, {'end_date': '2013-06-19', 'facility': 'M1', 'site': 'pvc', 'start_date': '2012-06-29'}, {'end_date': '2022-04-17', 'facility': 'C1', 'site': 'sgp', 'start_date': '2010-11-02'}, {'end_date': '2022-04-17', 'facility': 'E32', 'site': 'sgp', 'start_date': '2016-05-03'}, {'end_date': '2022-04-17', 'facility': 'E37', 'site': 'sgp', 'start_date': '2016-05-03'}, {'end_date': '2022-04-16', 'facility': 'E39', 'site': 'sgp', 'start_date': '2016-04-01'}, {'end_date': '2022-04-16', 'facility': 'E41', 'site': 'sgp', 'start_date': '2016-05-03'}, {'end_date': '2015-01-03', 'facility': 'C3', 'site': 'twp', 'start_date': '2010-12-13'}]"
   ]
  },
  {
   "cell_type": "markdown",
   "id": "9faaf875",
   "metadata": {},
   "source": [
    "## Define site, facility, and date ranges"
   ]
  },
  {
   "cell_type": "code",
   "execution_count": null,
   "id": "ac6764f5",
   "metadata": {},
   "outputs": [],
   "source": [
    "print(\"The following locations and date ranges are available for this VAP:\")\n",
    "display(pd.DataFrame(LOCATIONS, columns=['site', 'facility', 'start_date', 'end_date']))"
   ]
  },
  {
   "cell_type": "code",
   "execution_count": null,
   "id": "e563983a",
   "metadata": {},
   "outputs": [],
   "source": [
    "# Define site, facility, and date range below:\n",
    "site_facility = ( 'asi', 'M1' )\n",
    "\n",
    "# Date range. Format: YYYY-MM-DD\n",
    "date_start = '2017-10-23'\n",
    "date_end = '2017-10-28'"
   ]
  },
  {
   "cell_type": "markdown",
   "id": "bccd3dfe-2f99-49a5-bace-ea37e8dd8fc3",
   "metadata": {},
   "source": [
    "## Load data files\n",
    "Loads data files from /data/archive/"
   ]
  },
  {
   "cell_type": "code",
   "execution_count": null,
   "id": "cb4b9a26-c574-49c0-a521-658fa553e39e",
   "metadata": {},
   "outputs": [],
   "source": [
    "# Compile list of files\n",
    "site, facility = site_facility\n",
    "d_date_start = datetime.strptime(date_start, '%Y-%m-%d')\n",
    "d_date_end = datetime.strptime(date_end, '%Y-%m-%d')\n",
    "dir_path = os.path.join(DATA_DIR + site, site + DATASTREAM_NAME + facility + r'.' + DATA_LEVEL )\n",
    "files_list  = []\n",
    "for f in os.listdir(dir_path):\n",
    "    file_date_str = f.split(r'.')[2]\n",
    "    try:\n",
    "        file_date = datetime.strptime(file_date_str, '%Y%m%d')\n",
    "    except Exception:\n",
    "        continue \n",
    "    if d_date_start <= file_date and d_date_end >= file_date:\n",
    "        files_list.append(os.path.join(dir_path, f))\n",
    "\n",
    "# Load files as a single dataset\n",
    "ds = act.io.armfiles.read_netcdf(files_list)\n",
    "ds.clean.cleanup()\n",
    "print(f'{len(files_list)} files loaded')\n",
    "ds"
   ]
  },
  {
   "cell_type": "markdown",
   "id": "4a551094-9ec0-4b64-b80a-9940573c2f50",
   "metadata": {},
   "source": [
    "## Plot time series data"
   ]
  },
  {
   "cell_type": "code",
   "execution_count": null,
   "id": "d09b789e-84f1-4605-846b-a72c110c8048",
   "metadata": {},
   "outputs": [],
   "source": [
    "variables_to_plot = ['u', 'v', 'wind_speed']"
   ]
  },
  {
   "cell_type": "code",
   "execution_count": null,
   "id": "3458fb08-035b-4898-9253-0a94e6f9c97b",
   "metadata": {},
   "outputs": [],
   "source": [
    "ts_display = act.plotting.TimeSeriesDisplay(ds)\n",
    "ts_display.add_subplots((len(variables_to_plot),), figsize = (15,4*len(variables_to_plot)))\n",
    "\n",
    "for i,v in enumerate(variables_to_plot):\n",
    "    ts_ax = ts_display.plot(v, subplot_index=(i,), set_title=ds.variables[v].attrs['long_name'])\n",
    "    ts_ax.grid()\n",
    "\n",
    "plt.show()"
   ]
  },
  {
   "cell_type": "markdown",
   "id": "194399aa-1907-452b-8ba9-bc31d7f60291",
   "metadata": {},
   "source": [
    "## Field selection dropdown"
   ]
  },
  {
   "cell_type": "code",
   "execution_count": null,
   "id": "d5792fa8-2253-441a-8ac6-1e07a0345031",
   "metadata": {},
   "outputs": [],
   "source": [
    "plt.ioff()\n",
    "\n",
    "available_variables = [v for v in ds.variables if not('time' in v or v.startswith('qc_') or v.startswith('source_')) and 'long_name' in ds.variables[v].attrs]\n",
    "variable = available_variables[-1]\n",
    "\n",
    "dropdown = widgets.Dropdown(\n",
    "    options = [(ds.variables[v].attrs['long_name'], v) for v in available_variables],\n",
    "    value= variable,\n",
    "    description='Field:',\n",
    "    disabled=False,\n",
    ")\n",
    "\n",
    "dropdown.layout.margin = '0px 30% 0px 20%'\n",
    "dropdown.layout.width = '50%'\n",
    "\n",
    "i_display = act.plotting.TimeSeriesDisplay(ds)\n",
    "i_display.add_subplots((1,), figsize = (15,5))\n",
    "i_ax = i_display.plot(variable, subplot_index=(0,), set_title=ds.variables[variable].attrs['long_name'])\n",
    "i_ax.grid()\n",
    "\n",
    "i_fig = i_display.fig\n",
    "\n",
    "def update_plot(change):\n",
    "    i_ax.cla()\n",
    "    i_ax_new = i_display.plot(change.new, subplot_index=(0,), set_title=ds.variables[change.new].attrs['long_name'])\n",
    "    i_ax_new.grid()\n",
    "    i_fig.canvas.draw()\n",
    "    i_fig.canvas.flush_events()\n",
    "\n",
    "dropdown.observe(update_plot, names='value')\n",
    "\n",
    "widgets.AppLayout(\n",
    "    header=dropdown,\n",
    "    center=i_fig.canvas,\n",
    "    pane_heights=[1, 6,1]\n",
    ")"
   ]
  }
 ],
 "metadata": {
  "kernelspec": {
   "display_name": "Python 3",
   "language": "python",
   "name": "python3"
  },
  "language_info": {
   "codemirror_mode": {
    "name": "ipython",
    "version": 3
   },
   "file_extension": ".py",
   "mimetype": "text/x-python",
   "name": "python",
   "nbconvert_exporter": "python",
   "pygments_lexer": "ipython3",
   "version": "3.9.12"
  },
  "widgets": {
   "application/vnd.jupyter.widget-state+json": {
    "state": {},
    "version_major": 2,
    "version_minor": 0
   }
  }
 },
 "nbformat": 4,
 "nbformat_minor": 5
}
