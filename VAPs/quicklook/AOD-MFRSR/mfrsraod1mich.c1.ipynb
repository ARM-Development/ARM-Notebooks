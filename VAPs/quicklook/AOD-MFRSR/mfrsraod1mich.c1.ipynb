{
 "cells": [
  {
   "attachments": {},
   "cell_type": "markdown",
   "id": "70840257-70e4-45e2-b491-14bff5a257a3",
   "metadata": {},
   "source": [
    "# MFRSRAOD1MICH.C1 Plots\n",
    "\n",
    "[Click here](https://www.arm.gov/capabilities/vaps/aod-mfrsr) for more information about this vap."
   ]
  },
  {
   "cell_type": "code",
   "execution_count": null,
   "id": "460fd89f-e034-452c-b837-f65c5958264f",
   "metadata": {},
   "outputs": [],
   "source": [
    "%matplotlib widget\n",
    "import ipywidgets as widgets\n",
    "\n",
    "import matplotlib.pyplot as plt\n",
    "import ipywidgets as widgets\n",
    "import numpy as np\n",
    "import pandas as pd\n",
    "import os\n",
    "from datetime import datetime\n",
    "\n",
    "import act\n",
    "import xarray as xr\n",
    "\n",
    "# Data archive directory\n",
    "DATA_DIR = r'/data/archive/'\n",
    "\n",
    "# Datastream info\n",
    "DATASTREAM_NAME = 'mfrsraod1mich'\n",
    "DATA_LEVEL = 'c1'\n",
    "LOCATIONS = [{'end_date': '2017-08-09', 'facility': 'M1', 'site': 'asi', 'start_date': '2016-05-02'}, {'end_date': '2021-03-30', 'facility': 'M1', 'site': 'oli', 'start_date': '2014-04-20'}, {'end_date': '2019-04-30', 'facility': 'M1', 'site': 'cor', 'start_date': '2018-10-01'}, {'end_date': '2020-01-25', 'facility': 'C1', 'site': 'ena', 'start_date': '2016-01-01'}, {'end_date': '2007-12-29', 'facility': 'M1', 'site': 'fkb', 'start_date': '2007-04-19'}, {'end_date': '2015-10-24', 'facility': 'M1', 'site': 'mao', 'start_date': '2014-01-01'}, {'end_date': '2018-03-13', 'facility': 'S1', 'site': 'mcq', 'start_date': '2016-04-01'}, {'end_date': '2008-12-26', 'facility': 'M1', 'site': 'hfe', 'start_date': '2008-05-30'}, {'end_date': '2012-02-06', 'facility': 'M1', 'site': 'gan', 'start_date': '2011-09-24'}, {'end_date': '2011-01-03', 'facility': 'M1', 'site': 'grw', 'start_date': '2009-05-05'}, {'end_date': '2013-04-04', 'facility': 'M1', 'site': 'pvc', 'start_date': '2012-07-09'}, {'end_date': '2005-09-04', 'facility': 'M1', 'site': 'pye', 'start_date': '2005-02-20'}, {'end_date': '2011-04-26', 'facility': 'M1', 'site': 'sbs', 'start_date': '2011-01-26'}, {'end_date': '2012-03-27', 'facility': 'M1', 'site': 'pgh', 'start_date': '2011-06-25'}, {'end_date': '2020-08-03', 'facility': 'C1', 'site': 'nsa', 'start_date': '1998-04-02'}, {'end_date': '2010-11-13', 'facility': 'C2', 'site': 'nsa', 'start_date': '1999-09-05'}, {'end_date': '2021-04-30', 'facility': 'C1', 'site': 'sgp', 'start_date': '1997-01-16'}, {'end_date': '2011-10-19', 'facility': 'E10', 'site': 'sgp', 'start_date': '1997-10-31'}, {'end_date': '2020-12-08', 'facility': 'E11', 'site': 'sgp', 'start_date': '1997-09-01'}, {'end_date': '2020-12-08', 'facility': 'E12', 'site': 'sgp', 'start_date': '1997-11-10'}, {'end_date': '2021-01-08', 'facility': 'E13', 'site': 'sgp', 'start_date': '1997-09-10'}, {'end_date': '2020-11-30', 'facility': 'E15', 'site': 'sgp', 'start_date': '1997-09-10'}, {'end_date': '2011-11-15', 'facility': 'E16', 'site': 'sgp', 'start_date': '1997-08-21'}, {'end_date': '2009-11-17', 'facility': 'E18', 'site': 'sgp', 'start_date': '1997-10-17'}, {'end_date': '2011-04-27', 'facility': 'E19', 'site': 'sgp', 'start_date': '1998-07-27'}, {'end_date': '2009-10-14', 'facility': 'E1', 'site': 'sgp', 'start_date': '1997-12-22'}, {'end_date': '2011-11-17', 'facility': 'E20', 'site': 'sgp', 'start_date': '1997-12-26'}, {'end_date': '2009-12-01', 'facility': 'E22', 'site': 'sgp', 'start_date': '1997-11-28'}, {'end_date': '2009-11-14', 'facility': 'E24', 'site': 'sgp', 'start_date': '1997-11-28'}, {'end_date': '2002-04-08', 'facility': 'E25', 'site': 'sgp', 'start_date': '1997-10-22'}, {'end_date': '2009-12-04', 'facility': 'E27', 'site': 'sgp', 'start_date': '2004-01-22'}, {'end_date': '2009-10-20', 'facility': 'E2', 'site': 'sgp', 'start_date': '1997-11-25'}, {'end_date': '2020-12-07', 'facility': 'E31', 'site': 'sgp', 'start_date': '2011-10-13'}, {'end_date': '2020-11-17', 'facility': 'E32', 'site': 'sgp', 'start_date': '2011-12-07'}, {'end_date': '2020-11-23', 'facility': 'E33', 'site': 'sgp', 'start_date': '2011-09-27'}, {'end_date': '2020-12-08', 'facility': 'E34', 'site': 'sgp', 'start_date': '2011-09-28'}, {'end_date': '2020-12-14', 'facility': 'E35', 'site': 'sgp', 'start_date': '2011-09-28'}, {'end_date': '2020-12-03', 'facility': 'E36', 'site': 'sgp', 'start_date': '2011-10-18'}, {'end_date': '2020-11-24', 'facility': 'E37', 'site': 'sgp', 'start_date': '2011-11-03'}, {'end_date': '2017-09-29', 'facility': 'E38', 'site': 'sgp', 'start_date': '2011-11-01'}, {'end_date': '2009-10-28', 'facility': 'E3', 'site': 'sgp', 'start_date': '1997-11-11'}, {'end_date': '2020-12-14', 'facility': 'E40', 'site': 'sgp', 'start_date': '2015-11-13'}, {'end_date': '2011-09-26', 'facility': 'E4', 'site': 'sgp', 'start_date': '1997-12-18'}, {'end_date': '2009-10-14', 'facility': 'E5', 'site': 'sgp', 'start_date': '1997-11-10'}, {'end_date': '2011-09-30', 'facility': 'E6', 'site': 'sgp', 'start_date': '1997-11-10'}, {'end_date': '2011-11-14', 'facility': 'E7', 'site': 'sgp', 'start_date': '1997-11-01'}, {'end_date': '2009-11-10', 'facility': 'E8', 'site': 'sgp', 'start_date': '1997-09-04'}, {'end_date': '2020-11-16', 'facility': 'E9', 'site': 'sgp', 'start_date': '1998-03-01'}, {'end_date': '2014-09-15', 'facility': 'M1', 'site': 'tmp', 'start_date': '2014-02-01'}, {'end_date': '2014-06-25', 'facility': 'C1', 'site': 'twp', 'start_date': '1997-08-28'}, {'end_date': '2013-09-09', 'facility': 'C2', 'site': 'twp', 'start_date': '1998-11-10'}, {'end_date': '2015-01-06', 'facility': 'C3', 'site': 'twp', 'start_date': '2002-03-22'}]"
   ]
  },
  {
   "attachments": {},
   "cell_type": "markdown",
   "id": "9faaf875",
   "metadata": {},
   "source": [
    "## Define site, facility, and date range"
   ]
  },
  {
   "cell_type": "code",
   "execution_count": null,
   "id": "ac6764f5",
   "metadata": {},
   "outputs": [],
   "source": [
    "print(\"The following locations and date ranges are available for this VAP:\")\n",
    "display(pd.DataFrame(LOCATIONS, columns=['site', 'facility', 'start_date', 'end_date']))"
   ]
  },
  {
   "attachments": {},
   "cell_type": "markdown",
   "id": "8d132223",
   "metadata": {},
   "source": [
    "#### Define site, facility, and date range (date format: YYYY-MM-DD) using the variables below:"
   ]
  },
  {
   "cell_type": "code",
   "execution_count": null,
   "id": "e563983a",
   "metadata": {},
   "outputs": [],
   "source": [
    "site_facility = ( 'sgp', 'C1' )\n",
    "\n",
    "date_start = '2021-04-30'\n",
    "date_end = '2021-04-30'"
   ]
  },
  {
   "attachments": {},
   "cell_type": "markdown",
   "id": "bccd3dfe-2f99-49a5-bace-ea37e8dd8fc3",
   "metadata": {},
   "source": [
    "## Load data files\n",
    "Load data files from /data/archive/"
   ]
  },
  {
   "cell_type": "code",
   "execution_count": null,
   "id": "cb4b9a26-c574-49c0-a521-658fa553e39e",
   "metadata": {},
   "outputs": [],
   "source": [
    "# Compile list of files\n",
    "site, facility = site_facility\n",
    "d_date_start = datetime.strptime(date_start, '%Y-%m-%d')\n",
    "d_date_end = datetime.strptime(date_end, '%Y-%m-%d')\n",
    "dir_path = os.path.join(DATA_DIR + site, site + DATASTREAM_NAME + facility + r'.' + DATA_LEVEL )\n",
    "dir_path\n"
   ]
  },
  {
   "cell_type": "code",
   "execution_count": null,
   "id": "6be8f3dc",
   "metadata": {},
   "outputs": [],
   "source": [
    "from datetime import date, timedelta\n",
    "import pandas as pd\n",
    "\n",
    "def get_ARM_formated_dates(start_date, end_date):\n",
    "    \"\"\"\n",
    "    Get a list of ARM conventional formated date lists, based on start_date and end_date(inclusive)\n",
    "    EXAMPLE:\n",
    "    get_ARM_formated_dates(start_date=\"20180219\", end_date=\"20180221\")\n",
    "    >> [\"20180219\", \"20180220\", \"20180221\"] \n",
    "    \"\"\"\n",
    "    \n",
    "    _start_date = pd.to_datetime(start_date)\n",
    "    _end_date = pd.to_datetime(end_date)\n",
    "    \n",
    "    delta = _end_date - _start_date   # returns timedelta    \n",
    "    dates = []\n",
    "\n",
    "    for i in range(delta.days + 1):\n",
    "        day = _start_date + timedelta(days=i)\n",
    "        day_formated = day.strftime(format=\"%Y%m%d\")\n",
    "        dates.append(day_formated)\n",
    "    return dates\n",
    "\n",
    "\n",
    "get_ARM_formated_dates(start_date=date_start, end_date=date_end)"
   ]
  },
  {
   "cell_type": "code",
   "execution_count": null,
   "id": "51feea2e",
   "metadata": {},
   "outputs": [],
   "source": [
    "# Filter a list of files based on date pattern\n",
    "import glob\n",
    "dates = get_ARM_formated_dates(start_date=date_start, end_date=date_end)\n",
    "files_filter = []\n",
    "for date in dates:\n",
    "    files_filter += glob.glob(f'{dir_path}/*.{date}*.*')\n",
    "    files_filter\n",
    "files_filter"
   ]
  },
  {
   "cell_type": "code",
   "execution_count": null,
   "id": "b0e5d0d7",
   "metadata": {},
   "outputs": [],
   "source": [
    "# Load files as a single dataset\n",
    "files_list = files_filter \n",
    "ds = act.io.armfiles.read_netcdf(files_list)\n",
    "ds.clean.cleanup()\n",
    "print(f'{len(files_list)} files loaded')\n",
    "ds\n"
   ]
  },
  {
   "attachments": {},
   "cell_type": "markdown",
   "id": "4a551094-9ec0-4b64-b80a-9940573c2f50",
   "metadata": {},
   "source": [
    "## Plot time series data\n",
    "#### Define the list of variables to be plotted:"
   ]
  },
  {
   "cell_type": "code",
   "execution_count": null,
   "id": "d09b789e-84f1-4605-846b-a72c110c8048",
   "metadata": {},
   "outputs": [],
   "source": [
    "variables_to_plot = ['hemisp_narrowband_filter1', 'hemisp_narrowband_filter2', 'hemisp_narrowband_filter3']"
   ]
  },
  {
   "cell_type": "code",
   "execution_count": null,
   "id": "3458fb08-035b-4898-9253-0a94e6f9c97b",
   "metadata": {},
   "outputs": [],
   "source": [
    "ts_display = act.plotting.TimeSeriesDisplay(ds)\n",
    "ts_display.add_subplots((len(variables_to_plot),), figsize = (9.5,4*len(variables_to_plot)))\n",
    "\n",
    "for i,v in enumerate(variables_to_plot):\n",
    "    ts_ax = ts_display.plot(v, subplot_index=(i,), set_title=ds.variables[v].attrs['long_name'],)\n",
    "    ts_ax.grid()\n",
    "\n",
    "plt.show()\n"
   ]
  },
  {
   "attachments": {},
   "cell_type": "markdown",
   "id": "194399aa-1907-452b-8ba9-bc31d7f60291",
   "metadata": {},
   "source": [
    "## Quality check plots\n",
    "#### Define variable for QC plot"
   ]
  },
  {
   "cell_type": "code",
   "execution_count": null,
   "id": "9a0ef63d-3eeb-48fc-a24a-43258b6134b8",
   "metadata": {},
   "outputs": [],
   "source": [
    "qc_variable = 'hemisp_broadband'"
   ]
  },
  {
   "cell_type": "code",
   "execution_count": null,
   "id": "532663a3-4dc0-4497-bda8-018c5f91e1c4",
   "metadata": {},
   "outputs": [],
   "source": [
    "# QC Plot\n",
    "if ('qc_'+qc_variable) in ds.variables:\n",
    "\n",
    "    # Plot\n",
    "    qc_display = act.plotting.TimeSeriesDisplay(ds)\n",
    "    qc_display.add_subplots((2,), figsize = (9.5,10))\n",
    "    qc_ax = qc_display.plot(qc_variable, subplot_index=(0,), set_title=\"QC results on field: \" + qc_variable,)\n",
    "    qc_ax.grid()\n",
    "    qc_display.qc_flag_block_plot(qc_variable, subplot_index=(1,))\n",
    "\n",
    "    plt.show()\n",
    "else:\n",
    "    print(f'QC not available for the selected field: {qc_variable}')\n"
   ]
  },
  {
   "attachments": {},
   "cell_type": "markdown",
   "id": "2308db16-f362-4033-a11a-c3e5e75ad9ba",
   "metadata": {},
   "source": [
    "## Field selection dropdown menu\n",
    "Select variable to be plotted from a dropdown menu"
   ]
  },
  {
   "cell_type": "code",
   "execution_count": null,
   "id": "d5792fa8-2253-441a-8ac6-1e07a0345031",
   "metadata": {},
   "outputs": [],
   "source": [
    "plt.ioff()\n",
    "\n",
    "# populate dropdown menu with available variables \n",
    "available_variables = [v for v in ds.variables if not('time' in v or v.startswith('qc_') or v.startswith('source_')) and 'long_name' in ds.variables[v].attrs]\n",
    "d_variable = 'hemisp_narrowband_filter1'\n",
    "dropdown = widgets.Dropdown(\n",
    "    options = [(ds.variables[v].attrs['long_name'], v) for v in available_variables],\n",
    "    value= d_variable,\n",
    "    description='Field:',\n",
    "    disabled=False,\n",
    ")\n",
    "dropdown.layout.margin = '0px 30% 0px 20%'\n",
    "dropdown.layout.width = '50%'\n",
    "\n",
    "# set up display\n",
    "i_display = act.plotting.TimeSeriesDisplay(ds)\n",
    "i_display.add_subplots((1,), figsize = (9.5,5))\n",
    "i_ax = i_display.plot(d_variable, subplot_index=(0,), set_title=ds.variables[d_variable].attrs['long_name'],)\n",
    "i_ax.grid()\n",
    "i_fig = i_display.fig\n",
    "\n",
    "# update plot callback function\n",
    "def update_plot(change):\n",
    "    i_ax.cla()\n",
    "    i_ax_new = i_display.plot(change.new, subplot_index=(0,), set_title=ds.variables[change.new].attrs['long_name'],)\n",
    "    i_ax_new.grid()\n",
    "    i_fig.canvas.draw()\n",
    "    i_fig.canvas.flush_events()\n",
    "\n",
    "dropdown.observe(update_plot, names='value')\n",
    "\n",
    "widgets.AppLayout(\n",
    "    header=dropdown,\n",
    "    center=i_fig.canvas,\n",
    "    pane_heights=[1, 6,1]\n",
    ")\n"
   ]
  }
 ],
 "metadata": {
  "kernelspec": {
   "display_name": "Python 3",
   "language": "python",
   "name": "python3"
  },
  "language_info": {
   "codemirror_mode": {
    "name": "ipython",
    "version": 3
   },
   "file_extension": ".py",
   "mimetype": "text/x-python",
   "name": "python",
   "nbconvert_exporter": "python",
   "pygments_lexer": "ipython3",
   "version": "3.9.12"
  },
  "widgets": {
   "application/vnd.jupyter.widget-state+json": {
    "state": {},
    "version_major": 2,
    "version_minor": 0
   }
  }
 },
 "nbformat": 4,
 "nbformat_minor": 5
}
