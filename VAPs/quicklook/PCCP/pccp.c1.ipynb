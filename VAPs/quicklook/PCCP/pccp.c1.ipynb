{
 "cells": [
  {
   "attachments": {},
   "cell_type": "markdown",
   "id": "70840257-70e4-45e2-b491-14bff5a257a3",
   "metadata": {},
   "source": [
    "# PCCP.C1 Plots\n",
    "\n",
    "[Click here](https://www.arm.gov/capabilities/vaps/pccp) for more information about this vap."
   ]
  },
  {
   "cell_type": "code",
   "execution_count": null,
   "id": "460fd89f-e034-452c-b837-f65c5958264f",
   "metadata": {},
   "outputs": [],
   "source": [
    "%matplotlib widget\n",
    "import ipywidgets as widgets\n",
    "\n",
    "import matplotlib.pyplot as plt\n",
    "import ipywidgets as widgets\n",
    "import numpy as np\n",
    "import pandas as pd\n",
    "import os\n",
    "from datetime import datetime\n",
    "\n",
    "import act\n",
    "import xarray as xr\n",
    "\n",
    "# Data archive directory\n",
    "DATA_DIR = r'/data/archive/'\n",
    "\n",
    "# Datastream info\n",
    "DATASTREAM_NAME = 'pccp'\n",
    "DATA_LEVEL = 'c1'\n",
    "LOCATIONS = [{'end_date': '2022-09-26', 'facility': 'S5', 'site': 'hou', 'start_date': '2021-09-17'}, {'end_date': '2020-03-03', 'facility': 'E43', 'site': 'sgp', 'start_date': '2017-09-01'}, {'end_date': '2019-12-01', 'facility': 'E44', 'site': 'sgp', 'start_date': '2017-09-01'}, {'end_date': '2019-10-30', 'facility': 'E45', 'site': 'sgp', 'start_date': '2017-09-01'}]"
   ]
  },
  {
   "attachments": {},
   "cell_type": "markdown",
   "id": "9faaf875",
   "metadata": {},
   "source": [
    "## Define site, facility, and date range"
   ]
  },
  {
   "cell_type": "code",
   "execution_count": null,
   "id": "ac6764f5",
   "metadata": {},
   "outputs": [],
   "source": [
    "print(\"The following locations and date ranges are available for this VAP:\")\n",
    "display(pd.DataFrame(LOCATIONS, columns=['site', 'facility', 'start_date', 'end_date']))"
   ]
  },
  {
   "attachments": {},
   "cell_type": "markdown",
   "id": "8d132223",
   "metadata": {},
   "source": [
    "#### Define site, facility, and date range (date format: YYYY-MM-DD) using the variables below:"
   ]
  },
  {
   "cell_type": "code",
   "execution_count": null,
   "id": "e563983a",
   "metadata": {},
   "outputs": [],
   "source": [
    "site_facility = ( 'sgp', 'E43' )\n",
    "\n",
    "date_start = '2020-03-02'\n",
    "date_end = '2020-03-03'"
   ]
  },
  {
   "attachments": {},
   "cell_type": "markdown",
   "id": "bccd3dfe-2f99-49a5-bace-ea37e8dd8fc3",
   "metadata": {},
   "source": [
    "## Load data files\n",
    "Load data files from /data/archive/"
   ]
  },
  {
   "cell_type": "code",
   "execution_count": null,
   "id": "cb4b9a26-c574-49c0-a521-658fa553e39e",
   "metadata": {},
   "outputs": [],
   "source": [
    "# Compile list of files\n",
    "site, facility = site_facility\n",
    "d_date_start = datetime.strptime(date_start, '%Y-%m-%d')\n",
    "d_date_end = datetime.strptime(date_end, '%Y-%m-%d')\n",
    "dir_path = os.path.join(DATA_DIR + site, site + DATASTREAM_NAME + facility + r'.' + DATA_LEVEL )\n",
    "dir_path\n"
   ]
  },
  {
   "cell_type": "code",
   "execution_count": null,
   "id": "6be8f3dc",
   "metadata": {},
   "outputs": [],
   "source": [
    "from datetime import date, timedelta\n",
    "import pandas as pd\n",
    "\n",
    "def get_ARM_formated_dates(start_date, end_date):\n",
    "    \"\"\"\n",
    "    Get a list of ARM conventional formated date lists, based on start_date and end_date(inclusive)\n",
    "    EXAMPLE:\n",
    "    get_ARM_formated_dates(start_date=\"20180219\", end_date=\"20180221\")\n",
    "    >> [\"20180219\", \"20180220\", \"20180221\"] \n",
    "    \"\"\"\n",
    "    \n",
    "    _start_date = pd.to_datetime(start_date)\n",
    "    _end_date = pd.to_datetime(end_date)\n",
    "    \n",
    "    delta = _end_date - _start_date   # returns timedelta    \n",
    "    dates = []\n",
    "\n",
    "    for i in range(delta.days + 1):\n",
    "        day = _start_date + timedelta(days=i)\n",
    "        day_formated = day.strftime(format=\"%Y%m%d\")\n",
    "        dates.append(day_formated)\n",
    "    return dates\n",
    "\n",
    "\n",
    "get_ARM_formated_dates(start_date=date_start, end_date=date_end)"
   ]
  },
  {
   "cell_type": "code",
   "execution_count": null,
   "id": "51feea2e",
   "metadata": {},
   "outputs": [],
   "source": [
    "# Filter a list of files based on date pattern\n",
    "import glob\n",
    "dates = get_ARM_formated_dates(start_date=date_start, end_date=date_end)\n",
    "files_filter = []\n",
    "for date in dates:\n",
    "    files_filter += glob.glob(f'{dir_path}/*.{date}*.*')\n",
    "    files_filter\n",
    "files_filter"
   ]
  },
  {
   "cell_type": "code",
   "execution_count": null,
   "id": "b0e5d0d7",
   "metadata": {},
   "outputs": [],
   "source": [
    "# Load files as a single dataset\n",
    "files_list = files_filter \n",
    "ds = act.io.armfiles.read_netcdf(files_list)\n",
    "ds.clean.cleanup()\n",
    "print(f'{len(files_list)} files loaded')\n",
    "ds\n"
   ]
  },
  {
   "cell_type": "markdown",
   "id": "822caf5f",
   "metadata": {},
   "source": [
    "## Point Cloud of Cloud of Points"
   ]
  },
  {
   "cell_type": "code",
   "execution_count": null,
   "id": "1fe5cb65",
   "metadata": {},
   "outputs": [],
   "source": [
    "# this variable represents the index of the data point that is being shown\n",
    "print(f\"Available time values: {ds.time.dt.strftime(r'%Y-%m-%d %H:%M:%S').values[0]} -- {ds.time.dt.strftime(r'%Y-%m-%d %H:%M:%S').values[-1]}\")\n"
   ]
  },
  {
   "cell_type": "code",
   "execution_count": null,
   "id": "b1c97574",
   "metadata": {},
   "outputs": [],
   "source": [
    "# Enter timestamp to plot (format: YYYY-MM-DD hh:mm:ss)\n",
    "display_time = '2020-03-02 15:00:00'\n",
    "\n",
    "# list available time stamps\n",
    "display_dt = datetime.strptime(display_time, r'%Y-%m-%d %H:%M:%S')\n",
    "available_times = np.array([datetime.combine(d,t) for d, t in zip(ds.time.dt.date.values,ds.time.dt.time.values)])\n",
    "# get closest time \n",
    "time_index = np.argmin(np.abs(available_times - display_dt))\n"
   ]
  },
  {
   "cell_type": "code",
   "execution_count": null,
   "id": "dc2401b0",
   "metadata": {},
   "outputs": [],
   "source": [
    "x_relative_var = ds.variables['x_relative'][time_index]\n",
    "y_relative_var = ds.variables['y_relative'][time_index]\n",
    "z_relative_var = ds.variables['z_relative'][time_index]\n",
    "\n",
    "# # Filter out values that exceed 50 km\n",
    "ind_nonzero = tuple(np.nonzero((np.abs(x_relative_var) < 50000)))\n",
    "print(len(x_relative_var[0]),' cloud points are extracted')\n"
   ]
  },
  {
   "cell_type": "code",
   "execution_count": null,
   "id": "8c0587f1",
   "metadata": {},
   "outputs": [],
   "source": [
    "x_slice = np.array(x_relative_var[ind_nonzero])/1000 # convert to km \n",
    "y_slice = np.array(y_relative_var[ind_nonzero])/1000\n",
    "z_slice = np.array(z_relative_var[ind_nonzero])/1000\n",
    "\n",
    "###2D plot of x,y variables in subplot(2,2,si)\n",
    "def plot2D(x,y,fig,si,xlabel,ylabel):\n",
    "    ax = fig.add_subplot(2,2,si)\n",
    "    ax.scatter(x, y, s=4, marker='o', c= 'gray')\n",
    "    ax.set_xlabel(xlabel)\n",
    "    ax.set_ylabel(ylabel)\n",
    "    ax.xaxis.labelpad = 5\n",
    "    ax.yaxis.labelpad = 5\n",
    "\n",
    "###3D plot of x,y,z variables in subplot(2,2,si)\n",
    "def plot3D(x,y,z,fig,si):\n",
    "    #check if data point count is sufficient for display\n",
    "    if (len(x)>10):\n",
    "        ax = fig.add_subplot(1,1,si, projection='3d')\n",
    "        x = [x[0:len(x)]]\n",
    "        y = [y[0:len(y)]]\n",
    "        z = [z[0:len(z)]]\n",
    "        x1 = int(min(min(x)))\n",
    "        x2 = int(max(max(x)))\n",
    "        y1 = int(min(min(y)))\n",
    "        y2 = int(max(max(y)))\n",
    "        z2 = int(max(max(z)))\n",
    "      \n",
    "        ax.scatter(x, y, z, c='gray', marker='o')\n",
    "        # ax.xaxis.set_ticks(np.arange(x1,x2,int((x2-x1+2)/4)+0.5))\n",
    "        # ax.yaxis.set_ticks(np.arange(y1,y2,int((y2-y1+2)/4)+0.5))\n",
    "        ax.view_init(elev=15, azim=-70)\n",
    "        ax.set_xlabel('X [km] ')\n",
    "        ax.set_ylabel('Y [km] ')\n",
    "        ax.xaxis.labelpad = 15\n",
    "        ax.yaxis.labelpad = 15\n",
    "        ax.zaxis.set_ticks(np.arange(0,int(z2+1),.5))\n",
    "        ax.set_zlabel('Z [km] ')\n",
    "        \n",
    "fig = plt.figure(figsize=(9.5,10))\n",
    "plot2D(x_slice,z_slice,fig,1,'direction eastward [km]','altitude above the ground [km]')\n",
    "plot2D(y_slice,z_slice,fig,2,'direction northward [km]','altitude above the ground [km]')\n",
    "plot2D(x_slice,y_slice,fig,3,'direction eastward [km]','direction northward [km]')\n",
    "fig = plt.figure(figsize=(9.5,10))\n",
    "plot3D(x_slice,y_slice,z_slice,fig,1)"
   ]
  }
 ],
 "metadata": {
  "kernelspec": {
   "display_name": "Python 3",
   "language": "python",
   "name": "python3"
  },
  "language_info": {
   "codemirror_mode": {
    "name": "ipython",
    "version": 3
   },
   "file_extension": ".py",
   "mimetype": "text/x-python",
   "name": "python",
   "nbconvert_exporter": "python",
   "pygments_lexer": "ipython3",
   "version": "3.9.12"
  },
  "widgets": {
   "application/vnd.jupyter.widget-state+json": {
    "state": {},
    "version_major": 2,
    "version_minor": 0
   }
  }
 },
 "nbformat": 4,
 "nbformat_minor": 5
}
